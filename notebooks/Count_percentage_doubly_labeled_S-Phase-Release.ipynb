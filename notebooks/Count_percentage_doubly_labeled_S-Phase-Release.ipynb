{
 "nbformat": 4,
 "nbformat_minor": 2,
 "metadata": {
  "language_info": {
   "name": "python",
   "codemirror_mode": {
    "name": "ipython",
    "version": 3
   },
   "version": "3.7.4-final"
  },
  "orig_nbformat": 2,
  "file_extension": ".py",
  "mimetype": "text/x-python",
  "name": "python",
  "npconvert_exporter": "python",
  "pygments_lexer": "ipython3",
  "version": 3,
  "kernelspec": {
   "name": "python3",
   "display_name": "Python 3"
  }
 },
 "cells": [
  {
   "cell_type": "code",
   "execution_count": 1,
   "metadata": {},
   "outputs": [],
   "source": [
    "import pyximport\n",
    "pyximport.install()\n",
    "from MMplot import Blackstyle as Bs\n",
    "import pysam\n",
    "from scHiC.seq_mismatches import get_mismatches_c\n",
    "import re\n",
    "import os\n",
    "import matplotlib.pyplot as plt\n",
    "import seaborn as sbn\n",
    "import numpy as np\n",
    "import pandas as pd\n",
    "import matplotlib"
   ]
  },
  {
   "cell_type": "markdown",
   "metadata": {},
   "source": [
    "# Define functions"
   ]
  },
  {
   "cell_type": "code",
   "execution_count": 10,
   "metadata": {},
   "outputs": [],
   "source": [
    "def getMissmatches(algn, mate, qual=30):\n",
    "    \"\"\"Takes a pysam alignment and will return the number of AG or TC \n",
    "    mutations that\n",
    "    have an equal or higher Phred score than the qual parameters.\"\"\"\n",
    "    seq = algn.query_sequence.upper()\n",
    "    quals = algn.query_qualities\n",
    "    aligned_pairs = algn.get_aligned_pairs(with_seq=True, matches_only=True)\n",
    "    mismatches = get_mismatches_c(seq, quals, aligned_pairs)\n",
    "    n_AG_muts = 0\n",
    "    n_TC_muts = 0\n",
    "    nMuts = 0\n",
    "    for mm in mismatches:\n",
    "        if mm[2] >= qual:\n",
    "            nMuts += 1\n",
    "        if (mm[0] == 'A' and mm[1] == 'G'):\n",
    "            if mm[2] >= qual:\n",
    "                n_AG_muts += 1\n",
    "        elif (mm[0] == 'T' and mm[1] == 'C'):\n",
    "            if mm[2] >= qual:\n",
    "                n_TC_muts += 1\n",
    "    return {f\"AG_{mate}\": n_AG_muts, f\"TC_{mate}\": n_TC_muts,\n",
    "            f\"N_muts_{mate}\": nMuts}\n",
    "\n",
    "\n",
    "def decideLabeledHalf(row, read=\"1\", th=2, otherMutTh=0):\n",
    "    \"\"\"To be used with pandas.DataFrame.apply() to be applied to every\n",
    "     row of a dataframe\"\"\"\n",
    "    mutType1 = row[f\"AG_{read}\"]\n",
    "    mutType2 = row[f\"TC_{read}\"]\n",
    "    totalMut = row[f\"N_muts_{read}\"]\n",
    "    if (mutType1 >= th) != (mutType2 >= th):  # != use as xor\n",
    "        if mutType1 >= th:\n",
    "            otherMut = totalMut - mutType1\n",
    "        if mutType2 >= th:\n",
    "            otherMut = totalMut - mutType2\n",
    "        if otherMut > otherMutTh:\n",
    "            return False\n",
    "        return True\n",
    "    return False\n",
    "\n",
    "\n",
    "def isMatePairGood(mate1, mate2, qual, qqual, alignHalfLen):\n",
    "    \"\"\"Checks whether matepair passes filtering criteria\"\"\"\n",
    "    # check if both mates are aligned\n",
    "    if mate1.is_unmapped or mate2.is_unmapped:\n",
    "        return False\n",
    "    # do quality filtering\n",
    "    if (mate1.mapq <= qual) or (np.mean(mate1.query_qualities) <= qqual):\n",
    "        return False\n",
    "    if (mate2.mapq <= qual) or (np.mean(mate2.query_qualities) <= qqual):\n",
    "        return False\n",
    "    # check if alignments are long enough\n",
    "    if len(mate1.get_reference_sequence()) < alignHalfLen:\n",
    "        return False\n",
    "    if len(mate2.get_reference_sequence()) < alignHalfLen:\n",
    "        return False\n",
    "    return True\n",
    "\n",
    "\n",
    "def countDoublyLabeledReads(samFiles, qual=20, qqual=0, posqual=30, alignHalfLen=240, stopCount=3000, infoTh=2, noiseTh=1):\n",
    "    \"\"\"Takes dictionary of files and counts the number of labeled reads\n",
    "    based on the filtering criteria.\n",
    "    qual --> minimum alignment quality of read\n",
    "    qqual --> minimum average phred-score of read\n",
    "    posQual --> minimum phredscore of point mutation\n",
    "    alignHalfLen --> minimum length of read\n",
    "    stopCount --> number of reads to consider\n",
    "    infoTh --> minimum number of informative reads on half read to be called labelled\n",
    "    noiseTh --> maximum number of noninformative mutations on half read to be called labelled\"\"\"\n",
    "    output = []\n",
    "    for barcode, samF in samFiles.items():\n",
    "        print(samF)\n",
    "        with pysam.AlignmentFile(samF, \"r\") as file1:\n",
    "            readnumb = 0\n",
    "            for mate1 in file1:\n",
    "                # check whether read is first in pair\n",
    "                if not mate1.is_read1:\n",
    "                    continue\n",
    "                # search for mate\n",
    "                found = False\n",
    "                badPair = False\n",
    "                while not found:\n",
    "                    mate2 = next(file1)\n",
    "                    if mate2.query_name != mate1.query_name:\n",
    "                        badPair = True\n",
    "                        break\n",
    "                    if mate2.is_read2:\n",
    "                        found = True\n",
    "                if badPair:\n",
    "                    continue\n",
    "                if readnumb >= stopCount:\n",
    "                    break\n",
    "                # check if both mates pass filters\n",
    "                if not isMatePairGood(mate1, mate2, qual, qqual, alignHalfLen):\n",
    "                    continue\n",
    "                readnumb += 1\n",
    "                mutsMate1 = getMissmatches(mate1, \"1\", posqual)\n",
    "                mutsMate2 = getMissmatches(mate2, \"2\", posqual)\n",
    "                temp = {**mutsMate1, **mutsMate2}\n",
    "                temp.update({\"barcode\": barcode})\n",
    "                output.append(temp)\n",
    "    # make output dataframe\n",
    "    outFrame = pd.DataFrame(output)\n",
    "    outFrame.loc[:, \"lab1\"] = outFrame.apply(decideLabeledHalf, read=\"1\",  th=infoTh, otherMutTh=noiseTh, axis=1)\n",
    "    outFrame.loc[:, \"lab2\"] = outFrame.apply(decideLabeledHalf, read=\"2\",th=infoTh, otherMutTh=noiseTh, axis=1)\n",
    "    outFrame.loc[:, \"both\"] = outFrame[\"lab1\"] & outFrame[\"lab2\"]\n",
    "    return outFrame\n"
   ]
  },
  {
   "cell_type": "markdown",
   "metadata": {},
   "source": [
    "# Load samples"
   ]
  },
  {
   "cell_type": "code",
   "execution_count": 3,
   "metadata": {},
   "outputs": [],
   "source": [
    "repDir1 = \"/groups/gerlich/experiments/Experiments_004600/004615/bwa_results\"\n",
    "\n",
    "\n",
    "# define sample mapping\n",
    "\n",
    "sampleMapping = {\"AGTCAA\": \"No Release control\",\n",
    "                 \"AGTTCC\": \"No Release 4sT\",\n",
    "                 \"ATGTCA\": \"2h Release 4sT\",\n",
    "                 \"CCGTCC\": \"4h Release 4sT\",\n",
    "                 \"GTCCGC\": \"8h Release 4sT\",\n",
    "                 \"GTGAAA\": \"G2 4sT\"}\n",
    "\n",
    "# Define samfiles to be compared\n",
    "\n",
    "matchString = re.compile(r\".*.sam\")\n",
    "\n",
    "\n",
    "samFiles = {}\n",
    "\n",
    "for samFile in (i for i in os.listdir(repDir1) if matchString.search(i)):\n",
    "    barcode = samFile[:6]\n",
    "    if barcode not in sampleMapping:\n",
    "        continue\n",
    "    samFiles[sampleMapping[barcode]] = os.path.join(repDir1, samFile)"
   ]
  },
  {
   "cell_type": "code",
   "execution_count": 13,
   "metadata": {},
   "outputs": [],
   "source": [
    "repDirs2 = [\"/scratch-cbe/users/christoph.langer/nf-workdir/4638-Novaseq/4638-Novaseq/bwa_results/\", \n",
    "            \"/groups/gerlich/experiments/Experiments_004600/004605/bwa_results\"]\n",
    "\n",
    "\n",
    "# define sample mapping\n",
    "\n",
    "sampleMapping2 = {\"ATCACG\": \"No Release control\",\n",
    "                  \"CGATGT\": \"No Release 4sT\",\n",
    "                  \"TTAGGC\": \"2h Release 4sT\",\n",
    "                  \"TGACCA\": \"4h Release 4sT\",\n",
    "                  \"ACAGTG\": \"8h Release 4sT\",\n",
    "                  \"GCCAAT\": \"G2 4sT\"}\n",
    "\n",
    "# Define samfiles to be compared\n",
    "\n",
    "matchString = re.compile(r\".*.sam\")\n",
    "\n",
    "\n",
    "samFiles2 = {}\n",
    "\n",
    "for directory in repDirs2:\n",
    "    for samFile in (i for i in os.listdir(directory) if matchString.search(i)):\n",
    "        barcode = samFile[:6]\n",
    "        if barcode not in sampleMapping2:\n",
    "            continue\n",
    "        samFiles2[sampleMapping2[barcode]] = os.path.join(directory, samFile)"
   ]
  },
  {
   "cell_type": "code",
   "execution_count": 14,
   "metadata": {},
   "outputs": [
    {
     "data": {
      "text/plain": "{'8h Release 4sT': '/scratch-cbe/users/christoph.langer/nf-workdir/4638-Novaseq/4638-Novaseq/bwa_results/ACAGTG_S7_bwa.sam',\n 'No Release 4sT': '/scratch-cbe/users/christoph.langer/nf-workdir/4638-Novaseq/4638-Novaseq/bwa_results/CGATGT_S4_bwa.sam',\n '4h Release 4sT': '/scratch-cbe/users/christoph.langer/nf-workdir/4638-Novaseq/4638-Novaseq/bwa_results/TGACCA_S6_bwa.sam',\n '2h Release 4sT': '/scratch-cbe/users/christoph.langer/nf-workdir/4638-Novaseq/4638-Novaseq/bwa_results/TTAGGC_S5_bwa.sam',\n 'No Release control': '/scratch-cbe/users/christoph.langer/nf-workdir/4638-Novaseq/4638-Novaseq/bwa_results/ATCACG_S3_bwa.sam',\n 'G2 4sT': '/groups/gerlich/experiments/Experiments_004600/004605/bwa_results/GCCAAT_S1_bwa.sam'}"
     },
     "execution_count": 14,
     "metadata": {},
     "output_type": "execute_result"
    }
   ],
   "source": [
    "samFiles2"
   ]
  },
  {
   "cell_type": "markdown",
   "metadata": {},
   "source": [
    "# Get number of doubly labeled reads from both replicates"
   ]
  },
  {
   "cell_type": "code",
   "execution_count": 15,
   "metadata": {},
   "outputs": [
    {
     "name": "stdout",
     "output_type": "stream",
     "text": "/groups/gerlich/experiments/Experiments_004600/004615/bwa_results/GTCCGC_S6_bwa.sam\n/groups/gerlich/experiments/Experiments_004600/004615/bwa_results/ATGTCA_S3_bwa.sam\n/groups/gerlich/experiments/Experiments_004600/004615/bwa_results/GTGAAA_S7_bwa.sam\n/groups/gerlich/experiments/Experiments_004600/004615/bwa_results/AGTCAA_S1_bwa.sam\n/groups/gerlich/experiments/Experiments_004600/004615/bwa_results/CCGTCC_S4_bwa.sam\n/groups/gerlich/experiments/Experiments_004600/004615/bwa_results/AGTTCC_S2_bwa.sam\n"
    }
   ],
   "source": [
    "rep1Lab = countDoublyLabeledReads(samFiles, stopCount=100000)"
   ]
  },
  {
   "cell_type": "code",
   "execution_count": 16,
   "metadata": {},
   "outputs": [
    {
     "name": "stdout",
     "output_type": "stream",
     "text": "/scratch-cbe/users/christoph.langer/nf-workdir/4638-Novaseq/4638-Novaseq/bwa_results/ACAGTG_S7_bwa.sam\n/scratch-cbe/users/christoph.langer/nf-workdir/4638-Novaseq/4638-Novaseq/bwa_results/CGATGT_S4_bwa.sam\n/scratch-cbe/users/christoph.langer/nf-workdir/4638-Novaseq/4638-Novaseq/bwa_results/TGACCA_S6_bwa.sam\n/scratch-cbe/users/christoph.langer/nf-workdir/4638-Novaseq/4638-Novaseq/bwa_results/TTAGGC_S5_bwa.sam\n/scratch-cbe/users/christoph.langer/nf-workdir/4638-Novaseq/4638-Novaseq/bwa_results/ATCACG_S3_bwa.sam\n/groups/gerlich/experiments/Experiments_004600/004605/bwa_results/GCCAAT_S1_bwa.sam\n"
    }
   ],
   "source": [
    "rep2Lab = countDoublyLabeledReads(samFiles2, stopCount=100000)"
   ]
  },
  {
   "cell_type": "markdown",
   "metadata": {},
   "source": [
    "# Pool samples and calculate mean percentage of doubly labelled reads"
   ]
  },
  {
   "cell_type": "code",
   "execution_count": 17,
   "metadata": {},
   "outputs": [],
   "source": [
    "pooledLab = pd.concat((rep1Lab, rep2Lab))\n",
    "\n",
    "# calculate percentage double\n",
    "\n",
    "grouped = pooledLab.groupby(\"barcode\").mean().reset_index()\n",
    "grouped.loc[:, \"both\"] = grouped[\"both\"] * 100"
   ]
  },
  {
   "cell_type": "markdown",
   "metadata": {},
   "source": [
    "# Plot result"
   ]
  },
  {
   "cell_type": "code",
   "execution_count": 19,
   "metadata": {},
   "outputs": [
    {
     "data": {
      "image/png": "[encoded data removed]",
      "image/svg+xml": "<?xml version=\"1.0\" encoding=\"utf-8\" standalone=\"no\"?>\n<!DOCTYPE svg PUBLIC \"-//W3C//DTD SVG 1.1//EN\"\n  \"http://www.w3.org/Graphics/SVG/1.1/DTD/svg11.dtd\">\n<!-- Created with matplotlib (https://matplotlib.org/) -->\n<svg height=\"378.239062pt\" version=\"1.1\" viewBox=\"0 0 324.90625 378.239062\" width=\"324.90625pt\" xmlns=\"http://www.w3.org/2000/svg\" xmlns:xlink=\"http://www.w3.org/1999/xlink\">\n <defs>\n  <style type=\"text/css\">\n*{stroke-linecap:butt;stroke-linejoin:round;}\n  </style>\n </defs>\n <g id=\"figure_1\">\n  <g id=\"patch_1\">\n   <path d=\"M 0 378.239062 \nL 324.90625 378.239062 \nL 324.90625 0 \nL 0 0 \nz\n\" style=\"fill:none;\"/>\n  </g>\n  <g id=\"axes_1\">\n   <g id=\"patch_2\">\n    <path d=\"M 38.70625 279 \nL 317.70625 279 \nL 317.70625 7.2 \nL 38.70625 7.2 \nz\n\" style=\"fill:#ffffff;\"/>\n   </g>\n   <g id=\"patch_3\">\n    <path clip-path=\"url(#p798ccefc8c)\" d=\"M 43.35625 279 \nL 80.55625 279 \nL 80.55625 278.384723 \nL 43.35625 278.384723 \nz\n\"/>\n   </g>\n   <g id=\"patch_4\">\n    <path clip-path=\"url(#p798ccefc8c)\" d=\"M 89.85625 279 \nL 127.05625 279 \nL 127.05625 278.251413 \nL 89.85625 278.251413 \nz\n\"/>\n   </g>\n   <g id=\"patch_5\">\n    <path clip-path=\"url(#p798ccefc8c)\" d=\"M 136.35625 279 \nL 173.55625 279 \nL 173.55625 254.142823 \nL 136.35625 254.142823 \nz\n\"/>\n   </g>\n   <g id=\"patch_6\">\n    <path clip-path=\"url(#p798ccefc8c)\" d=\"M 182.85625 279 \nL 220.05625 279 \nL 220.05625 162.230746 \nL 182.85625 162.230746 \nz\n\"/>\n   </g>\n   <g id=\"patch_7\">\n    <path clip-path=\"url(#p798ccefc8c)\" d=\"M 229.35625 279 \nL 266.55625 279 \nL 266.55625 64.104374 \nL 229.35625 64.104374 \nz\n\"/>\n   </g>\n   <g id=\"patch_8\">\n    <path clip-path=\"url(#p798ccefc8c)\" d=\"M 275.85625 279 \nL 313.05625 279 \nL 313.05625 20.142857 \nL 275.85625 20.142857 \nz\n\"/>\n   </g>\n   <g id=\"matplotlib.axis_1\">\n    <g id=\"xtick_1\">\n     <g id=\"line2d_1\">\n      <defs>\n       <path d=\"M 0 0 \nL 0 3.5 \n\" id=\"m6fa68de38c\" style=\"stroke:#000000;stroke-width:0.8;\"/>\n      </defs>\n      <g>\n       <use style=\"stroke:#000000;stroke-width:0.8;\" x=\"61.95625\" xlink:href=\"#m6fa68de38c\" y=\"279\"/>\n      </g>\n     </g>\n     <g id=\"text_1\">\n      <!-- No Release control -->\n      <defs>\n       <path d=\"M 7.625 0 \nL 7.625 71.578125 \nL 17.328125 71.578125 \nL 54.9375 15.375 \nL 54.9375 71.578125 \nL 64.015625 71.578125 \nL 64.015625 0 \nL 54.296875 0 \nL 16.703125 56.25 \nL 16.703125 0 \nz\n\" id=\"ArialMT-78\"/>\n       <path d=\"M 3.328125 25.921875 \nQ 3.328125 40.328125 11.328125 47.265625 \nQ 18.015625 53.03125 27.640625 53.03125 \nQ 38.328125 53.03125 45.109375 46.015625 \nQ 51.90625 39.015625 51.90625 26.65625 \nQ 51.90625 16.65625 48.90625 10.90625 \nQ 45.90625 5.171875 40.15625 2 \nQ 34.421875 -1.171875 27.640625 -1.171875 \nQ 16.75 -1.171875 10.03125 5.8125 \nQ 3.328125 12.796875 3.328125 25.921875 \nz\nM 12.359375 25.921875 \nQ 12.359375 15.96875 16.703125 11.015625 \nQ 21.046875 6.0625 27.640625 6.0625 \nQ 34.1875 6.0625 38.53125 11.03125 \nQ 42.875 16.015625 42.875 26.21875 \nQ 42.875 35.84375 38.5 40.796875 \nQ 34.125 45.75 27.640625 45.75 \nQ 21.046875 45.75 16.703125 40.8125 \nQ 12.359375 35.890625 12.359375 25.921875 \nz\n\" id=\"ArialMT-111\"/>\n       <path id=\"ArialMT-32\"/>\n       <path d=\"M 7.859375 0 \nL 7.859375 71.578125 \nL 39.59375 71.578125 \nQ 49.171875 71.578125 54.140625 69.640625 \nQ 59.125 67.71875 62.109375 62.828125 \nQ 65.09375 57.953125 65.09375 52.046875 \nQ 65.09375 44.4375 60.15625 39.203125 \nQ 55.21875 33.984375 44.921875 32.5625 \nQ 48.6875 30.765625 50.640625 29 \nQ 54.78125 25.203125 58.5 19.484375 \nL 70.953125 0 \nL 59.03125 0 \nL 49.5625 14.890625 \nQ 45.40625 21.34375 42.71875 24.75 \nQ 40.046875 28.171875 37.921875 29.53125 \nQ 35.796875 30.90625 33.59375 31.453125 \nQ 31.984375 31.78125 28.328125 31.78125 \nL 17.328125 31.78125 \nL 17.328125 0 \nz\nM 17.328125 39.984375 \nL 37.703125 39.984375 \nQ 44.1875 39.984375 47.84375 41.328125 \nQ 51.515625 42.671875 53.421875 45.625 \nQ 55.328125 48.578125 55.328125 52.046875 \nQ 55.328125 57.125 51.640625 60.390625 \nQ 47.953125 63.671875 39.984375 63.671875 \nL 17.328125 63.671875 \nz\n\" id=\"ArialMT-82\"/>\n       <path d=\"M 42.09375 16.703125 \nL 51.171875 15.578125 \nQ 49.03125 7.625 43.21875 3.21875 \nQ 37.40625 -1.171875 28.375 -1.171875 \nQ 17 -1.171875 10.328125 5.828125 \nQ 3.65625 12.84375 3.65625 25.484375 \nQ 3.65625 38.578125 10.390625 45.796875 \nQ 17.140625 53.03125 27.875 53.03125 \nQ 38.28125 53.03125 44.875 45.953125 \nQ 51.46875 38.875 51.46875 26.03125 \nQ 51.46875 25.25 51.421875 23.6875 \nL 12.75 23.6875 \nQ 13.234375 15.140625 17.578125 10.59375 \nQ 21.921875 6.0625 28.421875 6.0625 \nQ 33.25 6.0625 36.671875 8.59375 \nQ 40.09375 11.140625 42.09375 16.703125 \nz\nM 13.234375 30.90625 \nL 42.1875 30.90625 \nQ 41.609375 37.453125 38.875 40.71875 \nQ 34.671875 45.796875 27.984375 45.796875 \nQ 21.921875 45.796875 17.796875 41.75 \nQ 13.671875 37.703125 13.234375 30.90625 \nz\n\" id=\"ArialMT-101\"/>\n       <path d=\"M 6.390625 0 \nL 6.390625 71.578125 \nL 15.1875 71.578125 \nL 15.1875 0 \nz\n\" id=\"ArialMT-108\"/>\n       <path d=\"M 40.4375 6.390625 \nQ 35.546875 2.25 31.03125 0.53125 \nQ 26.515625 -1.171875 21.34375 -1.171875 \nQ 12.796875 -1.171875 8.203125 3 \nQ 3.609375 7.171875 3.609375 13.671875 \nQ 3.609375 17.484375 5.34375 20.625 \nQ 7.078125 23.78125 9.890625 25.6875 \nQ 12.703125 27.59375 16.21875 28.5625 \nQ 18.796875 29.25 24.03125 29.890625 \nQ 34.671875 31.15625 39.703125 32.90625 \nQ 39.75 34.71875 39.75 35.203125 \nQ 39.75 40.578125 37.25 42.78125 \nQ 33.890625 45.75 27.25 45.75 \nQ 21.046875 45.75 18.09375 43.578125 \nQ 15.140625 41.40625 13.71875 35.890625 \nL 5.125 37.0625 \nQ 6.296875 42.578125 8.984375 45.96875 \nQ 11.671875 49.359375 16.75 51.1875 \nQ 21.828125 53.03125 28.515625 53.03125 \nQ 35.15625 53.03125 39.296875 51.46875 \nQ 43.453125 49.90625 45.40625 47.53125 \nQ 47.359375 45.171875 48.140625 41.546875 \nQ 48.578125 39.3125 48.578125 33.453125 \nL 48.578125 21.734375 \nQ 48.578125 9.46875 49.140625 6.21875 \nQ 49.703125 2.984375 51.375 0 \nL 42.1875 0 \nQ 40.828125 2.734375 40.4375 6.390625 \nz\nM 39.703125 26.03125 \nQ 34.90625 24.078125 25.34375 22.703125 \nQ 19.921875 21.921875 17.671875 20.9375 \nQ 15.4375 19.96875 14.203125 18.09375 \nQ 12.984375 16.21875 12.984375 13.921875 \nQ 12.984375 10.40625 15.640625 8.0625 \nQ 18.3125 5.71875 23.4375 5.71875 \nQ 28.515625 5.71875 32.46875 7.9375 \nQ 36.421875 10.15625 38.28125 14.015625 \nQ 39.703125 17 39.703125 22.796875 \nz\n\" id=\"ArialMT-97\"/>\n       <path d=\"M 3.078125 15.484375 \nL 11.765625 16.84375 \nQ 12.5 11.625 15.84375 8.84375 \nQ 19.1875 6.0625 25.203125 6.0625 \nQ 31.25 6.0625 34.171875 8.515625 \nQ 37.109375 10.984375 37.109375 14.3125 \nQ 37.109375 17.28125 34.515625 19 \nQ 32.71875 20.171875 25.53125 21.96875 \nQ 15.875 24.421875 12.140625 26.203125 \nQ 8.40625 27.984375 6.46875 31.125 \nQ 4.546875 34.28125 4.546875 38.09375 \nQ 4.546875 41.546875 6.125 44.5 \nQ 7.71875 47.46875 10.453125 49.421875 \nQ 12.5 50.921875 16.03125 51.96875 \nQ 19.578125 53.03125 23.640625 53.03125 \nQ 29.734375 53.03125 34.34375 51.265625 \nQ 38.96875 49.515625 41.15625 46.5 \nQ 43.359375 43.5 44.1875 38.484375 \nL 35.59375 37.3125 \nQ 35.015625 41.3125 32.203125 43.546875 \nQ 29.390625 45.796875 24.265625 45.796875 \nQ 18.21875 45.796875 15.625 43.796875 \nQ 13.03125 41.796875 13.03125 39.109375 \nQ 13.03125 37.40625 14.109375 36.03125 \nQ 15.1875 34.625 17.484375 33.6875 \nQ 18.796875 33.203125 25.25 31.453125 \nQ 34.578125 28.953125 38.25 27.359375 \nQ 41.9375 25.78125 44.03125 22.75 \nQ 46.140625 19.734375 46.140625 15.234375 \nQ 46.140625 10.84375 43.578125 6.953125 \nQ 41.015625 3.078125 36.171875 0.953125 \nQ 31.34375 -1.171875 25.25 -1.171875 \nQ 15.140625 -1.171875 9.84375 3.03125 \nQ 4.546875 7.234375 3.078125 15.484375 \nz\n\" id=\"ArialMT-115\"/>\n       <path d=\"M 40.4375 19 \nL 49.078125 17.875 \nQ 47.65625 8.9375 41.8125 3.875 \nQ 35.984375 -1.171875 27.484375 -1.171875 \nQ 16.84375 -1.171875 10.375 5.78125 \nQ 3.90625 12.75 3.90625 25.734375 \nQ 3.90625 34.125 6.6875 40.421875 \nQ 9.46875 46.734375 15.15625 49.875 \nQ 20.84375 53.03125 27.546875 53.03125 \nQ 35.984375 53.03125 41.359375 48.75 \nQ 46.734375 44.484375 48.25 36.625 \nL 39.703125 35.296875 \nQ 38.484375 40.53125 35.375 43.15625 \nQ 32.28125 45.796875 27.875 45.796875 \nQ 21.234375 45.796875 17.078125 41.03125 \nQ 12.9375 36.28125 12.9375 25.984375 \nQ 12.9375 15.53125 16.9375 10.796875 \nQ 20.953125 6.0625 27.390625 6.0625 \nQ 32.5625 6.0625 36.03125 9.234375 \nQ 39.5 12.40625 40.4375 19 \nz\n\" id=\"ArialMT-99\"/>\n       <path d=\"M 6.59375 0 \nL 6.59375 51.859375 \nL 14.5 51.859375 \nL 14.5 44.484375 \nQ 20.21875 53.03125 31 53.03125 \nQ 35.6875 53.03125 39.625 51.34375 \nQ 43.5625 49.65625 45.515625 46.921875 \nQ 47.46875 44.1875 48.25 40.4375 \nQ 48.734375 37.984375 48.734375 31.890625 \nL 48.734375 0 \nL 39.9375 0 \nL 39.9375 31.546875 \nQ 39.9375 36.921875 38.90625 39.578125 \nQ 37.890625 42.234375 35.28125 43.8125 \nQ 32.671875 45.40625 29.15625 45.40625 \nQ 23.53125 45.40625 19.453125 41.84375 \nQ 15.375 38.28125 15.375 28.328125 \nL 15.375 0 \nz\n\" id=\"ArialMT-110\"/>\n       <path d=\"M 25.78125 7.859375 \nL 27.046875 0.09375 \nQ 23.34375 -0.6875 20.40625 -0.6875 \nQ 15.625 -0.6875 12.984375 0.828125 \nQ 10.359375 2.34375 9.28125 4.8125 \nQ 8.203125 7.28125 8.203125 15.1875 \nL 8.203125 45.015625 \nL 1.765625 45.015625 \nL 1.765625 51.859375 \nL 8.203125 51.859375 \nL 8.203125 64.703125 \nL 16.9375 69.96875 \nL 16.9375 51.859375 \nL 25.78125 51.859375 \nL 25.78125 45.015625 \nL 16.9375 45.015625 \nL 16.9375 14.703125 \nQ 16.9375 10.9375 17.40625 9.859375 \nQ 17.875 8.796875 18.921875 8.15625 \nQ 19.96875 7.515625 21.921875 7.515625 \nQ 23.390625 7.515625 25.78125 7.859375 \nz\n\" id=\"ArialMT-116\"/>\n       <path d=\"M 6.5 0 \nL 6.5 51.859375 \nL 14.40625 51.859375 \nL 14.40625 44 \nQ 17.4375 49.515625 20 51.265625 \nQ 22.5625 53.03125 25.640625 53.03125 \nQ 30.078125 53.03125 34.671875 50.203125 \nL 31.640625 42.046875 \nQ 28.421875 43.953125 25.203125 43.953125 \nQ 22.3125 43.953125 20.015625 42.21875 \nQ 17.71875 40.484375 16.75 37.40625 \nQ 15.28125 32.71875 15.28125 27.15625 \nL 15.28125 0 \nz\n\" id=\"ArialMT-114\"/>\n      </defs>\n      <g transform=\"translate(64.541406 371.039062)rotate(-90)scale(0.1 -0.1)\">\n       <use xlink:href=\"#ArialMT-78\"/>\n       <use x=\"72.216797\" xlink:href=\"#ArialMT-111\"/>\n       <use x=\"127.832031\" xlink:href=\"#ArialMT-32\"/>\n       <use x=\"155.615234\" xlink:href=\"#ArialMT-82\"/>\n       <use x=\"227.832031\" xlink:href=\"#ArialMT-101\"/>\n       <use x=\"283.447266\" xlink:href=\"#ArialMT-108\"/>\n       <use x=\"305.664062\" xlink:href=\"#ArialMT-101\"/>\n       <use x=\"361.279297\" xlink:href=\"#ArialMT-97\"/>\n       <use x=\"416.894531\" xlink:href=\"#ArialMT-115\"/>\n       <use x=\"466.894531\" xlink:href=\"#ArialMT-101\"/>\n       <use x=\"522.509766\" xlink:href=\"#ArialMT-32\"/>\n       <use x=\"550.292969\" xlink:href=\"#ArialMT-99\"/>\n       <use x=\"600.292969\" xlink:href=\"#ArialMT-111\"/>\n       <use x=\"655.908203\" xlink:href=\"#ArialMT-110\"/>\n       <use x=\"711.523438\" xlink:href=\"#ArialMT-116\"/>\n       <use x=\"739.306641\" xlink:href=\"#ArialMT-114\"/>\n       <use x=\"772.607422\" xlink:href=\"#ArialMT-111\"/>\n       <use x=\"828.222656\" xlink:href=\"#ArialMT-108\"/>\n      </g>\n     </g>\n    </g>\n    <g id=\"xtick_2\">\n     <g id=\"line2d_2\">\n      <g>\n       <use style=\"stroke:#000000;stroke-width:0.8;\" x=\"108.45625\" xlink:href=\"#m6fa68de38c\" y=\"279\"/>\n      </g>\n     </g>\n     <g id=\"text_2\">\n      <!-- No Release 4sT -->\n      <defs>\n       <path d=\"M 32.328125 0 \nL 32.328125 17.140625 \nL 1.265625 17.140625 \nL 1.265625 25.203125 \nL 33.9375 71.578125 \nL 41.109375 71.578125 \nL 41.109375 25.203125 \nL 50.78125 25.203125 \nL 50.78125 17.140625 \nL 41.109375 17.140625 \nL 41.109375 0 \nz\nM 32.328125 25.203125 \nL 32.328125 57.46875 \nL 9.90625 25.203125 \nz\n\" id=\"ArialMT-52\"/>\n       <path d=\"M 25.921875 0 \nL 25.921875 63.140625 \nL 2.34375 63.140625 \nL 2.34375 71.578125 \nL 59.078125 71.578125 \nL 59.078125 63.140625 \nL 35.40625 63.140625 \nL 35.40625 0 \nz\n\" id=\"ArialMT-84\"/>\n      </defs>\n      <g transform=\"translate(111.041406 357.695312)rotate(-90)scale(0.1 -0.1)\">\n       <use xlink:href=\"#ArialMT-78\"/>\n       <use x=\"72.216797\" xlink:href=\"#ArialMT-111\"/>\n       <use x=\"127.832031\" xlink:href=\"#ArialMT-32\"/>\n       <use x=\"155.615234\" xlink:href=\"#ArialMT-82\"/>\n       <use x=\"227.832031\" xlink:href=\"#ArialMT-101\"/>\n       <use x=\"283.447266\" xlink:href=\"#ArialMT-108\"/>\n       <use x=\"305.664062\" xlink:href=\"#ArialMT-101\"/>\n       <use x=\"361.279297\" xlink:href=\"#ArialMT-97\"/>\n       <use x=\"416.894531\" xlink:href=\"#ArialMT-115\"/>\n       <use x=\"466.894531\" xlink:href=\"#ArialMT-101\"/>\n       <use x=\"522.509766\" xlink:href=\"#ArialMT-32\"/>\n       <use x=\"550.292969\" xlink:href=\"#ArialMT-52\"/>\n       <use x=\"605.908203\" xlink:href=\"#ArialMT-115\"/>\n       <use x=\"655.908203\" xlink:href=\"#ArialMT-84\"/>\n      </g>\n     </g>\n    </g>\n    <g id=\"xtick_3\">\n     <g id=\"line2d_3\">\n      <g>\n       <use style=\"stroke:#000000;stroke-width:0.8;\" x=\"154.95625\" xlink:href=\"#m6fa68de38c\" y=\"279\"/>\n      </g>\n     </g>\n     <g id=\"text_3\">\n      <!-- 2h Release 4sT -->\n      <defs>\n       <path d=\"M 50.34375 8.453125 \nL 50.34375 0 \nL 3.03125 0 \nQ 2.9375 3.171875 4.046875 6.109375 \nQ 5.859375 10.9375 9.828125 15.625 \nQ 13.8125 20.3125 21.34375 26.46875 \nQ 33.015625 36.03125 37.109375 41.625 \nQ 41.21875 47.21875 41.21875 52.203125 \nQ 41.21875 57.421875 37.46875 61 \nQ 33.734375 64.59375 27.734375 64.59375 \nQ 21.390625 64.59375 17.578125 60.78125 \nQ 13.765625 56.984375 13.71875 50.25 \nL 4.6875 51.171875 \nQ 5.609375 61.28125 11.65625 66.578125 \nQ 17.71875 71.875 27.9375 71.875 \nQ 38.234375 71.875 44.234375 66.15625 \nQ 50.25 60.453125 50.25 52 \nQ 50.25 47.703125 48.484375 43.546875 \nQ 46.734375 39.40625 42.65625 34.8125 \nQ 38.578125 30.21875 29.109375 22.21875 \nQ 21.1875 15.578125 18.9375 13.203125 \nQ 16.703125 10.84375 15.234375 8.453125 \nz\n\" id=\"ArialMT-50\"/>\n       <path d=\"M 6.59375 0 \nL 6.59375 71.578125 \nL 15.375 71.578125 \nL 15.375 45.90625 \nQ 21.53125 53.03125 30.90625 53.03125 \nQ 36.671875 53.03125 40.921875 50.75 \nQ 45.171875 48.484375 47 44.484375 \nQ 48.828125 40.484375 48.828125 32.859375 \nL 48.828125 0 \nL 40.046875 0 \nL 40.046875 32.859375 \nQ 40.046875 39.453125 37.1875 42.453125 \nQ 34.328125 45.453125 29.109375 45.453125 \nQ 25.203125 45.453125 21.75 43.421875 \nQ 18.3125 41.40625 16.84375 37.9375 \nQ 15.375 34.46875 15.375 28.375 \nL 15.375 0 \nz\n\" id=\"ArialMT-104\"/>\n      </defs>\n      <g transform=\"translate(157.541406 356.034375)rotate(-90)scale(0.1 -0.1)\">\n       <use xlink:href=\"#ArialMT-50\"/>\n       <use x=\"55.615234\" xlink:href=\"#ArialMT-104\"/>\n       <use x=\"111.230469\" xlink:href=\"#ArialMT-32\"/>\n       <use x=\"139.013672\" xlink:href=\"#ArialMT-82\"/>\n       <use x=\"211.230469\" xlink:href=\"#ArialMT-101\"/>\n       <use x=\"266.845703\" xlink:href=\"#ArialMT-108\"/>\n       <use x=\"289.0625\" xlink:href=\"#ArialMT-101\"/>\n       <use x=\"344.677734\" xlink:href=\"#ArialMT-97\"/>\n       <use x=\"400.292969\" xlink:href=\"#ArialMT-115\"/>\n       <use x=\"450.292969\" xlink:href=\"#ArialMT-101\"/>\n       <use x=\"505.908203\" xlink:href=\"#ArialMT-32\"/>\n       <use x=\"533.691406\" xlink:href=\"#ArialMT-52\"/>\n       <use x=\"589.306641\" xlink:href=\"#ArialMT-115\"/>\n       <use x=\"639.306641\" xlink:href=\"#ArialMT-84\"/>\n      </g>\n     </g>\n    </g>\n    <g id=\"xtick_4\">\n     <g id=\"line2d_4\">\n      <g>\n       <use style=\"stroke:#000000;stroke-width:0.8;\" x=\"201.45625\" xlink:href=\"#m6fa68de38c\" y=\"279\"/>\n      </g>\n     </g>\n     <g id=\"text_4\">\n      <!-- 4h Release 4sT -->\n      <g transform=\"translate(204.041406 356.034375)rotate(-90)scale(0.1 -0.1)\">\n       <use xlink:href=\"#ArialMT-52\"/>\n       <use x=\"55.615234\" xlink:href=\"#ArialMT-104\"/>\n       <use x=\"111.230469\" xlink:href=\"#ArialMT-32\"/>\n       <use x=\"139.013672\" xlink:href=\"#ArialMT-82\"/>\n       <use x=\"211.230469\" xlink:href=\"#ArialMT-101\"/>\n       <use x=\"266.845703\" xlink:href=\"#ArialMT-108\"/>\n       <use x=\"289.0625\" xlink:href=\"#ArialMT-101\"/>\n       <use x=\"344.677734\" xlink:href=\"#ArialMT-97\"/>\n       <use x=\"400.292969\" xlink:href=\"#ArialMT-115\"/>\n       <use x=\"450.292969\" xlink:href=\"#ArialMT-101\"/>\n       <use x=\"505.908203\" xlink:href=\"#ArialMT-32\"/>\n       <use x=\"533.691406\" xlink:href=\"#ArialMT-52\"/>\n       <use x=\"589.306641\" xlink:href=\"#ArialMT-115\"/>\n       <use x=\"639.306641\" xlink:href=\"#ArialMT-84\"/>\n      </g>\n     </g>\n    </g>\n    <g id=\"xtick_5\">\n     <g id=\"line2d_5\">\n      <g>\n       <use style=\"stroke:#000000;stroke-width:0.8;\" x=\"247.95625\" xlink:href=\"#m6fa68de38c\" y=\"279\"/>\n      </g>\n     </g>\n     <g id=\"text_5\">\n      <!-- 8h Release 4sT -->\n      <defs>\n       <path d=\"M 17.671875 38.8125 \nQ 12.203125 40.828125 9.5625 44.53125 \nQ 6.9375 48.25 6.9375 53.421875 \nQ 6.9375 61.234375 12.546875 66.546875 \nQ 18.171875 71.875 27.484375 71.875 \nQ 36.859375 71.875 42.578125 66.421875 \nQ 48.296875 60.984375 48.296875 53.171875 \nQ 48.296875 48.1875 45.671875 44.5 \nQ 43.0625 40.828125 37.75 38.8125 \nQ 44.34375 36.671875 47.78125 31.875 \nQ 51.21875 27.09375 51.21875 20.453125 \nQ 51.21875 11.28125 44.71875 5.03125 \nQ 38.234375 -1.21875 27.640625 -1.21875 \nQ 17.046875 -1.21875 10.546875 5.046875 \nQ 4.046875 11.328125 4.046875 20.703125 \nQ 4.046875 27.6875 7.59375 32.390625 \nQ 11.140625 37.109375 17.671875 38.8125 \nz\nM 15.921875 53.71875 \nQ 15.921875 48.640625 19.1875 45.40625 \nQ 22.46875 42.1875 27.6875 42.1875 \nQ 32.765625 42.1875 36.015625 45.375 \nQ 39.265625 48.578125 39.265625 53.21875 \nQ 39.265625 58.0625 35.90625 61.359375 \nQ 32.5625 64.65625 27.59375 64.65625 \nQ 22.5625 64.65625 19.234375 61.421875 \nQ 15.921875 58.203125 15.921875 53.71875 \nz\nM 13.09375 20.65625 \nQ 13.09375 16.890625 14.875 13.375 \nQ 16.65625 9.859375 20.171875 7.921875 \nQ 23.6875 6 27.734375 6 \nQ 34.03125 6 38.125 10.046875 \nQ 42.234375 14.109375 42.234375 20.359375 \nQ 42.234375 26.703125 38.015625 30.859375 \nQ 33.796875 35.015625 27.4375 35.015625 \nQ 21.234375 35.015625 17.15625 30.90625 \nQ 13.09375 26.8125 13.09375 20.65625 \nz\n\" id=\"ArialMT-56\"/>\n      </defs>\n      <g transform=\"translate(250.541406 356.034375)rotate(-90)scale(0.1 -0.1)\">\n       <use xlink:href=\"#ArialMT-56\"/>\n       <use x=\"55.615234\" xlink:href=\"#ArialMT-104\"/>\n       <use x=\"111.230469\" xlink:href=\"#ArialMT-32\"/>\n       <use x=\"139.013672\" xlink:href=\"#ArialMT-82\"/>\n       <use x=\"211.230469\" xlink:href=\"#ArialMT-101\"/>\n       <use x=\"266.845703\" xlink:href=\"#ArialMT-108\"/>\n       <use x=\"289.0625\" xlink:href=\"#ArialMT-101\"/>\n       <use x=\"344.677734\" xlink:href=\"#ArialMT-97\"/>\n       <use x=\"400.292969\" xlink:href=\"#ArialMT-115\"/>\n       <use x=\"450.292969\" xlink:href=\"#ArialMT-101\"/>\n       <use x=\"505.908203\" xlink:href=\"#ArialMT-32\"/>\n       <use x=\"533.691406\" xlink:href=\"#ArialMT-52\"/>\n       <use x=\"589.306641\" xlink:href=\"#ArialMT-115\"/>\n       <use x=\"639.306641\" xlink:href=\"#ArialMT-84\"/>\n      </g>\n     </g>\n    </g>\n    <g id=\"xtick_6\">\n     <g id=\"line2d_6\">\n      <g>\n       <use style=\"stroke:#000000;stroke-width:0.8;\" x=\"294.45625\" xlink:href=\"#m6fa68de38c\" y=\"279\"/>\n      </g>\n     </g>\n     <g id=\"text_6\">\n      <!-- G2 4sT -->\n      <defs>\n       <path d=\"M 41.21875 28.078125 \nL 41.21875 36.46875 \nL 71.53125 36.53125 \nL 71.53125 9.96875 \nQ 64.546875 4.390625 57.125 1.578125 \nQ 49.703125 -1.21875 41.890625 -1.21875 \nQ 31.34375 -1.21875 22.71875 3.296875 \nQ 14.109375 7.8125 9.71875 16.359375 \nQ 5.328125 24.90625 5.328125 35.453125 \nQ 5.328125 45.90625 9.6875 54.953125 \nQ 14.0625 64.015625 22.265625 68.40625 \nQ 30.46875 72.796875 41.15625 72.796875 \nQ 48.921875 72.796875 55.1875 70.28125 \nQ 61.46875 67.78125 65.03125 63.28125 \nQ 68.609375 58.796875 70.453125 51.5625 \nL 61.921875 49.21875 \nQ 60.296875 54.6875 57.90625 57.8125 \nQ 55.515625 60.9375 51.0625 62.8125 \nQ 46.625 64.703125 41.21875 64.703125 \nQ 34.71875 64.703125 29.984375 62.71875 \nQ 25.25 60.75 22.34375 57.515625 \nQ 19.4375 54.296875 17.828125 50.4375 \nQ 15.09375 43.796875 15.09375 36.03125 \nQ 15.09375 26.46875 18.390625 20.015625 \nQ 21.6875 13.578125 27.984375 10.453125 \nQ 34.28125 7.328125 41.359375 7.328125 \nQ 47.515625 7.328125 53.375 9.6875 \nQ 59.234375 12.0625 62.25 14.75 \nL 62.25 28.078125 \nz\n\" id=\"ArialMT-71\"/>\n      </defs>\n      <g transform=\"translate(297.041406 318.785937)rotate(-90)scale(0.1 -0.1)\">\n       <use xlink:href=\"#ArialMT-71\"/>\n       <use x=\"77.783203\" xlink:href=\"#ArialMT-50\"/>\n       <use x=\"133.398438\" xlink:href=\"#ArialMT-32\"/>\n       <use x=\"161.181641\" xlink:href=\"#ArialMT-52\"/>\n       <use x=\"216.796875\" xlink:href=\"#ArialMT-115\"/>\n       <use x=\"266.796875\" xlink:href=\"#ArialMT-84\"/>\n      </g>\n     </g>\n    </g>\n   </g>\n   <g id=\"matplotlib.axis_2\">\n    <g id=\"ytick_1\">\n     <g id=\"line2d_7\">\n      <defs>\n       <path d=\"M 0 0 \nL -3.5 0 \n\" id=\"mb1baa6e3cc\" style=\"stroke:#000000;stroke-width:0.8;\"/>\n      </defs>\n      <g>\n       <use style=\"stroke:#000000;stroke-width:0.8;\" x=\"38.70625\" xlink:href=\"#mb1baa6e3cc\" y=\"279\"/>\n      </g>\n     </g>\n     <g id=\"text_7\">\n      <!-- 0 -->\n      <defs>\n       <path d=\"M 4.15625 35.296875 \nQ 4.15625 48 6.765625 55.734375 \nQ 9.375 63.484375 14.515625 67.671875 \nQ 19.671875 71.875 27.484375 71.875 \nQ 33.25 71.875 37.59375 69.546875 \nQ 41.9375 67.234375 44.765625 62.859375 \nQ 47.609375 58.5 49.21875 52.21875 \nQ 50.828125 45.953125 50.828125 35.296875 \nQ 50.828125 22.703125 48.234375 14.96875 \nQ 45.65625 7.234375 40.5 3 \nQ 35.359375 -1.21875 27.484375 -1.21875 \nQ 17.140625 -1.21875 11.234375 6.203125 \nQ 4.15625 15.140625 4.15625 35.296875 \nz\nM 13.1875 35.296875 \nQ 13.1875 17.671875 17.3125 11.828125 \nQ 21.4375 6 27.484375 6 \nQ 33.546875 6 37.671875 11.859375 \nQ 41.796875 17.71875 41.796875 35.296875 \nQ 41.796875 52.984375 37.671875 58.78125 \nQ 33.546875 64.59375 27.390625 64.59375 \nQ 21.34375 64.59375 17.71875 59.46875 \nQ 13.1875 52.9375 13.1875 35.296875 \nz\n\" id=\"ArialMT-48\"/>\n      </defs>\n      <g transform=\"translate(26.145313 282.578906)scale(0.1 -0.1)\">\n       <use xlink:href=\"#ArialMT-48\"/>\n      </g>\n     </g>\n    </g>\n    <g id=\"ytick_2\">\n     <g id=\"line2d_8\">\n      <g>\n       <use style=\"stroke:#000000;stroke-width:0.8;\" x=\"38.70625\" xlink:href=\"#mb1baa6e3cc\" y=\"237.981556\"/>\n      </g>\n     </g>\n     <g id=\"text_8\">\n      <!-- 2 -->\n      <g transform=\"translate(26.145313 241.560463)scale(0.1 -0.1)\">\n       <use xlink:href=\"#ArialMT-50\"/>\n      </g>\n     </g>\n    </g>\n    <g id=\"ytick_3\">\n     <g id=\"line2d_9\">\n      <g>\n       <use style=\"stroke:#000000;stroke-width:0.8;\" x=\"38.70625\" xlink:href=\"#mb1baa6e3cc\" y=\"196.963113\"/>\n      </g>\n     </g>\n     <g id=\"text_9\">\n      <!-- 4 -->\n      <g transform=\"translate(26.145313 200.542019)scale(0.1 -0.1)\">\n       <use xlink:href=\"#ArialMT-52\"/>\n      </g>\n     </g>\n    </g>\n    <g id=\"ytick_4\">\n     <g id=\"line2d_10\">\n      <g>\n       <use style=\"stroke:#000000;stroke-width:0.8;\" x=\"38.70625\" xlink:href=\"#mb1baa6e3cc\" y=\"155.944669\"/>\n      </g>\n     </g>\n     <g id=\"text_10\">\n      <!-- 6 -->\n      <defs>\n       <path d=\"M 49.75 54.046875 \nL 41.015625 53.375 \nQ 39.84375 58.546875 37.703125 60.890625 \nQ 34.125 64.65625 28.90625 64.65625 \nQ 24.703125 64.65625 21.53125 62.3125 \nQ 17.390625 59.28125 14.984375 53.46875 \nQ 12.59375 47.65625 12.5 36.921875 \nQ 15.671875 41.75 20.265625 44.09375 \nQ 24.859375 46.4375 29.890625 46.4375 \nQ 38.671875 46.4375 44.84375 39.96875 \nQ 51.03125 33.5 51.03125 23.25 \nQ 51.03125 16.5 48.125 10.71875 \nQ 45.21875 4.9375 40.140625 1.859375 \nQ 35.0625 -1.21875 28.609375 -1.21875 \nQ 17.625 -1.21875 10.6875 6.859375 \nQ 3.765625 14.9375 3.765625 33.5 \nQ 3.765625 54.25 11.421875 63.671875 \nQ 18.109375 71.875 29.4375 71.875 \nQ 37.890625 71.875 43.28125 67.140625 \nQ 48.6875 62.40625 49.75 54.046875 \nz\nM 13.875 23.1875 \nQ 13.875 18.65625 15.796875 14.5 \nQ 17.71875 10.359375 21.1875 8.171875 \nQ 24.65625 6 28.46875 6 \nQ 34.03125 6 38.03125 10.484375 \nQ 42.046875 14.984375 42.046875 22.703125 \nQ 42.046875 30.125 38.078125 34.390625 \nQ 34.125 38.671875 28.125 38.671875 \nQ 22.171875 38.671875 18.015625 34.390625 \nQ 13.875 30.125 13.875 23.1875 \nz\n\" id=\"ArialMT-54\"/>\n      </defs>\n      <g transform=\"translate(26.145313 159.523575)scale(0.1 -0.1)\">\n       <use xlink:href=\"#ArialMT-54\"/>\n      </g>\n     </g>\n    </g>\n    <g id=\"ytick_5\">\n     <g id=\"line2d_11\">\n      <g>\n       <use style=\"stroke:#000000;stroke-width:0.8;\" x=\"38.70625\" xlink:href=\"#mb1baa6e3cc\" y=\"114.926226\"/>\n      </g>\n     </g>\n     <g id=\"text_11\">\n      <!-- 8 -->\n      <g transform=\"translate(26.145313 118.505132)scale(0.1 -0.1)\">\n       <use xlink:href=\"#ArialMT-56\"/>\n      </g>\n     </g>\n    </g>\n    <g id=\"ytick_6\">\n     <g id=\"line2d_12\">\n      <g>\n       <use style=\"stroke:#000000;stroke-width:0.8;\" x=\"38.70625\" xlink:href=\"#mb1baa6e3cc\" y=\"73.907782\"/>\n      </g>\n     </g>\n     <g id=\"text_12\">\n      <!-- 10 -->\n      <defs>\n       <path d=\"M 37.25 0 \nL 28.46875 0 \nL 28.46875 56 \nQ 25.296875 52.984375 20.140625 49.953125 \nQ 14.984375 46.921875 10.890625 45.40625 \nL 10.890625 53.90625 \nQ 18.265625 57.375 23.78125 62.296875 \nQ 29.296875 67.234375 31.59375 71.875 \nL 37.25 71.875 \nz\n\" id=\"ArialMT-49\"/>\n      </defs>\n      <g transform=\"translate(20.584375 77.486688)scale(0.1 -0.1)\">\n       <use xlink:href=\"#ArialMT-49\"/>\n       <use x=\"55.615234\" xlink:href=\"#ArialMT-48\"/>\n      </g>\n     </g>\n    </g>\n    <g id=\"ytick_7\">\n     <g id=\"line2d_13\">\n      <g>\n       <use style=\"stroke:#000000;stroke-width:0.8;\" x=\"38.70625\" xlink:href=\"#mb1baa6e3cc\" y=\"32.889338\"/>\n      </g>\n     </g>\n     <g id=\"text_13\">\n      <!-- 12 -->\n      <g transform=\"translate(20.584375 36.468245)scale(0.1 -0.1)\">\n       <use xlink:href=\"#ArialMT-49\"/>\n       <use x=\"55.615234\" xlink:href=\"#ArialMT-50\"/>\n      </g>\n     </g>\n    </g>\n    <g id=\"text_14\">\n     <!-- Doubly labeled reads [%] -->\n     <defs>\n      <path d=\"M 7.71875 0 \nL 7.71875 71.578125 \nL 32.375 71.578125 \nQ 40.71875 71.578125 45.125 70.5625 \nQ 51.265625 69.140625 55.609375 65.4375 \nQ 61.28125 60.640625 64.078125 53.1875 \nQ 66.890625 45.75 66.890625 36.1875 \nQ 66.890625 28.03125 64.984375 21.734375 \nQ 63.09375 15.4375 60.109375 11.296875 \nQ 57.125 7.171875 53.578125 4.796875 \nQ 50.046875 2.4375 45.046875 1.21875 \nQ 40.046875 0 33.546875 0 \nz\nM 17.1875 8.453125 \nL 32.46875 8.453125 \nQ 39.546875 8.453125 43.578125 9.765625 \nQ 47.609375 11.078125 50 13.484375 \nQ 53.375 16.84375 55.25 22.53125 \nQ 57.125 28.21875 57.125 36.328125 \nQ 57.125 47.5625 53.4375 53.59375 \nQ 49.75 59.625 44.484375 61.671875 \nQ 40.671875 63.140625 32.234375 63.140625 \nL 17.1875 63.140625 \nz\n\" id=\"ArialMT-68\"/>\n      <path d=\"M 40.578125 0 \nL 40.578125 7.625 \nQ 34.515625 -1.171875 24.125 -1.171875 \nQ 19.53125 -1.171875 15.546875 0.578125 \nQ 11.578125 2.34375 9.640625 5 \nQ 7.71875 7.671875 6.9375 11.53125 \nQ 6.390625 14.109375 6.390625 19.734375 \nL 6.390625 51.859375 \nL 15.1875 51.859375 \nL 15.1875 23.09375 \nQ 15.1875 16.21875 15.71875 13.8125 \nQ 16.546875 10.359375 19.234375 8.375 \nQ 21.921875 6.390625 25.875 6.390625 \nQ 29.828125 6.390625 33.296875 8.421875 \nQ 36.765625 10.453125 38.203125 13.9375 \nQ 39.65625 17.4375 39.65625 24.078125 \nL 39.65625 51.859375 \nL 48.4375 51.859375 \nL 48.4375 0 \nz\n\" id=\"ArialMT-117\"/>\n      <path d=\"M 14.703125 0 \nL 6.546875 0 \nL 6.546875 71.578125 \nL 15.328125 71.578125 \nL 15.328125 46.046875 \nQ 20.90625 53.03125 29.546875 53.03125 \nQ 34.328125 53.03125 38.59375 51.09375 \nQ 42.875 49.171875 45.625 45.671875 \nQ 48.390625 42.1875 49.953125 37.25 \nQ 51.515625 32.328125 51.515625 26.703125 \nQ 51.515625 13.375 44.921875 6.09375 \nQ 38.328125 -1.171875 29.109375 -1.171875 \nQ 19.921875 -1.171875 14.703125 6.5 \nz\nM 14.59375 26.3125 \nQ 14.59375 17 17.140625 12.84375 \nQ 21.296875 6.0625 28.375 6.0625 \nQ 34.125 6.0625 38.328125 11.0625 \nQ 42.53125 16.0625 42.53125 25.984375 \nQ 42.53125 36.140625 38.5 40.96875 \nQ 34.46875 45.796875 28.765625 45.796875 \nQ 23 45.796875 18.796875 40.796875 \nQ 14.59375 35.796875 14.59375 26.3125 \nz\n\" id=\"ArialMT-98\"/>\n      <path d=\"M 6.203125 -19.96875 \nL 5.21875 -11.71875 \nQ 8.109375 -12.5 10.25 -12.5 \nQ 13.1875 -12.5 14.9375 -11.515625 \nQ 16.703125 -10.546875 17.828125 -8.796875 \nQ 18.65625 -7.46875 20.515625 -2.25 \nQ 20.75 -1.515625 21.296875 -0.09375 \nL 1.609375 51.859375 \nL 11.078125 51.859375 \nL 21.875 21.828125 \nQ 23.96875 16.109375 25.640625 9.8125 \nQ 27.15625 15.875 29.25 21.625 \nL 40.328125 51.859375 \nL 49.125 51.859375 \nL 29.390625 -0.875 \nQ 26.21875 -9.421875 24.46875 -12.640625 \nQ 22.125 -17 19.09375 -19.015625 \nQ 16.0625 -21.046875 11.859375 -21.046875 \nQ 9.328125 -21.046875 6.203125 -19.96875 \nz\n\" id=\"ArialMT-121\"/>\n      <path d=\"M 40.234375 0 \nL 40.234375 6.546875 \nQ 35.296875 -1.171875 25.734375 -1.171875 \nQ 19.53125 -1.171875 14.328125 2.25 \nQ 9.125 5.671875 6.265625 11.796875 \nQ 3.421875 17.921875 3.421875 25.875 \nQ 3.421875 33.640625 6 39.96875 \nQ 8.59375 46.296875 13.765625 49.65625 \nQ 18.953125 53.03125 25.34375 53.03125 \nQ 30.03125 53.03125 33.6875 51.046875 \nQ 37.359375 49.078125 39.65625 45.90625 \nL 39.65625 71.578125 \nL 48.390625 71.578125 \nL 48.390625 0 \nz\nM 12.453125 25.875 \nQ 12.453125 15.921875 16.640625 10.984375 \nQ 20.84375 6.0625 26.5625 6.0625 \nQ 32.328125 6.0625 36.34375 10.765625 \nQ 40.375 15.484375 40.375 25.140625 \nQ 40.375 35.796875 36.265625 40.765625 \nQ 32.171875 45.75 26.171875 45.75 \nQ 20.3125 45.75 16.375 40.96875 \nQ 12.453125 36.1875 12.453125 25.875 \nz\n\" id=\"ArialMT-100\"/>\n      <path d=\"M 6.78125 -19.875 \nL 6.78125 71.578125 \nL 26.171875 71.578125 \nL 26.171875 64.3125 \nL 15.578125 64.3125 \nL 15.578125 -12.59375 \nL 26.171875 -12.59375 \nL 26.171875 -19.875 \nz\n\" id=\"ArialMT-91\"/>\n      <path d=\"M 5.8125 54.390625 \nQ 5.8125 62.0625 9.671875 67.421875 \nQ 13.53125 72.796875 20.84375 72.796875 \nQ 27.59375 72.796875 32 67.984375 \nQ 36.421875 63.1875 36.421875 53.859375 \nQ 36.421875 44.78125 31.953125 39.875 \nQ 27.484375 34.96875 20.953125 34.96875 \nQ 14.453125 34.96875 10.125 39.796875 \nQ 5.8125 44.625 5.8125 54.390625 \nz\nM 21.09375 66.75 \nQ 17.828125 66.75 15.65625 63.90625 \nQ 13.484375 61.078125 13.484375 53.515625 \nQ 13.484375 46.625 15.671875 43.8125 \nQ 17.875 41.015625 21.09375 41.015625 \nQ 24.421875 41.015625 26.59375 43.84375 \nQ 28.765625 46.6875 28.765625 54.203125 \nQ 28.765625 61.140625 26.5625 63.9375 \nQ 24.359375 66.75 21.09375 66.75 \nz\nM 21.140625 -2.640625 \nL 60.296875 72.796875 \nL 67.4375 72.796875 \nL 28.421875 -2.640625 \nz\nM 52.09375 16.796875 \nQ 52.09375 24.515625 55.953125 29.859375 \nQ 59.8125 35.203125 67.1875 35.203125 \nQ 73.921875 35.203125 78.34375 30.390625 \nQ 82.765625 25.59375 82.765625 16.265625 \nQ 82.765625 7.171875 78.296875 2.265625 \nQ 73.828125 -2.640625 67.234375 -2.640625 \nQ 60.75 -2.640625 56.421875 2.21875 \nQ 52.09375 7.078125 52.09375 16.796875 \nz\nM 67.4375 29.15625 \nQ 64.109375 29.15625 61.9375 26.3125 \nQ 59.765625 23.484375 59.765625 15.921875 \nQ 59.765625 9.078125 61.953125 6.25 \nQ 64.15625 3.421875 67.390625 3.421875 \nQ 70.75 3.421875 72.921875 6.25 \nQ 75.09375 9.078125 75.09375 16.609375 \nQ 75.09375 23.53125 72.890625 26.34375 \nQ 70.703125 29.15625 67.4375 29.15625 \nz\n\" id=\"ArialMT-37\"/>\n      <path d=\"M 21.296875 -19.875 \nL 1.90625 -19.875 \nL 1.90625 -12.59375 \nL 12.5 -12.59375 \nL 12.5 64.3125 \nL 1.90625 64.3125 \nL 1.90625 71.578125 \nL 21.296875 71.578125 \nz\n\" id=\"ArialMT-93\"/>\n     </defs>\n     <g transform=\"translate(14.479688 198.685156)rotate(-90)scale(0.1 -0.1)\">\n      <use xlink:href=\"#ArialMT-68\"/>\n      <use x=\"72.216797\" xlink:href=\"#ArialMT-111\"/>\n      <use x=\"127.832031\" xlink:href=\"#ArialMT-117\"/>\n      <use x=\"183.447266\" xlink:href=\"#ArialMT-98\"/>\n      <use x=\"239.0625\" xlink:href=\"#ArialMT-108\"/>\n      <use x=\"261.279297\" xlink:href=\"#ArialMT-121\"/>\n      <use x=\"311.279297\" xlink:href=\"#ArialMT-32\"/>\n      <use x=\"339.0625\" xlink:href=\"#ArialMT-108\"/>\n      <use x=\"361.279297\" xlink:href=\"#ArialMT-97\"/>\n      <use x=\"416.894531\" xlink:href=\"#ArialMT-98\"/>\n      <use x=\"472.509766\" xlink:href=\"#ArialMT-101\"/>\n      <use x=\"528.125\" xlink:href=\"#ArialMT-108\"/>\n      <use x=\"550.341797\" xlink:href=\"#ArialMT-101\"/>\n      <use x=\"605.957031\" xlink:href=\"#ArialMT-100\"/>\n      <use x=\"661.572266\" xlink:href=\"#ArialMT-32\"/>\n      <use x=\"689.355469\" xlink:href=\"#ArialMT-114\"/>\n      <use x=\"722.65625\" xlink:href=\"#ArialMT-101\"/>\n      <use x=\"778.271484\" xlink:href=\"#ArialMT-97\"/>\n      <use x=\"833.886719\" xlink:href=\"#ArialMT-100\"/>\n      <use x=\"889.501953\" xlink:href=\"#ArialMT-115\"/>\n      <use x=\"939.501953\" xlink:href=\"#ArialMT-32\"/>\n      <use x=\"967.285156\" xlink:href=\"#ArialMT-91\"/>\n      <use x=\"995.068359\" xlink:href=\"#ArialMT-37\"/>\n      <use x=\"1083.984375\" xlink:href=\"#ArialMT-93\"/>\n     </g>\n    </g>\n   </g>\n   <g id=\"line2d_14\">\n    <path clip-path=\"url(#p798ccefc8c)\" d=\"M 0 0 \n\" style=\"fill:none;stroke:#424242;stroke-linecap:square;stroke-width:2.7;\"/>\n   </g>\n   <g id=\"line2d_15\">\n    <path clip-path=\"url(#p798ccefc8c)\" d=\"M 0 0 \n\" style=\"fill:none;stroke:#424242;stroke-linecap:square;stroke-width:2.7;\"/>\n   </g>\n   <g id=\"line2d_16\">\n    <path clip-path=\"url(#p798ccefc8c)\" d=\"M 0 0 \n\" style=\"fill:none;stroke:#424242;stroke-linecap:square;stroke-width:2.7;\"/>\n   </g>\n   <g id=\"line2d_17\">\n    <path clip-path=\"url(#p798ccefc8c)\" d=\"M 0 0 \n\" style=\"fill:none;stroke:#424242;stroke-linecap:square;stroke-width:2.7;\"/>\n   </g>\n   <g id=\"line2d_18\">\n    <path clip-path=\"url(#p798ccefc8c)\" d=\"M 0 0 \n\" style=\"fill:none;stroke:#424242;stroke-linecap:square;stroke-width:2.7;\"/>\n   </g>\n   <g id=\"line2d_19\">\n    <path clip-path=\"url(#p798ccefc8c)\" d=\"M 0 0 \n\" style=\"fill:none;stroke:#424242;stroke-linecap:square;stroke-width:2.7;\"/>\n   </g>\n   <g id=\"patch_9\">\n    <path d=\"M 38.70625 279 \nL 38.70625 7.2 \n\" style=\"fill:none;stroke:#000000;stroke-linecap:square;stroke-linejoin:miter;stroke-width:0.8;\"/>\n   </g>\n   <g id=\"patch_10\">\n    <path d=\"M 38.70625 279 \nL 317.70625 279 \n\" style=\"fill:none;stroke:#000000;stroke-linecap:square;stroke-linejoin:miter;stroke-width:0.8;\"/>\n   </g>\n  </g>\n </g>\n <defs>\n  <clipPath id=\"p798ccefc8c\">\n   <rect height=\"271.8\" width=\"279\" x=\"38.70625\" y=\"7.2\"/>\n  </clipPath>\n </defs>\n</svg>\n",
      "text/plain": "<Figure size 360x360 with 1 Axes>"
     },
     "metadata": {
      "needs_background": "light"
     },
     "output_type": "display_data"
    }
   ],
   "source": [
    "order = [\"No Release control\", \"No Release 4sT\", \"2h Release 4sT\", \"4h Release 4sT\", \"8h Release 4sT\", \"G2 4sT\"]\n",
    "\n",
    "f, ax = plt.subplots()\n",
    "sbn.barplot(x=\"barcode\", y=\"both\", data=grouped, order=order, ax=ax, color=\"black\")\n",
    "locs, labels = plt.xticks()\n",
    "plt.xticks(locs, labels, rotation=90)\n",
    "ax.set_xlabel(\"\")\n",
    "ax.set_ylabel(\"Doubly labeled reads [%]\")\n",
    "f.set_size_inches(5, 5)\n",
    "sbn.despine()\n",
    "plt.show()"
   ]
  },
  {
   "cell_type": "code",
   "execution_count": null,
   "metadata": {},
   "outputs": [],
   "source": []
  }
 ]
}