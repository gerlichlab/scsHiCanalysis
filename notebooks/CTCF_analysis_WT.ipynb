{
 "cells": [
  {
   "cell_type": "code",
   "execution_count": null,
   "metadata": {},
   "outputs": [],
   "source": [
    "import os"
   ]
  },
  {
   "cell_type": "markdown",
   "metadata": {},
   "source": [
    "# Fix path to bedtools"
   ]
  },
  {
   "cell_type": "code",
   "execution_count": 1,
   "metadata": {},
   "outputs": [
    {
     "output_type": "stream",
     "name": "stdout",
     "text": "env: PATH=/users/michael.mitter/.conda/envs/ml/bin/:/software/2020/software/anaconda3/2019.03/bin;/software/2020/software/anaconda3/2019.03/condabin;/software/2020/software/anaconda3/2019.03/library/bin;/software/2020/software/anaconda3/2019.03/bin;/software/2020/software/anaconda3/2019.03/condabin;/software/2020/software/anaconda3/2019.03/library/bin;/software/2020/software/anaconda3/2019.03/bin;/software/2020/software/anaconda3/2019.03/condabin;/software/2020/software/anaconda3/2019.03/library/bin;/users/michael.mitter/.vscode-server/bin/d69a79b73808559a91206d73d7717ff5f798f23c/bin:/users/michael.mitter/.conda/envs/gitEnv/bin/:/users/michael.mitter/.vscode-server/bin/d69a79b73808559a91206d73d7717ff5f798f23c/bin:/software/2020/software/anaconda3/2019.03/condabin:/users/michael.mitter/.conda/envs/gitEnv/bin/:/software/system/utils:/usr/local/bin:/usr/bin:/groups/gerlich/members/MichaelMitter/UCSC_usertools/:/groups/gerlich/members/MichaelMitter/PythonPackages/OnTAD/:/usr/local/sbin:/usr/sbin:/groups/gerlich/members/MichaelMitter/UCSC_usertools/:/groups/gerlich/members/MichaelMitter/PythonPackages/OnTAD/:/users/michael.mitter/.local/bin:/users/michael.mitter/bin\n"
    }
   ],
   "source": [
    "environment_path = \"/users/michael.mitter/.conda/envs/ml/bin/\"\n",
    "original_os_path = os.environ.get(\"PATH\")\n",
    "os_path = original_os_path\n",
    "\n",
    "if environment_path not in original_os_path:\n",
    "    os_path = environment_path + \":\" + original_os_path\n",
    "\n",
    "%env PATH=$os_path"
   ]
  },
  {
   "cell_type": "code",
   "execution_count": 2,
   "metadata": {},
   "outputs": [],
   "source": [
    "import os\n",
    "import cooler\n",
    "import cooltools.snipping\n",
    "import bioframe\n",
    "import pandas as pd\n",
    "from NGS import HiCTools as HT\n",
    "from collections import defaultdict\n",
    "import re\n",
    "import numpy as np\n",
    "from typing import Callable\n",
    "import matplotlib.pyplot as plt\n",
    "import seaborn as sbn\n",
    "from scipy.stats import ttest_ind\n",
    "import matplotlib.colors as cl\n",
    "import matplotlib\n",
    "import warnings\n",
    "import pybedtools\n",
    "from typing import Tuple"
   ]
  },
  {
   "cell_type": "code",
   "execution_count": 3,
   "metadata": {},
   "outputs": [],
   "source": [
    "# ignore warnings (log10(0))\n",
    "warnings.simplefilter(\"ignore\", RuntimeWarning)"
   ]
  },
  {
   "cell_type": "markdown",
   "metadata": {},
   "source": [
    "# Define plotting parameters"
   ]
  },
  {
   "cell_type": "code",
   "execution_count": 4,
   "metadata": {},
   "outputs": [],
   "source": [
    "matplotlib.rcParams.update({\"font.size\": 12})\n",
    "matplotlib.rcParams.update({\"pdf.fonttype\": 42})"
   ]
  },
  {
   "cell_type": "markdown",
   "metadata": {},
   "source": [
    "# Define functions"
   ]
  },
  {
   "cell_type": "code",
   "execution_count": 5,
   "metadata": {},
   "outputs": [],
   "source": [
    "def recDict():\n",
    "    return defaultdict(recDict)\n",
    "\n",
    "def getPairingScoreObsExp(clr: cooler.Cooler, expected: pd.DataFrame ,windowsize: int = 4 * 10**4,\n",
    "                    func: Callable = np.mean, regions: pd.DataFrame = pd.DataFrame(),\n",
    "                    norm: bool = True) -> pd.DataFrame:\n",
    "    \"\"\"Takes a cooler file (clr),\n",
    "    a windowsize (windowsize), a summary\n",
    "    function (func) and a set of genomic\n",
    "    regions to calculate the pairing score\n",
    "    as follows: A square with side-length windowsize\n",
    "    is created for each of the entries in the supplied genomics\n",
    "    regions and the summary function applied to the Hi-C pixels\n",
    "    at the location in the supplied cooler file. The results are\n",
    "    returned as a dataframe. If no regions are supplied, regions\n",
    "    are constructed for each bin in the cooler file to\n",
    "    construct a genome-wide pairing score.\"\"\"\n",
    "    # Check whether genomic regions were supplied\n",
    "    if len(regions) == 0:\n",
    "        # If no regions are supplied, pregenerate all bins; drop bins with nan weights\n",
    "        regions = clr.bins()[:].dropna()\n",
    "        # find midpoint of each bin to assign windows to each midpoint\n",
    "        regions.loc[:, \"mid\"] = (regions[\"start\"] + regions[\"end\"])//2\n",
    "    # drop nan rows from regions\n",
    "    regions = regions.dropna()\n",
    "    # fix indices\n",
    "    regions.index = range(len(regions))\n",
    "    regions.loc[:, \"binID\"] = range(len(regions))\n",
    "    # Chromosomal arms are needed so each process only extracts a subset from the file\n",
    "    arms = HT.getArmsHg19()\n",
    "    # extract all windows\n",
    "    windows = HT.assignRegions(windowsize, clr.binsize, regions[\"chrom\"],\n",
    "                            regions[\"mid\"], arms)\n",
    "    # add binID to later merge piles\n",
    "    windows.loc[:, \"binID\"] = regions[\"binID\"]\n",
    "    windows = windows.dropna()\n",
    "    # generate pileup\n",
    "    pile = HT.doPileupObsExp(clr, expected, windows, collapse=False)\n",
    "    # convert to dataframe\n",
    "    pileFrame = HT.pileToFrame(pile)\n",
    "    # replace inf with nan\n",
    "    pileFrame = pileFrame.replace([np.inf, -np.inf], np.nan)\n",
    "    # apply function to each row (row = individual window)\n",
    "    summarized = pileFrame.apply(func, axis=1)\n",
    "    # subset regions with regions that were assigned windows\n",
    "    output = pd.merge(regions, windows, on=\"binID\", suffixes=(\"\", \"_w\")).dropna()\n",
    "    # add results\n",
    "    output.loc[:, \"PairingScore\"] = summarized\n",
    "    # normalize by median\n",
    "    if norm:\n",
    "        output.loc[:, \"PairingScore\"] = output[\"PairingScore\"] - np.median(output.dropna()[\"PairingScore\"])\n",
    "    return output[[\"chrom\", \"start\", \"end\", \"PairingScore\"]]\n",
    "\n",
    "def setAxis(ax, ticks_pixels, ticks_kbp):\n",
    "    if not isinstance(ax, np.ndarray):\n",
    "        ax.set_xticks(ticks_pixels)\n",
    "        ax.set_xticklabels(ticks_kbp)\n",
    "        ax.set_yticks(ticks_pixels)\n",
    "        ax.set_yticklabels(ticks_kbp)\n",
    "        ax.set_xlabel('relative position, kbp')\n",
    "        ax.set_ylabel('relative position, kbp')\n",
    "        return\n",
    "    if len(ax.shape) == 1:\n",
    "        for i in range(len(ax)):\n",
    "            ax[i].set_xticks(ticks_pixels)\n",
    "            ax[i].set_xticklabels(ticks_kbp)\n",
    "            ax[i].set_yticks(ticks_pixels)\n",
    "            ax[i].set_yticklabels(ticks_kbp)\n",
    "            ax[i].set_xlabel('relative position, kbp')\n",
    "            ax[i].set_ylabel('relative position, kbp')\n",
    "        return\n",
    "    for i in range(ax.shape[0]):\n",
    "        for j in range(ax.shape[1]):\n",
    "            ax[i, j].set_xticks(ticks_pixels)\n",
    "            ax[i, j].set_xticklabels(ticks_kbp)\n",
    "            ax[i, j].set_yticks(ticks_pixels)\n",
    "            ax[i, j].set_yticklabels(ticks_kbp)\n",
    "            ax[i, j].set_xlabel('relative position, kbp')\n",
    "            ax[i, j].set_ylabel('relative position, kbp')\n",
    "\n",
    "# from https://stackoverflow.com/questions/10925671/numpy-k-th-diagonal-indices\n",
    "def kth_diag_indices(a, k):\n",
    "    rows, cols = np.diag_indices_from(a)\n",
    "    if k < 0:\n",
    "        return rows[-k:], cols[:k]\n",
    "    elif k > 0:\n",
    "        return rows[:-k], cols[k:]\n",
    "    else:\n",
    "        return rows, cols\n",
    "\n",
    "\n",
    "def slidingDiamond(array: np.ndarray, sideLen: int = 6, centerX: bool = True) -> Tuple[np.ndarray, np.ndarray]:\n",
    "    \"\"\"Will slide a dimaond of side length 'sideLen'\n",
    "    down the diagonal of the passed array and return\n",
    "    the average values for each position and\n",
    "    the relative position of each value with respect\n",
    "    to the center of the array (in Bin units)\"\"\"\n",
    "    # initialize accumulators for diamond value and x-position\n",
    "    diamondAccumulator = list()\n",
    "    binAccumulator = list()\n",
    "    if sideLen % 2 == 0:\n",
    "        halfWindow = sideLen\n",
    "        for i in range(0, (array.shape[0] - halfWindow)):\n",
    "            # extract diamond\n",
    "            diamondArray = array[i: (i+halfWindow) + 1, i:(i+halfWindow) + 1]\n",
    "            # set inf to nan for calculation of mean\n",
    "            diamondArray[np.isinf(diamondArray)] = np.nan\n",
    "            diamondAccumulator.append(np.nanmean(diamondArray))\n",
    "            # append x-value for this particular bin\n",
    "            binAccumulator.append(np.median(range(i, (i+halfWindow) + 1,)))\n",
    "    else:\n",
    "        halfWindow = sideLen//2\n",
    "        for i in range(halfWindow, (array.shape[0] - halfWindow)):\n",
    "            # extract diamond\n",
    "            diamondArray = array[i-halfWindow: (i+halfWindow) + 1, i-halfWindow:(i+halfWindow) + 1]\n",
    "            # set inf to nan for calculation of mean\n",
    "            diamondArray[np.isinf(diamondArray)] = np.nan\n",
    "            diamondAccumulator.append(np.nanmean(diamondArray))\n",
    "            # append x-value for this particular bin\n",
    "            binAccumulator.append(np.median(range(i - halfWindow, (i+halfWindow) + 1,)))\n",
    "    if centerX:\n",
    "        xOut = (np.array(binAccumulator - np.median(binAccumulator)))\n",
    "    else:\n",
    "        xOut = np.array(binAccumulator)\n",
    "    return (xOut, np.array(diamondAccumulator))"
   ]
  },
  {
   "cell_type": "markdown",
   "metadata": {},
   "source": [
    "# Set wd"
   ]
  },
  {
   "cell_type": "code",
   "execution_count": 7,
   "metadata": {},
   "outputs": [],
   "source": [
    "os.chdir(\"/groups/gerlich/experiments/Experiments_004800/004812/\")"
   ]
  },
  {
   "cell_type": "markdown",
   "metadata": {},
   "source": [
    "# Plot histogram of obs/exp score at CTCF sites"
   ]
  },
  {
   "cell_type": "markdown",
   "metadata": {},
   "source": [
    "## Get chromosomal arms and define cooler handles"
   ]
  },
  {
   "cell_type": "code",
   "execution_count": 8,
   "metadata": {},
   "outputs": [],
   "source": [
    "chromsizes = bioframe.fetch_chromsizes('hg19')\n",
    "arms = HT.getArmsHg19()"
   ]
  },
  {
   "cell_type": "code",
   "execution_count": 9,
   "metadata": {},
   "outputs": [],
   "source": [
    "HICPATH = \"/groups/gerlich/experiments/Experiments_004800/004812/Sequencing_data/Pooled_FC_1_2_3_4/cooler/\"\n",
    "\n",
    "BINSIZE = 10000\n",
    "BARCODE = \"G2.fc_1_2_3_4.wOldG2\"\n",
    "clrs = {interType:\n",
    "        cooler.Cooler(\n",
    "            os.path.join(HICPATH, f'{BARCODE}.{interType}.1000.mcool::/resolutions/{BINSIZE}'))\n",
    "        for interType in [\"cis\", \"trans\"]}"
   ]
  },
  {
   "cell_type": "markdown",
   "metadata": {},
   "source": [
    "## Calculate expected"
   ]
  },
  {
   "cell_type": "code",
   "execution_count": 10,
   "metadata": {},
   "outputs": [],
   "source": [
    "exp = {interType:\n",
    "       HT.getExpected(clrs[interType], arms)\n",
    "       for interType in [\"cis\", \"trans\"]\n",
    "       }"
   ]
  },
  {
   "cell_type": "markdown",
   "metadata": {},
   "source": [
    "## Load CTCF sites"
   ]
  },
  {
   "cell_type": "code",
   "execution_count": 11,
   "metadata": {},
   "outputs": [],
   "source": [
    "CTCFsites = pd.read_csv(\"/groups/gerlich/experiments/Experiments_004700/004767/Sequencing_data/GSM733785_hg19_wgEncodeBroadHistoneHelas3CtcfStdPk.broadPeak\", sep=\"\\t\", header=None)[[0, 1, 2]]\n",
    "CTCFsites.columns = [\"chrom\", \"start\", \"end\"]\n",
    "CTCFsites.loc[:, \"mid\"] = (CTCFsites[\"start\"] + CTCFsites[\"end\"])//2"
   ]
  },
  {
   "cell_type": "markdown",
   "metadata": {},
   "source": [
    "## Intersect with CTCF motifs"
   ]
  },
  {
   "cell_type": "code",
   "execution_count": 12,
   "metadata": {},
   "outputs": [
    {
     "output_type": "execute_result",
     "data": {
      "text/plain": "       chrom     start       end       mid\n0      chr22  16166509  16166745  16166627\n1      chr22  16843427  16870543  16856985\n2      chr22  17174831  17174976  17174903\n3      chr22  17255298  17256004  17255651\n4      chr22  17264612  17265169  17264890\n...      ...       ...       ...       ...\n60924  chr18  77838349  77839361  77838855\n60925  chr18  77911939  77912748  77912343\n60926  chr18  77915328  77916373  77915850\n60927  chr18  77928907  77929729  77929318\n60928  chr18  78015487  78016182  78015834\n\n[60929 rows x 4 columns]",
      "text/html": "<div>\n<style scoped>\n    .dataframe tbody tr th:only-of-type {\n        vertical-align: middle;\n    }\n\n    .dataframe tbody tr th {\n        vertical-align: top;\n    }\n\n    .dataframe thead th {\n        text-align: right;\n    }\n</style>\n<table border=\"1\" class=\"dataframe\">\n  <thead>\n    <tr style=\"text-align: right;\">\n      <th></th>\n      <th>chrom</th>\n      <th>start</th>\n      <th>end</th>\n      <th>mid</th>\n    </tr>\n  </thead>\n  <tbody>\n    <tr>\n      <th>0</th>\n      <td>chr22</td>\n      <td>16166509</td>\n      <td>16166745</td>\n      <td>16166627</td>\n    </tr>\n    <tr>\n      <th>1</th>\n      <td>chr22</td>\n      <td>16843427</td>\n      <td>16870543</td>\n      <td>16856985</td>\n    </tr>\n    <tr>\n      <th>2</th>\n      <td>chr22</td>\n      <td>17174831</td>\n      <td>17174976</td>\n      <td>17174903</td>\n    </tr>\n    <tr>\n      <th>3</th>\n      <td>chr22</td>\n      <td>17255298</td>\n      <td>17256004</td>\n      <td>17255651</td>\n    </tr>\n    <tr>\n      <th>4</th>\n      <td>chr22</td>\n      <td>17264612</td>\n      <td>17265169</td>\n      <td>17264890</td>\n    </tr>\n    <tr>\n      <th>...</th>\n      <td>...</td>\n      <td>...</td>\n      <td>...</td>\n      <td>...</td>\n    </tr>\n    <tr>\n      <th>60924</th>\n      <td>chr18</td>\n      <td>77838349</td>\n      <td>77839361</td>\n      <td>77838855</td>\n    </tr>\n    <tr>\n      <th>60925</th>\n      <td>chr18</td>\n      <td>77911939</td>\n      <td>77912748</td>\n      <td>77912343</td>\n    </tr>\n    <tr>\n      <th>60926</th>\n      <td>chr18</td>\n      <td>77915328</td>\n      <td>77916373</td>\n      <td>77915850</td>\n    </tr>\n    <tr>\n      <th>60927</th>\n      <td>chr18</td>\n      <td>77928907</td>\n      <td>77929729</td>\n      <td>77929318</td>\n    </tr>\n    <tr>\n      <th>60928</th>\n      <td>chr18</td>\n      <td>78015487</td>\n      <td>78016182</td>\n      <td>78015834</td>\n    </tr>\n  </tbody>\n</table>\n<p>60929 rows × 4 columns</p>\n</div>"
     },
     "metadata": {},
     "execution_count": 12
    }
   ],
   "source": [
    "CTCFmotifs = pd.read_csv(\"/groups/gerlich/experiments/Experiments_004400/004472/Datasets/CTCF_motfis_hg19.bed\", sep=\"\\t\", header=None)[[0, 1, 2]]\n",
    "motifs = pybedtools.BedTool.from_dataframe(CTCFmotifs)\n",
    "peaks = pybedtools.BedTool.from_dataframe(CTCFsites)\n",
    "goodPeaks = peaks + motifs\n",
    "ctcfGood = goodPeaks.to_dataframe()\n",
    "ctcfGood.columns = CTCFsites.columns\n",
    "ctcfGood"
   ]
  },
  {
   "cell_type": "markdown",
   "metadata": {},
   "source": [
    "## Get pairing score at these regions for cis and trans\n",
    "Pairing score is calculated with a halfwindowsize of 40kb (=80kb windowsize)"
   ]
  },
  {
   "cell_type": "code",
   "execution_count": 13,
   "metadata": {},
   "outputs": [],
   "source": [
    "transPairObsExp = getPairingScoreObsExp(clrs[\"trans\"], exp[\"trans\"], regions=ctcfGood, norm=False, windowsize=4 * 10**4)"
   ]
  },
  {
   "cell_type": "code",
   "execution_count": 14,
   "metadata": {},
   "outputs": [],
   "source": [
    "transPairObsExp.loc[:, \"log2Pair\"] = np.log2(transPairObsExp[\"PairingScore\"])\n",
    "transPairObsExp = transPairObsExp.replace([np.inf, -np.inf], np.nan).dropna()"
   ]
  },
  {
   "cell_type": "code",
   "execution_count": 15,
   "metadata": {},
   "outputs": [],
   "source": [
    "cisPairObsExp = getPairingScoreObsExp(clrs[\"cis\"], exp[\"cis\"], regions=ctcfGood, norm=False, windowsize=4 * 10**4)"
   ]
  },
  {
   "cell_type": "code",
   "execution_count": 16,
   "metadata": {},
   "outputs": [],
   "source": [
    "cisPairObsExp.loc[:, \"log2Pair\"] = np.log2(cisPairObsExp[\"PairingScore\"])\n",
    "cisPairObsExp = cisPairObsExp.replace([np.inf, -np.inf], np.nan).dropna()"
   ]
  },
  {
   "cell_type": "markdown",
   "metadata": {},
   "source": [
    "## Plot results (logarithmic values)"
   ]
  },
  {
   "cell_type": "code",
   "execution_count": 20,
   "metadata": {},
   "outputs": [
    {
     "output_type": "display_data",
     "data": {
      "text/plain": "<Figure size 504x504 with 1 Axes>",
      "image/svg+xml": "<?xml version=\"1.0\" encoding=\"utf-8\" standalone=\"no\"?>\n<!DOCTYPE svg PUBLIC \"-//W3C//DTD SVG 1.1//EN\"\n  \"http://www.w3.org/Graphics/SVG/1.1/DTD/svg11.dtd\">\n<!-- Created with matplotlib (https://matplotlib.org/) -->\n<svg height=\"446.08925pt\" version=\"1.1\" viewBox=\"0 0 446.6975 446.08925\" width=\"446.6975pt\" xmlns=\"http://www.w3.org/2000/svg\" xmlns:xlink=\"http://www.w3.org/1999/xlink\">\n <defs>\n  <style type=\"text/css\">\n*{stroke-linecap:butt;stroke-linejoin:round;}\n  </style>\n </defs>\n <g id=\"figure_1\">\n  <g id=\"patch_1\">\n   <path d=\"M 0 446.08925 \nL 446.6975 446.08925 \nL 446.6975 0 \nL 0 0 \nz\n\" style=\"fill:none;\"/>\n  </g>\n  <g id=\"axes_1\">\n   <g id=\"patch_2\">\n    <path d=\"M 48.8975 404.66175 \nL 439.4975 404.66175 \nL 439.4975 24.14175 \nL 48.8975 24.14175 \nz\n\" style=\"fill:#ffffff;\"/>\n   </g>\n   <g id=\"patch_3\">\n    <path clip-path=\"url(#p8ce41faa91)\" d=\"M 66.652045 404.66175 \nL 66.652045 403.22436 \nL 78.488409 403.22436 \nL 78.488409 401.531434 \nL 90.324773 401.531434 \nL 90.324773 399.359378 \nL 102.161136 399.359378 \nL 102.161136 396.835959 \nL 113.9975 396.835959 \nL 113.9975 392.108543 \nL 125.833864 392.108543 \nL 125.833864 386.486751 \nL 137.670227 386.486751 \nL 137.670227 383.356435 \nL 149.506591 383.356435 \nL 149.506591 379.77893 \nL 161.342955 379.77893 \nL 161.342955 370.004678 \nL 173.179318 370.004678 \nL 173.179318 362.051119 \nL 185.015682 362.051119 \nL 185.015682 352.532403 \nL 196.852045 352.532403 \nL 196.852045 340.04308 \nL 208.688409 340.04308 \nL 208.688409 327.234337 \nL 220.524773 327.234337 \nL 220.524773 310.943916 \nL 232.361136 310.943916 \nL 232.361136 296.282537 \nL 244.1975 296.282537 \nL 244.1975 282.45165 \nL 256.033864 282.45165 \nL 256.033864 262.20042 \nL 267.870227 262.20042 \nL 267.870227 258.271554 \nL 279.706591 258.271554 \nL 279.706591 256.546686 \nL 291.542955 256.546686 \nL 291.542955 257.72854 \nL 303.379318 257.72854 \nL 303.379318 270.792819 \nL 315.215682 270.792819 \nL 315.215682 291.39541 \nL 327.052045 291.39541 \nL 327.052045 313.72287 \nL 338.888409 313.72287 \nL 338.888409 340.586094 \nL 350.724773 340.586094 \nL 350.724773 363.105205 \nL 362.561136 363.105205 \nL 362.561136 383.611971 \nL 374.3975 383.611971 \nL 374.3975 390.319791 \nL 386.233864 390.319791 \nL 386.233864 398.305292 \nL 398.070227 398.305292 \nL 398.070227 401.403666 \nL 409.906591 401.403666 \nL 409.906591 402.777172 \nL 421.742955 402.777172 \nL 421.742955 404.66175 \n\" style=\"fill:none;stroke:#ff0000;stroke-linejoin:miter;stroke-width:4;\"/>\n   </g>\n   <g id=\"patch_4\">\n    <path clip-path=\"url(#p8ce41faa91)\" d=\"M 66.652045 404.66175 \nL 66.652045 404.66175 \nL 78.488409 404.66175 \nL 78.488409 404.66175 \nL 90.324773 404.66175 \nL 90.324773 404.543008 \nL 102.161136 404.543008 \nL 102.161136 404.632065 \nL 113.9975 404.632065 \nL 113.9975 404.543008 \nL 125.833864 404.543008 \nL 125.833864 404.453952 \nL 137.670227 404.453952 \nL 137.670227 404.33521 \nL 149.506591 404.33521 \nL 149.506591 403.919614 \nL 161.342955 403.919614 \nL 161.342955 403.118106 \nL 173.179318 403.118106 \nL 173.179318 399.229312 \nL 185.015682 399.229312 \nL 185.015682 393.084424 \nL 196.852045 393.084424 \nL 196.852045 376.78711 \nL 208.688409 376.78711 \nL 208.688409 343.806573 \nL 220.524773 343.806573 \nL 220.524773 292.213257 \nL 232.361136 292.213257 \nL 232.361136 214.110833 \nL 244.1975 214.110833 \nL 244.1975 122.174987 \nL 256.033864 122.174987 \nL 256.033864 42.26175 \nL 267.870227 42.26175 \nL 267.870227 67.405328 \nL 279.706591 67.405328 \nL 279.706591 199.654017 \nL 291.542955 199.654017 \nL 291.542955 312.339994 \nL 303.379318 312.339994 \nL 303.379318 369.662602 \nL 315.215682 369.662602 \nL 315.215682 390.353362 \nL 327.052045 390.353362 \nL 327.052045 395.637373 \nL 338.888409 395.637373 \nL 338.888409 399.466796 \nL 350.724773 399.466796 \nL 350.724773 401.218238 \nL 362.561136 401.218238 \nL 362.561136 402.138487 \nL 374.3975 402.138487 \nL 374.3975 402.880623 \nL 386.233864 402.880623 \nL 386.233864 403.68213 \nL 398.070227 403.68213 \nL 398.070227 403.889928 \nL 409.906591 403.889928 \nL 409.906591 404.127412 \nL 421.742955 404.127412 \nL 421.742955 404.66175 \n\" style=\"fill:none;stroke:#0000ff;stroke-linejoin:miter;stroke-width:4;\"/>\n   </g>\n   <g id=\"matplotlib.axis_1\">\n    <g id=\"xtick_1\">\n     <g id=\"line2d_1\">\n      <defs>\n       <path d=\"M 0 0 \nL 0 3.5 \n\" id=\"m80f145ebd7\" style=\"stroke:#000000;stroke-width:0.8;\"/>\n      </defs>\n      <g>\n       <use style=\"stroke:#000000;stroke-width:0.8;\" x=\"66.652045\" xlink:href=\"#m80f145ebd7\" y=\"404.66175\"/>\n      </g>\n     </g>\n     <g id=\"text_1\">\n      <!-- −4 -->\n      <defs>\n       <path d=\"M 10.59375 35.5 \nL 73.1875 35.5 \nL 73.1875 27.203125 \nL 10.59375 27.203125 \nz\n\" id=\"DejaVuSans-8722\"/>\n       <path d=\"M 37.796875 64.3125 \nL 12.890625 25.390625 \nL 37.796875 25.390625 \nz\nM 35.203125 72.90625 \nL 47.609375 72.90625 \nL 47.609375 25.390625 \nL 58.015625 25.390625 \nL 58.015625 17.1875 \nL 47.609375 17.1875 \nL 47.609375 0 \nL 37.796875 0 \nL 37.796875 17.1875 \nL 4.890625 17.1875 \nL 4.890625 26.703125 \nz\n\" id=\"DejaVuSans-52\"/>\n      </defs>\n      <g transform=\"translate(57.806733 420.779875)scale(0.12 -0.12)\">\n       <use xlink:href=\"#DejaVuSans-8722\"/>\n       <use x=\"83.789062\" xlink:href=\"#DejaVuSans-52\"/>\n      </g>\n     </g>\n    </g>\n    <g id=\"xtick_2\">\n     <g id=\"line2d_2\">\n      <g>\n       <use style=\"stroke:#000000;stroke-width:0.8;\" x=\"117.379318\" xlink:href=\"#m80f145ebd7\" y=\"404.66175\"/>\n      </g>\n     </g>\n     <g id=\"text_2\">\n      <!-- −3 -->\n      <defs>\n       <path d=\"M 40.578125 39.3125 \nQ 47.65625 37.796875 51.625 33 \nQ 55.609375 28.21875 55.609375 21.1875 \nQ 55.609375 10.40625 48.1875 4.484375 \nQ 40.765625 -1.421875 27.09375 -1.421875 \nQ 22.515625 -1.421875 17.65625 -0.515625 \nQ 12.796875 0.390625 7.625 2.203125 \nL 7.625 11.71875 \nQ 11.71875 9.328125 16.59375 8.109375 \nQ 21.484375 6.890625 26.8125 6.890625 \nQ 36.078125 6.890625 40.9375 10.546875 \nQ 45.796875 14.203125 45.796875 21.1875 \nQ 45.796875 27.640625 41.28125 31.265625 \nQ 36.765625 34.90625 28.71875 34.90625 \nL 20.21875 34.90625 \nL 20.21875 43.015625 \nL 29.109375 43.015625 \nQ 36.375 43.015625 40.234375 45.921875 \nQ 44.09375 48.828125 44.09375 54.296875 \nQ 44.09375 59.90625 40.109375 62.90625 \nQ 36.140625 65.921875 28.71875 65.921875 \nQ 24.65625 65.921875 20.015625 65.03125 \nQ 15.375 64.15625 9.8125 62.3125 \nL 9.8125 71.09375 \nQ 15.4375 72.65625 20.34375 73.4375 \nQ 25.25 74.21875 29.59375 74.21875 \nQ 40.828125 74.21875 47.359375 69.109375 \nQ 53.90625 64.015625 53.90625 55.328125 \nQ 53.90625 49.265625 50.4375 45.09375 \nQ 46.96875 40.921875 40.578125 39.3125 \nz\n\" id=\"DejaVuSans-51\"/>\n      </defs>\n      <g transform=\"translate(108.534006 420.779875)scale(0.12 -0.12)\">\n       <use xlink:href=\"#DejaVuSans-8722\"/>\n       <use x=\"83.789062\" xlink:href=\"#DejaVuSans-51\"/>\n      </g>\n     </g>\n    </g>\n    <g id=\"xtick_3\">\n     <g id=\"line2d_3\">\n      <g>\n       <use style=\"stroke:#000000;stroke-width:0.8;\" x=\"168.106591\" xlink:href=\"#m80f145ebd7\" y=\"404.66175\"/>\n      </g>\n     </g>\n     <g id=\"text_3\">\n      <!-- −2 -->\n      <defs>\n       <path d=\"M 19.1875 8.296875 \nL 53.609375 8.296875 \nL 53.609375 0 \nL 7.328125 0 \nL 7.328125 8.296875 \nQ 12.9375 14.109375 22.625 23.890625 \nQ 32.328125 33.6875 34.8125 36.53125 \nQ 39.546875 41.84375 41.421875 45.53125 \nQ 43.3125 49.21875 43.3125 52.78125 \nQ 43.3125 58.59375 39.234375 62.25 \nQ 35.15625 65.921875 28.609375 65.921875 \nQ 23.96875 65.921875 18.8125 64.3125 \nQ 13.671875 62.703125 7.8125 59.421875 \nL 7.8125 69.390625 \nQ 13.765625 71.78125 18.9375 73 \nQ 24.125 74.21875 28.421875 74.21875 \nQ 39.75 74.21875 46.484375 68.546875 \nQ 53.21875 62.890625 53.21875 53.421875 \nQ 53.21875 48.921875 51.53125 44.890625 \nQ 49.859375 40.875 45.40625 35.40625 \nQ 44.1875 33.984375 37.640625 27.21875 \nQ 31.109375 20.453125 19.1875 8.296875 \nz\n\" id=\"DejaVuSans-50\"/>\n      </defs>\n      <g transform=\"translate(159.261278 420.779875)scale(0.12 -0.12)\">\n       <use xlink:href=\"#DejaVuSans-8722\"/>\n       <use x=\"83.789062\" xlink:href=\"#DejaVuSans-50\"/>\n      </g>\n     </g>\n    </g>\n    <g id=\"xtick_4\">\n     <g id=\"line2d_4\">\n      <g>\n       <use style=\"stroke:#000000;stroke-width:0.8;\" x=\"218.833864\" xlink:href=\"#m80f145ebd7\" y=\"404.66175\"/>\n      </g>\n     </g>\n     <g id=\"text_4\">\n      <!-- −1 -->\n      <defs>\n       <path d=\"M 12.40625 8.296875 \nL 28.515625 8.296875 \nL 28.515625 63.921875 \nL 10.984375 60.40625 \nL 10.984375 69.390625 \nL 28.421875 72.90625 \nL 38.28125 72.90625 \nL 38.28125 8.296875 \nL 54.390625 8.296875 \nL 54.390625 0 \nL 12.40625 0 \nz\n\" id=\"DejaVuSans-49\"/>\n      </defs>\n      <g transform=\"translate(209.988551 420.779875)scale(0.12 -0.12)\">\n       <use xlink:href=\"#DejaVuSans-8722\"/>\n       <use x=\"83.789062\" xlink:href=\"#DejaVuSans-49\"/>\n      </g>\n     </g>\n    </g>\n    <g id=\"xtick_5\">\n     <g id=\"line2d_5\">\n      <g>\n       <use style=\"stroke:#000000;stroke-width:0.8;\" x=\"269.561136\" xlink:href=\"#m80f145ebd7\" y=\"404.66175\"/>\n      </g>\n     </g>\n     <g id=\"text_5\">\n      <!-- 0 -->\n      <defs>\n       <path d=\"M 31.78125 66.40625 \nQ 24.171875 66.40625 20.328125 58.90625 \nQ 16.5 51.421875 16.5 36.375 \nQ 16.5 21.390625 20.328125 13.890625 \nQ 24.171875 6.390625 31.78125 6.390625 \nQ 39.453125 6.390625 43.28125 13.890625 \nQ 47.125 21.390625 47.125 36.375 \nQ 47.125 51.421875 43.28125 58.90625 \nQ 39.453125 66.40625 31.78125 66.40625 \nz\nM 31.78125 74.21875 \nQ 44.046875 74.21875 50.515625 64.515625 \nQ 56.984375 54.828125 56.984375 36.375 \nQ 56.984375 17.96875 50.515625 8.265625 \nQ 44.046875 -1.421875 31.78125 -1.421875 \nQ 19.53125 -1.421875 13.0625 8.265625 \nQ 6.59375 17.96875 6.59375 36.375 \nQ 6.59375 54.828125 13.0625 64.515625 \nQ 19.53125 74.21875 31.78125 74.21875 \nz\n\" id=\"DejaVuSans-48\"/>\n      </defs>\n      <g transform=\"translate(265.743636 420.779875)scale(0.12 -0.12)\">\n       <use xlink:href=\"#DejaVuSans-48\"/>\n      </g>\n     </g>\n    </g>\n    <g id=\"xtick_6\">\n     <g id=\"line2d_6\">\n      <g>\n       <use style=\"stroke:#000000;stroke-width:0.8;\" x=\"320.288409\" xlink:href=\"#m80f145ebd7\" y=\"404.66175\"/>\n      </g>\n     </g>\n     <g id=\"text_6\">\n      <!-- 1 -->\n      <g transform=\"translate(316.470909 420.779875)scale(0.12 -0.12)\">\n       <use xlink:href=\"#DejaVuSans-49\"/>\n      </g>\n     </g>\n    </g>\n    <g id=\"xtick_7\">\n     <g id=\"line2d_7\">\n      <g>\n       <use style=\"stroke:#000000;stroke-width:0.8;\" x=\"371.015682\" xlink:href=\"#m80f145ebd7\" y=\"404.66175\"/>\n      </g>\n     </g>\n     <g id=\"text_7\">\n      <!-- 2 -->\n      <g transform=\"translate(367.198182 420.779875)scale(0.12 -0.12)\">\n       <use xlink:href=\"#DejaVuSans-50\"/>\n      </g>\n     </g>\n    </g>\n    <g id=\"xtick_8\">\n     <g id=\"line2d_8\">\n      <g>\n       <use style=\"stroke:#000000;stroke-width:0.8;\" x=\"421.742955\" xlink:href=\"#m80f145ebd7\" y=\"404.66175\"/>\n      </g>\n     </g>\n     <g id=\"text_8\">\n      <!-- 3 -->\n      <g transform=\"translate(417.925455 420.779875)scale(0.12 -0.12)\">\n       <use xlink:href=\"#DejaVuSans-51\"/>\n      </g>\n     </g>\n    </g>\n    <g id=\"text_9\">\n     <!-- log2(Obs/Exp) -->\n     <defs>\n      <path d=\"M 9.421875 75.984375 \nL 18.40625 75.984375 \nL 18.40625 0 \nL 9.421875 0 \nz\n\" id=\"DejaVuSans-108\"/>\n      <path d=\"M 30.609375 48.390625 \nQ 23.390625 48.390625 19.1875 42.75 \nQ 14.984375 37.109375 14.984375 27.296875 \nQ 14.984375 17.484375 19.15625 11.84375 \nQ 23.34375 6.203125 30.609375 6.203125 \nQ 37.796875 6.203125 41.984375 11.859375 \nQ 46.1875 17.53125 46.1875 27.296875 \nQ 46.1875 37.015625 41.984375 42.703125 \nQ 37.796875 48.390625 30.609375 48.390625 \nz\nM 30.609375 56 \nQ 42.328125 56 49.015625 48.375 \nQ 55.71875 40.765625 55.71875 27.296875 \nQ 55.71875 13.875 49.015625 6.21875 \nQ 42.328125 -1.421875 30.609375 -1.421875 \nQ 18.84375 -1.421875 12.171875 6.21875 \nQ 5.515625 13.875 5.515625 27.296875 \nQ 5.515625 40.765625 12.171875 48.375 \nQ 18.84375 56 30.609375 56 \nz\n\" id=\"DejaVuSans-111\"/>\n      <path d=\"M 45.40625 27.984375 \nQ 45.40625 37.75 41.375 43.109375 \nQ 37.359375 48.484375 30.078125 48.484375 \nQ 22.859375 48.484375 18.828125 43.109375 \nQ 14.796875 37.75 14.796875 27.984375 \nQ 14.796875 18.265625 18.828125 12.890625 \nQ 22.859375 7.515625 30.078125 7.515625 \nQ 37.359375 7.515625 41.375 12.890625 \nQ 45.40625 18.265625 45.40625 27.984375 \nz\nM 54.390625 6.78125 \nQ 54.390625 -7.171875 48.1875 -13.984375 \nQ 42 -20.796875 29.203125 -20.796875 \nQ 24.46875 -20.796875 20.265625 -20.09375 \nQ 16.0625 -19.390625 12.109375 -17.921875 \nL 12.109375 -9.1875 \nQ 16.0625 -11.328125 19.921875 -12.34375 \nQ 23.78125 -13.375 27.78125 -13.375 \nQ 36.625 -13.375 41.015625 -8.765625 \nQ 45.40625 -4.15625 45.40625 5.171875 \nL 45.40625 9.625 \nQ 42.625 4.78125 38.28125 2.390625 \nQ 33.9375 0 27.875 0 \nQ 17.828125 0 11.671875 7.65625 \nQ 5.515625 15.328125 5.515625 27.984375 \nQ 5.515625 40.671875 11.671875 48.328125 \nQ 17.828125 56 27.875 56 \nQ 33.9375 56 38.28125 53.609375 \nQ 42.625 51.21875 45.40625 46.390625 \nL 45.40625 54.6875 \nL 54.390625 54.6875 \nz\n\" id=\"DejaVuSans-103\"/>\n      <path d=\"M 31 75.875 \nQ 24.46875 64.65625 21.28125 53.65625 \nQ 18.109375 42.671875 18.109375 31.390625 \nQ 18.109375 20.125 21.3125 9.0625 \nQ 24.515625 -2 31 -13.1875 \nL 23.1875 -13.1875 \nQ 15.875 -1.703125 12.234375 9.375 \nQ 8.59375 20.453125 8.59375 31.390625 \nQ 8.59375 42.28125 12.203125 53.3125 \nQ 15.828125 64.359375 23.1875 75.875 \nz\n\" id=\"DejaVuSans-40\"/>\n      <path d=\"M 39.40625 66.21875 \nQ 28.65625 66.21875 22.328125 58.203125 \nQ 16.015625 50.203125 16.015625 36.375 \nQ 16.015625 22.609375 22.328125 14.59375 \nQ 28.65625 6.59375 39.40625 6.59375 \nQ 50.140625 6.59375 56.421875 14.59375 \nQ 62.703125 22.609375 62.703125 36.375 \nQ 62.703125 50.203125 56.421875 58.203125 \nQ 50.140625 66.21875 39.40625 66.21875 \nz\nM 39.40625 74.21875 \nQ 54.734375 74.21875 63.90625 63.9375 \nQ 73.09375 53.65625 73.09375 36.375 \nQ 73.09375 19.140625 63.90625 8.859375 \nQ 54.734375 -1.421875 39.40625 -1.421875 \nQ 24.03125 -1.421875 14.8125 8.828125 \nQ 5.609375 19.09375 5.609375 36.375 \nQ 5.609375 53.65625 14.8125 63.9375 \nQ 24.03125 74.21875 39.40625 74.21875 \nz\n\" id=\"DejaVuSans-79\"/>\n      <path d=\"M 48.6875 27.296875 \nQ 48.6875 37.203125 44.609375 42.84375 \nQ 40.53125 48.484375 33.40625 48.484375 \nQ 26.265625 48.484375 22.1875 42.84375 \nQ 18.109375 37.203125 18.109375 27.296875 \nQ 18.109375 17.390625 22.1875 11.75 \nQ 26.265625 6.109375 33.40625 6.109375 \nQ 40.53125 6.109375 44.609375 11.75 \nQ 48.6875 17.390625 48.6875 27.296875 \nz\nM 18.109375 46.390625 \nQ 20.953125 51.265625 25.265625 53.625 \nQ 29.59375 56 35.59375 56 \nQ 45.5625 56 51.78125 48.09375 \nQ 58.015625 40.1875 58.015625 27.296875 \nQ 58.015625 14.40625 51.78125 6.484375 \nQ 45.5625 -1.421875 35.59375 -1.421875 \nQ 29.59375 -1.421875 25.265625 0.953125 \nQ 20.953125 3.328125 18.109375 8.203125 \nL 18.109375 0 \nL 9.078125 0 \nL 9.078125 75.984375 \nL 18.109375 75.984375 \nz\n\" id=\"DejaVuSans-98\"/>\n      <path d=\"M 44.28125 53.078125 \nL 44.28125 44.578125 \nQ 40.484375 46.53125 36.375 47.5 \nQ 32.28125 48.484375 27.875 48.484375 \nQ 21.1875 48.484375 17.84375 46.4375 \nQ 14.5 44.390625 14.5 40.28125 \nQ 14.5 37.15625 16.890625 35.375 \nQ 19.28125 33.59375 26.515625 31.984375 \nL 29.59375 31.296875 \nQ 39.15625 29.25 43.1875 25.515625 \nQ 47.21875 21.78125 47.21875 15.09375 \nQ 47.21875 7.46875 41.1875 3.015625 \nQ 35.15625 -1.421875 24.609375 -1.421875 \nQ 20.21875 -1.421875 15.453125 -0.5625 \nQ 10.6875 0.296875 5.421875 2 \nL 5.421875 11.28125 \nQ 10.40625 8.6875 15.234375 7.390625 \nQ 20.0625 6.109375 24.8125 6.109375 \nQ 31.15625 6.109375 34.5625 8.28125 \nQ 37.984375 10.453125 37.984375 14.40625 \nQ 37.984375 18.0625 35.515625 20.015625 \nQ 33.0625 21.96875 24.703125 23.78125 \nL 21.578125 24.515625 \nQ 13.234375 26.265625 9.515625 29.90625 \nQ 5.8125 33.546875 5.8125 39.890625 \nQ 5.8125 47.609375 11.28125 51.796875 \nQ 16.75 56 26.8125 56 \nQ 31.78125 56 36.171875 55.265625 \nQ 40.578125 54.546875 44.28125 53.078125 \nz\n\" id=\"DejaVuSans-115\"/>\n      <path d=\"M 25.390625 72.90625 \nL 33.6875 72.90625 \nL 8.296875 -9.28125 \nL 0 -9.28125 \nz\n\" id=\"DejaVuSans-47\"/>\n      <path d=\"M 9.8125 72.90625 \nL 55.90625 72.90625 \nL 55.90625 64.59375 \nL 19.671875 64.59375 \nL 19.671875 43.015625 \nL 54.390625 43.015625 \nL 54.390625 34.71875 \nL 19.671875 34.71875 \nL 19.671875 8.296875 \nL 56.78125 8.296875 \nL 56.78125 0 \nL 9.8125 0 \nz\n\" id=\"DejaVuSans-69\"/>\n      <path d=\"M 54.890625 54.6875 \nL 35.109375 28.078125 \nL 55.90625 0 \nL 45.3125 0 \nL 29.390625 21.484375 \nL 13.484375 0 \nL 2.875 0 \nL 24.125 28.609375 \nL 4.6875 54.6875 \nL 15.28125 54.6875 \nL 29.78125 35.203125 \nL 44.28125 54.6875 \nz\n\" id=\"DejaVuSans-120\"/>\n      <path d=\"M 18.109375 8.203125 \nL 18.109375 -20.796875 \nL 9.078125 -20.796875 \nL 9.078125 54.6875 \nL 18.109375 54.6875 \nL 18.109375 46.390625 \nQ 20.953125 51.265625 25.265625 53.625 \nQ 29.59375 56 35.59375 56 \nQ 45.5625 56 51.78125 48.09375 \nQ 58.015625 40.1875 58.015625 27.296875 \nQ 58.015625 14.40625 51.78125 6.484375 \nQ 45.5625 -1.421875 35.59375 -1.421875 \nQ 29.59375 -1.421875 25.265625 0.953125 \nQ 20.953125 3.328125 18.109375 8.203125 \nz\nM 48.6875 27.296875 \nQ 48.6875 37.203125 44.609375 42.84375 \nQ 40.53125 48.484375 33.40625 48.484375 \nQ 26.265625 48.484375 22.1875 42.84375 \nQ 18.109375 37.203125 18.109375 27.296875 \nQ 18.109375 17.390625 22.1875 11.75 \nQ 26.265625 6.109375 33.40625 6.109375 \nQ 40.53125 6.109375 44.609375 11.75 \nQ 48.6875 17.390625 48.6875 27.296875 \nz\n\" id=\"DejaVuSans-112\"/>\n      <path d=\"M 8.015625 75.875 \nL 15.828125 75.875 \nQ 23.140625 64.359375 26.78125 53.3125 \nQ 30.421875 42.28125 30.421875 31.390625 \nQ 30.421875 20.453125 26.78125 9.375 \nQ 23.140625 -1.703125 15.828125 -13.1875 \nL 8.015625 -13.1875 \nQ 14.5 -2 17.703125 9.0625 \nQ 20.90625 20.125 20.90625 31.390625 \nQ 20.90625 42.671875 17.703125 53.65625 \nQ 14.5 64.65625 8.015625 75.875 \nz\n\" id=\"DejaVuSans-41\"/>\n     </defs>\n     <g transform=\"translate(201.720313 436.393625)scale(0.12 -0.12)\">\n      <use xlink:href=\"#DejaVuSans-108\"/>\n      <use x=\"27.783203\" xlink:href=\"#DejaVuSans-111\"/>\n      <use x=\"88.964844\" xlink:href=\"#DejaVuSans-103\"/>\n      <use x=\"152.441406\" xlink:href=\"#DejaVuSans-50\"/>\n      <use x=\"216.064453\" xlink:href=\"#DejaVuSans-40\"/>\n      <use x=\"255.078125\" xlink:href=\"#DejaVuSans-79\"/>\n      <use x=\"333.789062\" xlink:href=\"#DejaVuSans-98\"/>\n      <use x=\"397.265625\" xlink:href=\"#DejaVuSans-115\"/>\n      <use x=\"449.365234\" xlink:href=\"#DejaVuSans-47\"/>\n      <use x=\"483.056641\" xlink:href=\"#DejaVuSans-69\"/>\n      <use x=\"546.240234\" xlink:href=\"#DejaVuSans-120\"/>\n      <use x=\"605.419922\" xlink:href=\"#DejaVuSans-112\"/>\n      <use x=\"668.896484\" xlink:href=\"#DejaVuSans-41\"/>\n     </g>\n    </g>\n   </g>\n   <g id=\"matplotlib.axis_2\">\n    <g id=\"ytick_1\">\n     <g id=\"line2d_9\">\n      <defs>\n       <path d=\"M 0 0 \nL -3.5 0 \n\" id=\"m3480dd330c\" style=\"stroke:#000000;stroke-width:0.8;\"/>\n      </defs>\n      <g>\n       <use style=\"stroke:#000000;stroke-width:0.8;\" x=\"48.8975\" xlink:href=\"#m3480dd330c\" y=\"404.66175\"/>\n      </g>\n     </g>\n     <g id=\"text_10\">\n      <!-- 0.0 -->\n      <defs>\n       <path d=\"M 10.6875 12.40625 \nL 21 12.40625 \nL 21 0 \nL 10.6875 0 \nz\n\" id=\"DejaVuSans-46\"/>\n      </defs>\n      <g transform=\"translate(22.81375 409.220812)scale(0.12 -0.12)\">\n       <use xlink:href=\"#DejaVuSans-48\"/>\n       <use x=\"63.623047\" xlink:href=\"#DejaVuSans-46\"/>\n       <use x=\"95.410156\" xlink:href=\"#DejaVuSans-48\"/>\n      </g>\n     </g>\n    </g>\n    <g id=\"ytick_2\">\n     <g id=\"line2d_10\">\n      <g>\n       <use style=\"stroke:#000000;stroke-width:0.8;\" x=\"48.8975\" xlink:href=\"#m3480dd330c\" y=\"322.30164\"/>\n      </g>\n     </g>\n     <g id=\"text_11\">\n      <!-- 0.2 -->\n      <g transform=\"translate(22.81375 326.860702)scale(0.12 -0.12)\">\n       <use xlink:href=\"#DejaVuSans-48\"/>\n       <use x=\"63.623047\" xlink:href=\"#DejaVuSans-46\"/>\n       <use x=\"95.410156\" xlink:href=\"#DejaVuSans-50\"/>\n      </g>\n     </g>\n    </g>\n    <g id=\"ytick_3\">\n     <g id=\"line2d_11\">\n      <g>\n       <use style=\"stroke:#000000;stroke-width:0.8;\" x=\"48.8975\" xlink:href=\"#m3480dd330c\" y=\"239.94153\"/>\n      </g>\n     </g>\n     <g id=\"text_12\">\n      <!-- 0.4 -->\n      <g transform=\"translate(22.81375 244.500592)scale(0.12 -0.12)\">\n       <use xlink:href=\"#DejaVuSans-48\"/>\n       <use x=\"63.623047\" xlink:href=\"#DejaVuSans-46\"/>\n       <use x=\"95.410156\" xlink:href=\"#DejaVuSans-52\"/>\n      </g>\n     </g>\n    </g>\n    <g id=\"ytick_4\">\n     <g id=\"line2d_12\">\n      <g>\n       <use style=\"stroke:#000000;stroke-width:0.8;\" x=\"48.8975\" xlink:href=\"#m3480dd330c\" y=\"157.58142\"/>\n      </g>\n     </g>\n     <g id=\"text_13\">\n      <!-- 0.6 -->\n      <defs>\n       <path d=\"M 33.015625 40.375 \nQ 26.375 40.375 22.484375 35.828125 \nQ 18.609375 31.296875 18.609375 23.390625 \nQ 18.609375 15.53125 22.484375 10.953125 \nQ 26.375 6.390625 33.015625 6.390625 \nQ 39.65625 6.390625 43.53125 10.953125 \nQ 47.40625 15.53125 47.40625 23.390625 \nQ 47.40625 31.296875 43.53125 35.828125 \nQ 39.65625 40.375 33.015625 40.375 \nz\nM 52.59375 71.296875 \nL 52.59375 62.3125 \nQ 48.875 64.0625 45.09375 64.984375 \nQ 41.3125 65.921875 37.59375 65.921875 \nQ 27.828125 65.921875 22.671875 59.328125 \nQ 17.53125 52.734375 16.796875 39.40625 \nQ 19.671875 43.65625 24.015625 45.921875 \nQ 28.375 48.1875 33.59375 48.1875 \nQ 44.578125 48.1875 50.953125 41.515625 \nQ 57.328125 34.859375 57.328125 23.390625 \nQ 57.328125 12.15625 50.6875 5.359375 \nQ 44.046875 -1.421875 33.015625 -1.421875 \nQ 20.359375 -1.421875 13.671875 8.265625 \nQ 6.984375 17.96875 6.984375 36.375 \nQ 6.984375 53.65625 15.1875 63.9375 \nQ 23.390625 74.21875 37.203125 74.21875 \nQ 40.921875 74.21875 44.703125 73.484375 \nQ 48.484375 72.75 52.59375 71.296875 \nz\n\" id=\"DejaVuSans-54\"/>\n      </defs>\n      <g transform=\"translate(22.81375 162.140482)scale(0.12 -0.12)\">\n       <use xlink:href=\"#DejaVuSans-48\"/>\n       <use x=\"63.623047\" xlink:href=\"#DejaVuSans-46\"/>\n       <use x=\"95.410156\" xlink:href=\"#DejaVuSans-54\"/>\n      </g>\n     </g>\n    </g>\n    <g id=\"ytick_5\">\n     <g id=\"line2d_13\">\n      <g>\n       <use style=\"stroke:#000000;stroke-width:0.8;\" x=\"48.8975\" xlink:href=\"#m3480dd330c\" y=\"75.22131\"/>\n      </g>\n     </g>\n     <g id=\"text_14\">\n      <!-- 0.8 -->\n      <defs>\n       <path d=\"M 31.78125 34.625 \nQ 24.75 34.625 20.71875 30.859375 \nQ 16.703125 27.09375 16.703125 20.515625 \nQ 16.703125 13.921875 20.71875 10.15625 \nQ 24.75 6.390625 31.78125 6.390625 \nQ 38.8125 6.390625 42.859375 10.171875 \nQ 46.921875 13.96875 46.921875 20.515625 \nQ 46.921875 27.09375 42.890625 30.859375 \nQ 38.875 34.625 31.78125 34.625 \nz\nM 21.921875 38.8125 \nQ 15.578125 40.375 12.03125 44.71875 \nQ 8.5 49.078125 8.5 55.328125 \nQ 8.5 64.0625 14.71875 69.140625 \nQ 20.953125 74.21875 31.78125 74.21875 \nQ 42.671875 74.21875 48.875 69.140625 \nQ 55.078125 64.0625 55.078125 55.328125 \nQ 55.078125 49.078125 51.53125 44.71875 \nQ 48 40.375 41.703125 38.8125 \nQ 48.828125 37.15625 52.796875 32.3125 \nQ 56.78125 27.484375 56.78125 20.515625 \nQ 56.78125 9.90625 50.3125 4.234375 \nQ 43.84375 -1.421875 31.78125 -1.421875 \nQ 19.734375 -1.421875 13.25 4.234375 \nQ 6.78125 9.90625 6.78125 20.515625 \nQ 6.78125 27.484375 10.78125 32.3125 \nQ 14.796875 37.15625 21.921875 38.8125 \nz\nM 18.3125 54.390625 \nQ 18.3125 48.734375 21.84375 45.5625 \nQ 25.390625 42.390625 31.78125 42.390625 \nQ 38.140625 42.390625 41.71875 45.5625 \nQ 45.3125 48.734375 45.3125 54.390625 \nQ 45.3125 60.0625 41.71875 63.234375 \nQ 38.140625 66.40625 31.78125 66.40625 \nQ 25.390625 66.40625 21.84375 63.234375 \nQ 18.3125 60.0625 18.3125 54.390625 \nz\n\" id=\"DejaVuSans-56\"/>\n      </defs>\n      <g transform=\"translate(22.81375 79.780372)scale(0.12 -0.12)\">\n       <use xlink:href=\"#DejaVuSans-48\"/>\n       <use x=\"63.623047\" xlink:href=\"#DejaVuSans-46\"/>\n       <use x=\"95.410156\" xlink:href=\"#DejaVuSans-56\"/>\n      </g>\n     </g>\n    </g>\n    <g id=\"text_15\">\n     <!-- Density -->\n     <defs>\n      <path d=\"M 19.671875 64.796875 \nL 19.671875 8.109375 \nL 31.59375 8.109375 \nQ 46.6875 8.109375 53.6875 14.9375 \nQ 60.6875 21.78125 60.6875 36.53125 \nQ 60.6875 51.171875 53.6875 57.984375 \nQ 46.6875 64.796875 31.59375 64.796875 \nz\nM 9.8125 72.90625 \nL 30.078125 72.90625 \nQ 51.265625 72.90625 61.171875 64.09375 \nQ 71.09375 55.28125 71.09375 36.53125 \nQ 71.09375 17.671875 61.125 8.828125 \nQ 51.171875 0 30.078125 0 \nL 9.8125 0 \nz\n\" id=\"DejaVuSans-68\"/>\n      <path d=\"M 56.203125 29.59375 \nL 56.203125 25.203125 \nL 14.890625 25.203125 \nQ 15.484375 15.921875 20.484375 11.0625 \nQ 25.484375 6.203125 34.421875 6.203125 \nQ 39.59375 6.203125 44.453125 7.46875 \nQ 49.3125 8.734375 54.109375 11.28125 \nL 54.109375 2.78125 \nQ 49.265625 0.734375 44.1875 -0.34375 \nQ 39.109375 -1.421875 33.890625 -1.421875 \nQ 20.796875 -1.421875 13.15625 6.1875 \nQ 5.515625 13.8125 5.515625 26.8125 \nQ 5.515625 40.234375 12.765625 48.109375 \nQ 20.015625 56 32.328125 56 \nQ 43.359375 56 49.78125 48.890625 \nQ 56.203125 41.796875 56.203125 29.59375 \nz\nM 47.21875 32.234375 \nQ 47.125 39.59375 43.09375 43.984375 \nQ 39.0625 48.390625 32.421875 48.390625 \nQ 24.90625 48.390625 20.390625 44.140625 \nQ 15.875 39.890625 15.1875 32.171875 \nz\n\" id=\"DejaVuSans-101\"/>\n      <path d=\"M 54.890625 33.015625 \nL 54.890625 0 \nL 45.90625 0 \nL 45.90625 32.71875 \nQ 45.90625 40.484375 42.875 44.328125 \nQ 39.84375 48.1875 33.796875 48.1875 \nQ 26.515625 48.1875 22.3125 43.546875 \nQ 18.109375 38.921875 18.109375 30.90625 \nL 18.109375 0 \nL 9.078125 0 \nL 9.078125 54.6875 \nL 18.109375 54.6875 \nL 18.109375 46.1875 \nQ 21.34375 51.125 25.703125 53.5625 \nQ 30.078125 56 35.796875 56 \nQ 45.21875 56 50.046875 50.171875 \nQ 54.890625 44.34375 54.890625 33.015625 \nz\n\" id=\"DejaVuSans-110\"/>\n      <path d=\"M 9.421875 54.6875 \nL 18.40625 54.6875 \nL 18.40625 0 \nL 9.421875 0 \nz\nM 9.421875 75.984375 \nL 18.40625 75.984375 \nL 18.40625 64.59375 \nL 9.421875 64.59375 \nz\n\" id=\"DejaVuSans-105\"/>\n      <path d=\"M 18.3125 70.21875 \nL 18.3125 54.6875 \nL 36.8125 54.6875 \nL 36.8125 47.703125 \nL 18.3125 47.703125 \nL 18.3125 18.015625 \nQ 18.3125 11.328125 20.140625 9.421875 \nQ 21.96875 7.515625 27.59375 7.515625 \nL 36.8125 7.515625 \nL 36.8125 0 \nL 27.59375 0 \nQ 17.1875 0 13.234375 3.875 \nQ 9.28125 7.765625 9.28125 18.015625 \nL 9.28125 47.703125 \nL 2.6875 47.703125 \nL 2.6875 54.6875 \nL 9.28125 54.6875 \nL 9.28125 70.21875 \nz\n\" id=\"DejaVuSans-116\"/>\n      <path d=\"M 32.171875 -5.078125 \nQ 28.375 -14.84375 24.75 -17.8125 \nQ 21.140625 -20.796875 15.09375 -20.796875 \nL 7.90625 -20.796875 \nL 7.90625 -13.28125 \nL 13.1875 -13.28125 \nQ 16.890625 -13.28125 18.9375 -11.515625 \nQ 21 -9.765625 23.484375 -3.21875 \nL 25.09375 0.875 \nL 2.984375 54.6875 \nL 12.5 54.6875 \nL 29.59375 11.921875 \nL 46.6875 54.6875 \nL 56.203125 54.6875 \nz\n\" id=\"DejaVuSans-121\"/>\n     </defs>\n     <g transform=\"translate(16.318125 237.212063)rotate(-90)scale(0.12 -0.12)\">\n      <use xlink:href=\"#DejaVuSans-68\"/>\n      <use x=\"77.001953\" xlink:href=\"#DejaVuSans-101\"/>\n      <use x=\"138.525391\" xlink:href=\"#DejaVuSans-110\"/>\n      <use x=\"201.904297\" xlink:href=\"#DejaVuSans-115\"/>\n      <use x=\"254.003906\" xlink:href=\"#DejaVuSans-105\"/>\n      <use x=\"281.787109\" xlink:href=\"#DejaVuSans-116\"/>\n      <use x=\"320.996094\" xlink:href=\"#DejaVuSans-121\"/>\n     </g>\n    </g>\n   </g>\n   <g id=\"line2d_14\">\n    <path clip-path=\"url(#p8ce41faa91)\" d=\"M 269.561136 404.66175 \nL 269.561136 24.14175 \n\" style=\"fill:none;stroke:#808080;stroke-dasharray:5.55,2.4;stroke-dashoffset:0;stroke-width:1.5;\"/>\n   </g>\n   <g id=\"patch_5\">\n    <path d=\"M 48.8975 404.66175 \nL 48.8975 24.14175 \n\" style=\"fill:none;stroke:#000000;stroke-linecap:square;stroke-linejoin:miter;stroke-width:0.8;\"/>\n   </g>\n   <g id=\"patch_6\">\n    <path d=\"M 48.8975 404.66175 \nL 439.4975 404.66175 \n\" style=\"fill:none;stroke:#000000;stroke-linecap:square;stroke-linejoin:miter;stroke-width:0.8;\"/>\n   </g>\n   <g id=\"text_16\">\n    <!-- p &lt; 10^-87 -->\n    <defs>\n     <path id=\"DejaVuSans-32\"/>\n     <path d=\"M 73.1875 49.21875 \nL 22.796875 31.296875 \nL 73.1875 13.484375 \nL 73.1875 4.59375 \nL 10.59375 27.296875 \nL 10.59375 35.40625 \nL 73.1875 58.109375 \nz\n\" id=\"DejaVuSans-60\"/>\n     <path d=\"M 46.6875 72.90625 \nL 73.1875 45.703125 \nL 63.375 45.703125 \nL 41.890625 64.984375 \nL 20.40625 45.703125 \nL 10.59375 45.703125 \nL 37.109375 72.90625 \nz\n\" id=\"DejaVuSans-94\"/>\n     <path d=\"M 4.890625 31.390625 \nL 31.203125 31.390625 \nL 31.203125 23.390625 \nL 4.890625 23.390625 \nz\n\" id=\"DejaVuSans-45\"/>\n     <path d=\"M 8.203125 72.90625 \nL 55.078125 72.90625 \nL 55.078125 68.703125 \nL 28.609375 0 \nL 18.3125 0 \nL 43.21875 64.59375 \nL 8.203125 64.59375 \nz\n\" id=\"DejaVuSans-55\"/>\n    </defs>\n    <g transform=\"translate(52.8035 176.34975)scale(0.12 -0.12)\">\n     <use xlink:href=\"#DejaVuSans-112\"/>\n     <use x=\"63.476562\" xlink:href=\"#DejaVuSans-32\"/>\n     <use x=\"95.263672\" xlink:href=\"#DejaVuSans-60\"/>\n     <use x=\"179.052734\" xlink:href=\"#DejaVuSans-32\"/>\n     <use x=\"210.839844\" xlink:href=\"#DejaVuSans-49\"/>\n     <use x=\"274.462891\" xlink:href=\"#DejaVuSans-48\"/>\n     <use x=\"338.085938\" xlink:href=\"#DejaVuSans-94\"/>\n     <use x=\"421.875\" xlink:href=\"#DejaVuSans-45\"/>\n     <use x=\"457.958984\" xlink:href=\"#DejaVuSans-56\"/>\n     <use x=\"521.582031\" xlink:href=\"#DejaVuSans-55\"/>\n    </g>\n   </g>\n   <g id=\"text_17\">\n    <!-- Obs/Exp values at CTCF sites -->\n    <defs>\n     <path d=\"M 2.984375 54.6875 \nL 12.5 54.6875 \nL 29.59375 8.796875 \nL 46.6875 54.6875 \nL 56.203125 54.6875 \nL 35.6875 0 \nL 23.484375 0 \nz\n\" id=\"DejaVuSans-118\"/>\n     <path d=\"M 34.28125 27.484375 \nQ 23.390625 27.484375 19.1875 25 \nQ 14.984375 22.515625 14.984375 16.5 \nQ 14.984375 11.71875 18.140625 8.90625 \nQ 21.296875 6.109375 26.703125 6.109375 \nQ 34.1875 6.109375 38.703125 11.40625 \nQ 43.21875 16.703125 43.21875 25.484375 \nL 43.21875 27.484375 \nz\nM 52.203125 31.203125 \nL 52.203125 0 \nL 43.21875 0 \nL 43.21875 8.296875 \nQ 40.140625 3.328125 35.546875 0.953125 \nQ 30.953125 -1.421875 24.3125 -1.421875 \nQ 15.921875 -1.421875 10.953125 3.296875 \nQ 6 8.015625 6 15.921875 \nQ 6 25.140625 12.171875 29.828125 \nQ 18.359375 34.515625 30.609375 34.515625 \nL 43.21875 34.515625 \nL 43.21875 35.40625 \nQ 43.21875 41.609375 39.140625 45 \nQ 35.0625 48.390625 27.6875 48.390625 \nQ 23 48.390625 18.546875 47.265625 \nQ 14.109375 46.140625 10.015625 43.890625 \nL 10.015625 52.203125 \nQ 14.9375 54.109375 19.578125 55.046875 \nQ 24.21875 56 28.609375 56 \nQ 40.484375 56 46.34375 49.84375 \nQ 52.203125 43.703125 52.203125 31.203125 \nz\n\" id=\"DejaVuSans-97\"/>\n     <path d=\"M 8.5 21.578125 \nL 8.5 54.6875 \nL 17.484375 54.6875 \nL 17.484375 21.921875 \nQ 17.484375 14.15625 20.5 10.265625 \nQ 23.53125 6.390625 29.59375 6.390625 \nQ 36.859375 6.390625 41.078125 11.03125 \nQ 45.3125 15.671875 45.3125 23.6875 \nL 45.3125 54.6875 \nL 54.296875 54.6875 \nL 54.296875 0 \nL 45.3125 0 \nL 45.3125 8.40625 \nQ 42.046875 3.421875 37.71875 1 \nQ 33.40625 -1.421875 27.6875 -1.421875 \nQ 18.265625 -1.421875 13.375 4.4375 \nQ 8.5 10.296875 8.5 21.578125 \nz\nM 31.109375 56 \nz\n\" id=\"DejaVuSans-117\"/>\n     <path d=\"M 64.40625 67.28125 \nL 64.40625 56.890625 \nQ 59.421875 61.53125 53.78125 63.8125 \nQ 48.140625 66.109375 41.796875 66.109375 \nQ 29.296875 66.109375 22.65625 58.46875 \nQ 16.015625 50.828125 16.015625 36.375 \nQ 16.015625 21.96875 22.65625 14.328125 \nQ 29.296875 6.6875 41.796875 6.6875 \nQ 48.140625 6.6875 53.78125 8.984375 \nQ 59.421875 11.28125 64.40625 15.921875 \nL 64.40625 5.609375 \nQ 59.234375 2.09375 53.4375 0.328125 \nQ 47.65625 -1.421875 41.21875 -1.421875 \nQ 24.65625 -1.421875 15.125 8.703125 \nQ 5.609375 18.84375 5.609375 36.375 \nQ 5.609375 53.953125 15.125 64.078125 \nQ 24.65625 74.21875 41.21875 74.21875 \nQ 47.75 74.21875 53.53125 72.484375 \nQ 59.328125 70.75 64.40625 67.28125 \nz\n\" id=\"DejaVuSans-67\"/>\n     <path d=\"M -0.296875 72.90625 \nL 61.375 72.90625 \nL 61.375 64.59375 \nL 35.5 64.59375 \nL 35.5 0 \nL 25.59375 0 \nL 25.59375 64.59375 \nL -0.296875 64.59375 \nz\n\" id=\"DejaVuSans-84\"/>\n     <path d=\"M 9.8125 72.90625 \nL 51.703125 72.90625 \nL 51.703125 64.59375 \nL 19.671875 64.59375 \nL 19.671875 43.109375 \nL 48.578125 43.109375 \nL 48.578125 34.8125 \nL 19.671875 34.8125 \nL 19.671875 0 \nL 9.8125 0 \nz\n\" id=\"DejaVuSans-70\"/>\n    </defs>\n    <g transform=\"translate(139.251875 18.14175)scale(0.144 -0.144)\">\n     <use xlink:href=\"#DejaVuSans-79\"/>\n     <use x=\"78.710938\" xlink:href=\"#DejaVuSans-98\"/>\n     <use x=\"142.1875\" xlink:href=\"#DejaVuSans-115\"/>\n     <use x=\"194.287109\" xlink:href=\"#DejaVuSans-47\"/>\n     <use x=\"227.978516\" xlink:href=\"#DejaVuSans-69\"/>\n     <use x=\"291.162109\" xlink:href=\"#DejaVuSans-120\"/>\n     <use x=\"350.341797\" xlink:href=\"#DejaVuSans-112\"/>\n     <use x=\"413.818359\" xlink:href=\"#DejaVuSans-32\"/>\n     <use x=\"445.605469\" xlink:href=\"#DejaVuSans-118\"/>\n     <use x=\"504.785156\" xlink:href=\"#DejaVuSans-97\"/>\n     <use x=\"566.064453\" xlink:href=\"#DejaVuSans-108\"/>\n     <use x=\"593.847656\" xlink:href=\"#DejaVuSans-117\"/>\n     <use x=\"657.226562\" xlink:href=\"#DejaVuSans-101\"/>\n     <use x=\"718.75\" xlink:href=\"#DejaVuSans-115\"/>\n     <use x=\"770.849609\" xlink:href=\"#DejaVuSans-32\"/>\n     <use x=\"802.636719\" xlink:href=\"#DejaVuSans-97\"/>\n     <use x=\"863.916016\" xlink:href=\"#DejaVuSans-116\"/>\n     <use x=\"903.125\" xlink:href=\"#DejaVuSans-32\"/>\n     <use x=\"934.912109\" xlink:href=\"#DejaVuSans-67\"/>\n     <use x=\"1004.736328\" xlink:href=\"#DejaVuSans-84\"/>\n     <use x=\"1065.742188\" xlink:href=\"#DejaVuSans-67\"/>\n     <use x=\"1135.566406\" xlink:href=\"#DejaVuSans-70\"/>\n     <use x=\"1193.085938\" xlink:href=\"#DejaVuSans-32\"/>\n     <use x=\"1224.873047\" xlink:href=\"#DejaVuSans-115\"/>\n     <use x=\"1276.972656\" xlink:href=\"#DejaVuSans-105\"/>\n     <use x=\"1304.755859\" xlink:href=\"#DejaVuSans-116\"/>\n     <use x=\"1343.964844\" xlink:href=\"#DejaVuSans-101\"/>\n     <use x=\"1405.488281\" xlink:href=\"#DejaVuSans-115\"/>\n    </g>\n   </g>\n   <g id=\"legend_1\">\n    <g id=\"patch_7\">\n     <path d=\"M 361.85 68.96925 \nL 431.0975 68.96925 \nQ 433.4975 68.96925 433.4975 66.56925 \nL 433.4975 32.54175 \nQ 433.4975 30.14175 431.0975 30.14175 \nL 361.85 30.14175 \nQ 359.45 30.14175 359.45 32.54175 \nL 359.45 66.56925 \nQ 359.45 68.96925 361.85 68.96925 \nz\n\" style=\"fill:#ffffff;opacity:0.8;stroke:#cccccc;stroke-linejoin:miter;\"/>\n    </g>\n    <g id=\"patch_8\">\n     <path d=\"M 364.25 44.059875 \nL 388.25 44.059875 \nL 388.25 35.659875 \nL 364.25 35.659875 \nz\n\" style=\"fill:none;stroke:#ff0000;stroke-linejoin:miter;stroke-width:4;\"/>\n    </g>\n    <g id=\"text_18\">\n     <!-- trans -->\n     <defs>\n      <path d=\"M 41.109375 46.296875 \nQ 39.59375 47.171875 37.8125 47.578125 \nQ 36.03125 48 33.890625 48 \nQ 26.265625 48 22.1875 43.046875 \nQ 18.109375 38.09375 18.109375 28.8125 \nL 18.109375 0 \nL 9.078125 0 \nL 9.078125 54.6875 \nL 18.109375 54.6875 \nL 18.109375 46.1875 \nQ 20.953125 51.171875 25.484375 53.578125 \nQ 30.03125 56 36.53125 56 \nQ 37.453125 56 38.578125 55.875 \nQ 39.703125 55.765625 41.0625 55.515625 \nz\n\" id=\"DejaVuSans-114\"/>\n     </defs>\n     <g transform=\"translate(397.85 44.059875)scale(0.12 -0.12)\">\n      <use xlink:href=\"#DejaVuSans-116\"/>\n      <use x=\"39.208984\" xlink:href=\"#DejaVuSans-114\"/>\n      <use x=\"80.322266\" xlink:href=\"#DejaVuSans-97\"/>\n      <use x=\"141.601562\" xlink:href=\"#DejaVuSans-110\"/>\n      <use x=\"204.980469\" xlink:href=\"#DejaVuSans-115\"/>\n     </g>\n    </g>\n    <g id=\"patch_9\">\n     <path d=\"M 364.25 61.673625 \nL 388.25 61.673625 \nL 388.25 53.273625 \nL 364.25 53.273625 \nz\n\" style=\"fill:none;stroke:#0000ff;stroke-linejoin:miter;stroke-width:4;\"/>\n    </g>\n    <g id=\"text_19\">\n     <!-- cis -->\n     <defs>\n      <path d=\"M 48.78125 52.59375 \nL 48.78125 44.1875 \nQ 44.96875 46.296875 41.140625 47.34375 \nQ 37.3125 48.390625 33.40625 48.390625 \nQ 24.65625 48.390625 19.8125 42.84375 \nQ 14.984375 37.3125 14.984375 27.296875 \nQ 14.984375 17.28125 19.8125 11.734375 \nQ 24.65625 6.203125 33.40625 6.203125 \nQ 37.3125 6.203125 41.140625 7.25 \nQ 44.96875 8.296875 48.78125 10.40625 \nL 48.78125 2.09375 \nQ 45.015625 0.34375 40.984375 -0.53125 \nQ 36.96875 -1.421875 32.421875 -1.421875 \nQ 20.0625 -1.421875 12.78125 6.34375 \nQ 5.515625 14.109375 5.515625 27.296875 \nQ 5.515625 40.671875 12.859375 48.328125 \nQ 20.21875 56 33.015625 56 \nQ 37.15625 56 41.109375 55.140625 \nQ 45.0625 54.296875 48.78125 52.59375 \nz\n\" id=\"DejaVuSans-99\"/>\n     </defs>\n     <g transform=\"translate(397.85 61.673625)scale(0.12 -0.12)\">\n      <use xlink:href=\"#DejaVuSans-99\"/>\n      <use x=\"54.980469\" xlink:href=\"#DejaVuSans-105\"/>\n      <use x=\"82.763672\" xlink:href=\"#DejaVuSans-115\"/>\n     </g>\n    </g>\n   </g>\n  </g>\n </g>\n <defs>\n  <clipPath id=\"p8ce41faa91\">\n   <rect height=\"380.52\" width=\"390.6\" x=\"48.8975\" y=\"24.14175\"/>\n  </clipPath>\n </defs>\n</svg>\n",
      "image/png": "[encoded data removed]"
     },
     "metadata": {
      "needs_background": "light"
     }
    }
   ],
   "source": [
    "# perform ttest\n",
    "\n",
    "s, p = ttest_ind(transPairObsExp[\"log2Pair\"], cisPairObsExp[\"log2Pair\"])\n",
    "\n",
    "try:\n",
    "    orderOfMag = int(np.log10(p))\n",
    "except OverflowError:\n",
    "    # in case p-value is closer to 0 than the precision limit of np.float64\n",
    "    orderOfMag = -15\n",
    "\n",
    "f, ax = plt.subplots()\n",
    "ax.hist(transPairObsExp[\"log2Pair\"], density=True, bins=30, range=(-4, 3), histtype=\"step\", color=\"red\", lw=4, label=\"trans\")\n",
    "ax.hist(cisPairObsExp[\"log2Pair\"], density=True, bins=30, range=(-4, 3), histtype=\"step\", color=\"blue\", lw=4, label=\"cis\")\n",
    "ax.set(xlabel=\"log2(Obs/Exp)\", ylabel=\"Density\", title=\"Obs/Exp values at CTCF sites\")\n",
    "ax.text(0.01, 0.6, f\"p < 10^{orderOfMag}\", transform=ax.transAxes)\n",
    "ax.legend()\n",
    "sbn.despine()\n",
    "ax.axvline(x=0, ls=\"--\", color=\"grey\")\n",
    "f.set_size_inches(7, 7)\n",
    "plt.show()"
   ]
  },
  {
   "cell_type": "markdown",
   "metadata": {},
   "source": [
    "## Write to file"
   ]
  },
  {
   "cell_type": "code",
   "execution_count": 21,
   "metadata": {},
   "outputs": [],
   "source": [
    "resultsdir = \"/groups/gerlich/experiments/Experiments_004800/004812/Results/\"\n",
    "f.savefig(os.path.join(resultsdir, \"Log2_obs_exp_pairing_CTCF_sites.png\"), bbox_inches=\"tight\")\n",
    "f.savefig(os.path.join(resultsdir, \"Log2_obs_exp_pairing_CTCF_sites.pdf\"), bbox_inches=\"tight\")"
   ]
  },
  {
   "cell_type": "code",
   "execution_count": null,
   "metadata": {},
   "outputs": [],
   "source": []
  }
 ],
 "metadata": {
  "language_info": {
   "name": "python",
   "codemirror_mode": {
    "name": "ipython",
    "version": 3
   },
   "version": "3.7.4-final"
  },
  "orig_nbformat": 2,
  "file_extension": ".py",
  "mimetype": "text/x-python",
  "name": "python",
  "npconvert_exporter": "python",
  "pygments_lexer": "ipython3",
  "version": 3,
  "kernelspec": {
   "name": "python3",
   "display_name": "Python 3"
  }
 },
 "nbformat": 4,
 "nbformat_minor": 2
}