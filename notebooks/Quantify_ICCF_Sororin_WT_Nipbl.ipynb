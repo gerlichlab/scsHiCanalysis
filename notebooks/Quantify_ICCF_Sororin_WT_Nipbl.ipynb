{
 "nbformat": 4,
 "nbformat_minor": 2,
 "metadata": {
  "language_info": {
   "name": "python",
   "codemirror_mode": {
    "name": "ipython",
    "version": 3
   },
   "version": "3.6.3-final"
  },
  "orig_nbformat": 2,
  "file_extension": ".py",
  "mimetype": "text/x-python",
  "name": "python",
  "npconvert_exporter": "python",
  "pygments_lexer": "ipython3",
  "version": 3,
  "kernelspec": {
   "name": "python3",
   "display_name": "Python 3"
  }
 },
 "cells": [
  {
   "cell_type": "code",
   "execution_count": 2,
   "metadata": {},
   "outputs": [],
   "source": [
    "import os\n",
    "import cooler\n",
    "import cooltools.snipping\n",
    "import bioframe\n",
    "import pandas as pd\n",
    "from NGS import HiCTools as HT\n",
    "from collections import defaultdict\n",
    "import re\n",
    "import numpy as np\n",
    "from typing import Callable\n",
    "import matplotlib.pyplot as plt\n",
    "import seaborn as sbn\n",
    "from scipy.stats import ttest_ind, mannwhitneyu\n",
    "import matplotlib.colors as cl\n",
    "import matplotlib\n",
    "import warnings"
   ]
  },
  {
   "cell_type": "code",
   "execution_count": 3,
   "metadata": {},
   "outputs": [],
   "source": [
    "# ignore warnings (log10(0))\n",
    "warnings.simplefilter(\"ignore\", RuntimeWarning)"
   ]
  },
  {
   "cell_type": "markdown",
   "metadata": {},
   "source": [
    "# Define plotting parameters"
   ]
  },
  {
   "cell_type": "code",
   "execution_count": 4,
   "metadata": {},
   "outputs": [],
   "source": [
    "matplotlib.rcParams.update({\"font.size\": 12})\n",
    "matplotlib.rcParams.update({\"pdf.fonttype\": 42})"
   ]
  },
  {
   "cell_type": "markdown",
   "metadata": {},
   "source": [
    "# Define functions"
   ]
  },
  {
   "cell_type": "code",
   "execution_count": 5,
   "metadata": {},
   "outputs": [],
   "source": [
    "def recDict():\n",
    "    return defaultdict(recDict)\n",
    "\n",
    "def getPairingScoreObsExp(clr: cooler.Cooler, expected: pd.DataFrame ,windowsize: int = 4 * 10**4,\n",
    "                    func: Callable = np.mean, regions: pd.DataFrame = pd.DataFrame(),\n",
    "                    norm: bool = True) -> pd.DataFrame:\n",
    "    \"\"\"Takes a cooler file (clr),\n",
    "    a windowsize (windowsize), a summary\n",
    "    function (func) and a set of genomic\n",
    "    regions to calculate the pairing score\n",
    "    as follows: A square with side-length windowsize\n",
    "    is created for each of the entries in the supplied genomics\n",
    "    regions and the summary function applied to the Hi-C pixels\n",
    "    at the location in the supplied cooler file. The results are\n",
    "    returned as a dataframe. If no regions are supplied, regions\n",
    "    are constructed for each bin in the cooler file to\n",
    "    construct a genome-wide pairing score.\"\"\"\n",
    "    # Check whether genomic regions were supplied\n",
    "    if len(regions) == 0:\n",
    "        # If no regions are supplied, pregenerate all bins; drop bins with nan weights\n",
    "        regions = clr.bins()[:].dropna()\n",
    "        # find midpoint of each bin to assign windows to each midpoint\n",
    "        regions.loc[:, \"mid\"] = (regions[\"start\"] + regions[\"end\"])//2\n",
    "    # drop nan rows from regions\n",
    "    regions = regions.dropna()\n",
    "    # fix indices\n",
    "    regions.index = range(len(regions))\n",
    "    regions.loc[:, \"binID\"] = range(len(regions))\n",
    "    # Chromosomal arms are needed so each process only extracts a subset from the file\n",
    "    arms = HT.getArmsHg19()\n",
    "    # extract all windows\n",
    "    windows = HT.assignRegions(windowsize, clr.binsize, regions[\"chrom\"],\n",
    "                            regions[\"mid\"], arms)\n",
    "    # add binID to later merge piles\n",
    "    windows.loc[:, \"binID\"] = regions[\"binID\"]\n",
    "    windows = windows.dropna()\n",
    "    # generate pileup\n",
    "    pile = HT.doPileupObsExp(clr, expected, windows, collapse=False)\n",
    "    # convert to dataframe\n",
    "    pileFrame = HT.pileToFrame(pile)\n",
    "    # replace inf with nan\n",
    "    pileFrame = pileFrame.replace([np.inf, -np.inf], np.nan)\n",
    "    # apply function to each row (row = individual window)\n",
    "    summarized = pileFrame.apply(func, axis=1)\n",
    "    # subset regions with regions that were assigned windows\n",
    "    output = pd.merge(regions, windows, on=\"binID\", suffixes=(\"\", \"_w\")).dropna()\n",
    "    # add results\n",
    "    output.loc[:, \"PairingScore\"] = summarized\n",
    "    # normalize by median\n",
    "    if norm:\n",
    "        output.loc[:, \"PairingScore\"] = output[\"PairingScore\"] - np.median(output.dropna()[\"PairingScore\"])\n",
    "    return output[[\"chrom\", \"start\", \"end\", \"PairingScore\"]]\n",
    "\n",
    "def getDiagIndices(arr):\n",
    "    assert arr.shape[0] == arr.shape[1], \"Please supply a square array!\"\n",
    "    shape = arr.shape[0]\n",
    "    return [i + index for index, i in enumerate(range(0, shape**2 - shape + 1, shape))]\n",
    "\n",
    "def getPairingScore(clr: cooler.Cooler, windowsize: int = 4 * 10**4,\n",
    "                    func: Callable = np.mean, regions: pd.DataFrame = pd.DataFrame(),\n",
    "                    norm: bool = True, blankDiag: bool = False) -> pd.DataFrame:\n",
    "    \"\"\"Takes a cooler file (clr),\n",
    "    a windowsize (windowsize), a summary\n",
    "    function (func) and a set of genomic\n",
    "    regions to calculate the pairing score\n",
    "    as follows: A square with side-length windowsize\n",
    "    is created for each of the entries in the supplied genomics\n",
    "    regions and the summary function applied to the Hi-C pixels\n",
    "    at the location in the supplied cooler file. The results are\n",
    "    returned as a dataframe. If no regions are supplied, regions\n",
    "    are constructed for each bin in the cooler file to\n",
    "    construct a genome-wide pairing score.\"\"\"\n",
    "    # Check whether genomic regions were supplied\n",
    "    if len(regions) == 0:\n",
    "        # If no regions are supplied, pregenerate all bins; drop bins with nan weights\n",
    "        regions = clr.bins()[:].dropna()\n",
    "        # find midpoint of each bin to assign windows to each midpoint\n",
    "        regions.loc[:, \"mid\"] = (regions[\"start\"] + regions[\"end\"])//2\n",
    "    # drop nan rows from regions\n",
    "    regions = regions.dropna()\n",
    "    # fix indices\n",
    "    regions.index = range(len(regions))\n",
    "    regions.loc[:, \"binID\"] = range(len(regions))\n",
    "    # Chromosomal arms are needed so each process only extracts a subset from the file\n",
    "    arms = HT.getArmsHg19()\n",
    "    # extract all windows\n",
    "    windows = HT.assignRegions(windowsize, clr.binsize, regions[\"chrom\"],\n",
    "                            regions[\"mid\"], arms)\n",
    "    # add binID to later merge piles\n",
    "    windows.loc[:, \"binID\"] = regions[\"binID\"]\n",
    "    windows = windows.dropna()\n",
    "    # generate pileup\n",
    "    pile = HT.doPileupICCF(clr, windows, collapse=False)\n",
    "    # convert to dataframe\n",
    "    pileFrame = HT.pileToFrame(pile)\n",
    "    if blankDiag:\n",
    "        dummyarray = np.arange(pile[:, :, 0].shape[0]**2).reshape(pile[:, :, 0].shape[0], pile[:, :, 0].shape[0])\n",
    "        indices = getDiagIndices(dummyarray)\n",
    "        pileFrame.iloc[:, indices] = np.nan\n",
    "    # apply function to each row (row = individual window)\n",
    "    summarized = pileFrame.apply(func, axis=1)\n",
    "    # subset regions with regions that were assigned windows\n",
    "    output = pd.merge(regions, windows, on=\"binID\", suffixes=(\"\", \"_w\")).dropna()\n",
    "    # add results\n",
    "    output.loc[:, \"PairingScore\"] = summarized\n",
    "    # normalize by median\n",
    "    if norm:\n",
    "        output.loc[:, \"PairingScore\"] = output[\"PairingScore\"] - np.median(output.dropna()[\"PairingScore\"])\n",
    "    return output[[\"chrom\", \"start\", \"end\", \"PairingScore\"]]\n",
    "\n",
    "def setAxis(ax, ticks_pixels, ticks_kbp):\n",
    "    if not isinstance(ax, np.ndarray):\n",
    "        ax.set_xticks(ticks_pixels)\n",
    "        ax.set_xticklabels(ticks_kbp)\n",
    "        ax.set_yticks(ticks_pixels)\n",
    "        ax.set_yticklabels(ticks_kbp)\n",
    "        ax.set_xlabel('relative position, kbp')\n",
    "        ax.set_ylabel('relative position, kbp')\n",
    "        return\n",
    "    if len(ax.shape) == 1:\n",
    "        for i in range(len(ax)):\n",
    "            ax[i].set_xticks(ticks_pixels)\n",
    "            ax[i].set_xticklabels(ticks_kbp)\n",
    "            ax[i].set_yticks(ticks_pixels)\n",
    "            ax[i].set_yticklabels(ticks_kbp)\n",
    "            ax[i].set_xlabel('relative position, kbp')\n",
    "            ax[i].set_ylabel('relative position, kbp')\n",
    "        return\n",
    "    for i in range(ax.shape[0]):\n",
    "        for j in range(ax.shape[1]):\n",
    "            ax[i, j].set_xticks(ticks_pixels)\n",
    "            ax[i, j].set_xticklabels(ticks_kbp)\n",
    "            ax[i, j].set_yticks(ticks_pixels)\n",
    "            ax[i, j].set_yticklabels(ticks_kbp)\n",
    "            ax[i, j].set_xlabel('relative position, kbp')\n",
    "            ax[i, j].set_ylabel('relative position, kbp')\n",
    "\n",
    "# from https://stackoverflow.com/questions/10925671/numpy-k-th-diagonal-indices\n",
    "def kth_diag_indices(a, k):\n",
    "    rows, cols = np.diag_indices_from(a)\n",
    "    if k < 0:\n",
    "        return rows[-k:], cols[:k]\n",
    "    elif k > 0:\n",
    "        return rows[:-k], cols[k:]\n",
    "    else:\n",
    "        return rows, cols\n",
    "\n",
    "# http://chris35wills.github.io/matplotlib_diverging_colorbar/\n",
    "class MidpointNormalize(cl.Normalize):\n",
    "\t\"\"\"\n",
    "\tNormalise the colorbar so that diverging bars work there way either side from a prescribed midpoint value)\n",
    "\n",
    "\te.g. im=ax1.imshow(array, norm=MidpointNormalize(midpoint=0.,vmin=-100, vmax=100))\n",
    "\t\"\"\"\n",
    "\tdef __init__(self, vmin=None, vmax=None, midpoint=None, clip=False):\n",
    "\t\tself.midpoint = midpoint\n",
    "\t\tcl.Normalize.__init__(self, vmin, vmax, clip)\n",
    "\n",
    "\tdef __call__(self, value, clip=None):\n",
    "\t\tx, y = [self.vmin, self.midpoint, self.vmax], [0, 0.5, 1]\n",
    "\t\treturn np.ma.masked_array(np.interp(value, x, y), np.isnan(value))"
   ]
  },
  {
   "cell_type": "markdown",
   "metadata": {},
   "source": [
    "# Set wd"
   ]
  },
  {
   "cell_type": "code",
   "execution_count": 6,
   "metadata": {},
   "outputs": [],
   "source": [
    "os.chdir(\"/groups/gerlich/experiments/Experiments_004800/004869/\")"
   ]
  },
  {
   "cell_type": "markdown",
   "metadata": {},
   "source": [
    "# Load in data"
   ]
  },
  {
   "cell_type": "code",
   "execution_count": 7,
   "metadata": {},
   "outputs": [],
   "source": [
    "chromsizes = bioframe.fetch_chromsizes('hg19')\n",
    "arms = HT.getArmsHg19()"
   ]
  },
  {
   "cell_type": "code",
   "execution_count": 8,
   "metadata": {},
   "outputs": [],
   "source": [
    "HICPATHWT = \"/groups/gerlich/experiments/Experiments_004800/004812/Sequencing_data/Pooled_FC_1_2_3_4/cooler/\"\n",
    "\n",
    "BINSIZE = 10000\n",
    "BARCODE = \"G2.fc_1_2_3_4.wOldG2\"\n",
    "clrsWT = {interType:\n",
    "        cooler.Cooler(\n",
    "            os.path.join(HICPATHWT, f'{BARCODE}.{interType}.1000.mcool::/resolutions/{BINSIZE}'))\n",
    "        for interType in [\"cis\", \"trans\"]}"
   ]
  },
  {
   "cell_type": "code",
   "execution_count": 9,
   "metadata": {},
   "outputs": [],
   "source": [
    "HICPATHNipbl = \"./Sequencing_data/Pooled/cooler/\"\n",
    "\n",
    "BINSIZE = 10000\n",
    "BARCODE = \"G2.Nipbl-AID.wAuxin\"\n",
    "clrsNipbl = {interType:\n",
    "        cooler.Cooler(\n",
    "            os.path.join(HICPATHNipbl, f'{BARCODE}.{interType}.1000.mcool::/resolutions/{BINSIZE}'))\n",
    "        for interType in [\"cis\", \"trans\"]}"
   ]
  },
  {
   "cell_type": "code",
   "execution_count": 17,
   "metadata": {},
   "outputs": [],
   "source": [
    "HICPATHSororin = \"./Sequencing_data/Pooled/cooler/\"\n",
    "\n",
    "BINSIZE = 10000\n",
    "BARCODE = \"G2.Sororin-AID.wAuxin\"\n",
    "clrsSororin = {interType:\n",
    "        cooler.Cooler(\n",
    "            os.path.join(HICPATHSororin, f'{BARCODE}.{interType}.1000.mcool::/resolutions/{BINSIZE}'))\n",
    "        for interType in [\"cis\", \"trans\"]}"
   ]
  },
  {
   "cell_type": "markdown",
   "metadata": {},
   "source": [
    "# Load TADs"
   ]
  },
  {
   "cell_type": "code",
   "execution_count": 10,
   "metadata": {},
   "outputs": [],
   "source": [
    "tadFrame = pd.read_csv(\"/groups/gerlich/experiments/Experiments_004800/004848/OnTAD_paramOpt/tempData/G2.fc_1_2.all.1000.maxsz_120.bedpe\", sep=\"\\t\", header=None)[[0, 1, 2]]\n",
    "tadFrame.columns = [\"chrom\", \"start\", \"end\"]"
   ]
  },
  {
   "cell_type": "markdown",
   "metadata": {},
   "source": [
    "# Calculate boundaries"
   ]
  },
  {
   "cell_type": "code",
   "execution_count": 11,
   "metadata": {},
   "outputs": [],
   "source": [
    "# boundaries are gonna be stard and end together\n",
    "tadStart = tadFrame[[\"chrom\", \"start\"]]\n",
    "tadStart.columns = [\"chrom\", \"mid\"]\n",
    "tadEnd = tadFrame[[\"chrom\", \"end\"]]\n",
    "tadEnd.columns = [\"chrom\", \"mid\"]\n",
    "# here duplicates are removed\n",
    "tadFinal = pd.concat((tadStart, tadEnd)).drop_duplicates()"
   ]
  },
  {
   "cell_type": "markdown",
   "metadata": {},
   "source": [
    "# Get amount of contacts at boundaries"
   ]
  },
  {
   "cell_type": "code",
   "execution_count": 20,
   "metadata": {},
   "outputs": [],
   "source": [
    "wtPairICCF = {}\n",
    "for rType in [\"cis\", \"trans\"]:\n",
    "    wtPairICCF[rType] = getPairingScore(clrsWT[rType], regions=tadFinal, norm=False, windowsize=20 * 10**4)\n",
    "    # add Pseudocount\n",
    "    wtPairICCF[rType].loc[:, \"PairingScorePseudo\"] = wtPairICCF[rType][\"PairingScore\"] + 0.0001\n",
    "    wtPairICCF[rType].loc[:, \"log2Pair\"] = np.log2(wtPairICCF[rType][\"PairingScorePseudo\"])\n",
    "    wtPairICCF[rType] = wtPairICCF[rType].replace([np.inf, -np.inf], np.nan).dropna()"
   ]
  },
  {
   "cell_type": "code",
   "execution_count": 21,
   "metadata": {},
   "outputs": [],
   "source": [
    "nipblPairICCF = {}\n",
    "for rType in [\"cis\", \"trans\"]:\n",
    "    nipblPairICCF[rType] = getPairingScore(clrsNipbl[rType], regions=tadFinal, norm=False, windowsize=20 * 10**4)\n",
    "    # add Pseudocount\n",
    "    nipblPairICCF[rType].loc[:, \"PairingScorePseudo\"] = nipblPairICCF[rType][\"PairingScore\"] + 0.0001\n",
    "    nipblPairICCF[rType].loc[:, \"log2Pair\"] = np.log2(nipblPairICCF[rType][\"PairingScorePseudo\"])\n",
    "    nipblPairICCF[rType] = nipblPairICCF[rType].replace([np.inf, -np.inf], np.nan).dropna()"
   ]
  },
  {
   "cell_type": "code",
   "execution_count": 22,
   "metadata": {},
   "outputs": [],
   "source": [
    "sororinPairICCF = {}\n",
    "for rType in [\"cis\", \"trans\"]:\n",
    "    sororinPairICCF[rType] = getPairingScore(clrsSororin[rType], regions=tadFinal, norm=False, windowsize=20 * 10**4)\n",
    "    # add Pseudocount\n",
    "    sororinPairICCF[rType].loc[:, \"PairingScorePseudo\"] = sororinPairICCF[rType][\"PairingScore\"] + 0.0001\n",
    "    sororinPairICCF[rType].loc[:, \"log2Pair\"] = np.log2(sororinPairICCF[rType][\"PairingScorePseudo\"])\n",
    "    sororinPairICCF[rType] = sororinPairICCF[rType].replace([np.inf, -np.inf], np.nan).dropna()"
   ]
  },
  {
   "cell_type": "markdown",
   "metadata": {},
   "source": [
    "# Plot result with pseudocount"
   ]
  },
  {
   "cell_type": "code",
   "execution_count": 36,
   "metadata": {},
   "outputs": [
    {
     "data": {
      "image/png": "[encoded data removed]",
      "image/svg+xml": "<?xml version=\"1.0\" encoding=\"utf-8\" standalone=\"no\"?>\n<!DOCTYPE svg PUBLIC \"-//W3C//DTD SVG 1.1//EN\"\n  \"http://www.w3.org/Graphics/SVG/1.1/DTD/svg11.dtd\">\n<!-- Created with matplotlib (https://matplotlib.org/) -->\n<svg height=\"446.08925pt\" version=\"1.1\" viewBox=\"0 0 614.0975 446.08925\" width=\"614.0975pt\" xmlns=\"http://www.w3.org/2000/svg\" xmlns:xlink=\"http://www.w3.org/1999/xlink\">\n <defs>\n  <style type=\"text/css\">\n*{stroke-linecap:butt;stroke-linejoin:round;}\n  </style>\n </defs>\n <g id=\"figure_1\">\n  <g id=\"patch_1\">\n   <path d=\"M 0 446.08925 \nL 614.0975 446.08925 \nL 614.0975 0 \nL 0 0 \nz\n\" style=\"fill:none;\"/>\n  </g>\n  <g id=\"axes_1\">\n   <g id=\"patch_2\">\n    <path d=\"M 48.8975 404.66175 \nL 606.8975 404.66175 \nL 606.8975 24.14175 \nL 48.8975 24.14175 \nz\n\" style=\"fill:#ffffff;\"/>\n   </g>\n   <g id=\"patch_3\">\n    <path clip-path=\"url(#pd9c5c91718)\" d=\"M 74.261136 404.66175 \nL 74.261136 404.66175 \nL 86.942955 404.66175 \nL 86.942955 404.66175 \nL 99.624773 404.66175 \nL 99.624773 404.66175 \nL 112.306591 404.66175 \nL 112.306591 404.66175 \nL 124.988409 404.66175 \nL 124.988409 402.994868 \nL 137.670227 402.994868 \nL 137.670227 404.66175 \nL 150.352045 404.66175 \nL 150.352045 404.106123 \nL 163.033864 404.106123 \nL 163.033864 404.106123 \nL 175.715682 404.106123 \nL 175.715682 404.66175 \nL 188.3975 404.66175 \nL 188.3975 404.106123 \nL 201.079318 404.106123 \nL 201.079318 402.439241 \nL 213.761136 402.439241 \nL 213.761136 401.327987 \nL 226.442955 401.327987 \nL 226.442955 393.549206 \nL 239.124773 393.549206 \nL 239.124773 377.991644 \nL 251.806591 377.991644 \nL 251.806591 359.100319 \nL 264.488409 359.100319 \nL 264.488409 346.320893 \nL 277.170227 346.320893 \nL 277.170227 299.09258 \nL 289.852045 299.09258 \nL 289.852045 254.642402 \nL 302.533864 254.642402 \nL 302.533864 204.080326 \nL 315.215682 204.080326 \nL 315.215682 121.291871 \nL 327.8975 121.291871 \nL 327.8975 93.510511 \nL 340.579318 93.510511 \nL 340.579318 116.846854 \nL 353.261136 116.846854 \nL 353.261136 151.851368 \nL 365.942955 151.851368 \nL 365.942955 196.857172 \nL 378.624773 196.857172 \nL 378.624773 261.309929 \nL 391.306591 261.309929 \nL 391.306591 324.095804 \nL 403.988409 324.095804 \nL 403.988409 361.322827 \nL 416.670227 361.322827 \nL 416.670227 384.103543 \nL 429.352045 384.103543 \nL 429.352045 397.438596 \nL 442.033864 397.438596 \nL 442.033864 394.66046 \nL 454.715682 394.66046 \nL 454.715682 401.883614 \nL 467.3975 401.883614 \nL 467.3975 402.439241 \nL 480.079318 402.439241 \nL 480.079318 402.439241 \nL 492.761136 402.439241 \nL 492.761136 402.439241 \nL 505.442955 402.439241 \nL 505.442955 402.994868 \nL 518.124773 402.994868 \nL 518.124773 403.550496 \nL 530.806591 403.550496 \nL 530.806591 404.106123 \nL 543.488409 404.106123 \nL 543.488409 404.66175 \nL 556.170227 404.66175 \nL 556.170227 403.550496 \nL 568.852045 403.550496 \nL 568.852045 404.106123 \nL 581.533864 404.106123 \nL 581.533864 404.66175 \n\" style=\"fill:none;stroke:#000000;stroke-linejoin:miter;stroke-width:4;\"/>\n   </g>\n   <g id=\"patch_4\">\n    <path clip-path=\"url(#pd9c5c91718)\" d=\"M 74.261136 404.66175 \nL 74.261136 404.66175 \nL 86.942955 404.66175 \nL 86.942955 404.66175 \nL 99.624773 404.66175 \nL 99.624773 404.66175 \nL 112.306591 404.66175 \nL 112.306591 404.66175 \nL 124.988409 404.66175 \nL 124.988409 398.548354 \nL 137.670227 398.548354 \nL 137.670227 404.66175 \nL 150.352045 404.66175 \nL 150.352045 404.66175 \nL 163.033864 404.66175 \nL 163.033864 404.66175 \nL 175.715682 404.66175 \nL 175.715682 404.66175 \nL 188.3975 404.66175 \nL 188.3975 404.66175 \nL 201.079318 404.66175 \nL 201.079318 404.66175 \nL 213.761136 404.66175 \nL 213.761136 404.105987 \nL 226.442955 404.105987 \nL 226.442955 404.105987 \nL 239.124773 404.105987 \nL 239.124773 403.550223 \nL 251.806591 403.550223 \nL 251.806591 404.66175 \nL 264.488409 404.66175 \nL 264.488409 403.550223 \nL 277.170227 403.550223 \nL 277.170227 399.65988 \nL 289.852045 399.65988 \nL 289.852045 391.879194 \nL 302.533864 391.879194 \nL 302.533864 387.433088 \nL 315.215682 387.433088 \nL 315.215682 372.427479 \nL 327.8975 372.427479 \nL 327.8975 349.641184 \nL 340.579318 349.641184 \nL 340.579318 304.624357 \nL 353.261136 304.624357 \nL 353.261136 256.828713 \nL 365.942955 256.828713 \nL 365.942955 198.473567 \nL 378.624773 198.473567 \nL 378.624773 146.231817 \nL 391.306591 146.231817 \nL 391.306591 85.653618 \nL 403.988409 85.653618 \nL 403.988409 73.426825 \nL 416.670227 73.426825 \nL 416.670227 83.986328 \nL 429.352045 83.986328 \nL 429.352045 163.460479 \nL 442.033864 163.460479 \nL 442.033864 279.615008 \nL 454.715682 279.615008 \nL 454.715682 361.312213 \nL 467.3975 361.312213 \nL 467.3975 387.433088 \nL 480.079318 387.433088 \nL 480.079318 397.436827 \nL 492.761136 397.436827 \nL 492.761136 397.436827 \nL 505.442955 397.436827 \nL 505.442955 401.32717 \nL 518.124773 401.32717 \nL 518.124773 401.32717 \nL 530.806591 401.32717 \nL 530.806591 402.438697 \nL 543.488409 402.438697 \nL 543.488409 402.99446 \nL 556.170227 402.99446 \nL 556.170227 404.105987 \nL 568.852045 404.105987 \nL 568.852045 402.99446 \nL 581.533864 402.99446 \nL 581.533864 404.66175 \n\" style=\"fill:none;stroke:#ff0000;stroke-linejoin:miter;stroke-width:4;\"/>\n   </g>\n   <g id=\"patch_5\">\n    <path clip-path=\"url(#pd9c5c91718)\" d=\"M 74.261136 404.66175 \nL 74.261136 404.66175 \nL 86.942955 404.66175 \nL 86.942955 404.66175 \nL 99.624773 404.66175 \nL 99.624773 404.66175 \nL 112.306591 404.66175 \nL 112.306591 404.66175 \nL 124.988409 404.66175 \nL 124.988409 378.457442 \nL 137.670227 378.457442 \nL 137.670227 376.227288 \nL 150.352045 376.227288 \nL 150.352045 321.030981 \nL 163.033864 321.030981 \nL 163.033864 240.745442 \nL 175.715682 240.745442 \nL 175.715682 134.255596 \nL 188.3975 134.255596 \nL 188.3975 82.962058 \nL 201.079318 82.962058 \nL 201.079318 42.26175 \nL 213.761136 42.26175 \nL 213.761136 97.458058 \nL 226.442955 97.458058 \nL 226.442955 156.557135 \nL 239.124773 156.557135 \nL 239.124773 234.054981 \nL 251.806591 234.054981 \nL 251.806591 307.092519 \nL 264.488409 307.092519 \nL 264.488409 344.447596 \nL 277.170227 344.447596 \nL 277.170227 370.094365 \nL 289.852045 370.094365 \nL 289.852045 381.245135 \nL 302.533864 381.245135 \nL 302.533864 390.16575 \nL 315.215682 390.16575 \nL 315.215682 392.395904 \nL 327.8975 392.395904 \nL 327.8975 394.626058 \nL 340.579318 394.626058 \nL 340.579318 398.528827 \nL 353.261136 398.528827 \nL 353.261136 397.41375 \nL 365.942955 397.41375 \nL 365.942955 400.201442 \nL 378.624773 400.201442 \nL 378.624773 401.316519 \nL 391.306591 401.316519 \nL 391.306591 401.316519 \nL 403.988409 401.316519 \nL 403.988409 402.989135 \nL 416.670227 402.989135 \nL 416.670227 403.546673 \nL 429.352045 403.546673 \nL 429.352045 402.989135 \nL 442.033864 402.989135 \nL 442.033864 403.546673 \nL 454.715682 403.546673 \nL 454.715682 404.104212 \nL 467.3975 404.104212 \nL 467.3975 404.66175 \nL 480.079318 404.66175 \nL 480.079318 403.546673 \nL 492.761136 403.546673 \nL 492.761136 403.546673 \nL 505.442955 403.546673 \nL 505.442955 404.66175 \nL 518.124773 404.66175 \nL 518.124773 404.104212 \nL 530.806591 404.104212 \nL 530.806591 404.104212 \nL 543.488409 404.104212 \nL 543.488409 404.66175 \nL 556.170227 404.66175 \nL 556.170227 404.66175 \nL 568.852045 404.66175 \nL 568.852045 404.66175 \nL 581.533864 404.66175 \nL 581.533864 404.66175 \n\" style=\"fill:none;stroke:#0000ff;stroke-linejoin:miter;stroke-width:4;\"/>\n   </g>\n   <g id=\"matplotlib.axis_1\">\n    <g id=\"xtick_1\">\n     <g id=\"line2d_1\">\n      <defs>\n       <path d=\"M 0 0 \nL 0 3.5 \n\" id=\"m933b3c959c\" style=\"stroke:#000000;stroke-width:0.8;\"/>\n      </defs>\n      <g>\n       <use style=\"stroke:#000000;stroke-width:0.8;\" x=\"74.261136\" xlink:href=\"#m933b3c959c\" y=\"404.66175\"/>\n      </g>\n     </g>\n     <g id=\"text_1\">\n      <!-- −14 -->\n      <defs>\n       <path d=\"M 10.59375 35.5 \nL 73.1875 35.5 \nL 73.1875 27.203125 \nL 10.59375 27.203125 \nz\n\" id=\"DejaVuSans-8722\"/>\n       <path d=\"M 12.40625 8.296875 \nL 28.515625 8.296875 \nL 28.515625 63.921875 \nL 10.984375 60.40625 \nL 10.984375 69.390625 \nL 28.421875 72.90625 \nL 38.28125 72.90625 \nL 38.28125 8.296875 \nL 54.390625 8.296875 \nL 54.390625 0 \nL 12.40625 0 \nz\n\" id=\"DejaVuSans-49\"/>\n       <path d=\"M 37.796875 64.3125 \nL 12.890625 25.390625 \nL 37.796875 25.390625 \nz\nM 35.203125 72.90625 \nL 47.609375 72.90625 \nL 47.609375 25.390625 \nL 58.015625 25.390625 \nL 58.015625 17.1875 \nL 47.609375 17.1875 \nL 47.609375 0 \nL 37.796875 0 \nL 37.796875 17.1875 \nL 4.890625 17.1875 \nL 4.890625 26.703125 \nz\n\" id=\"DejaVuSans-52\"/>\n      </defs>\n      <g transform=\"translate(61.598324 420.779875)scale(0.12 -0.12)\">\n       <use xlink:href=\"#DejaVuSans-8722\"/>\n       <use x=\"83.789062\" xlink:href=\"#DejaVuSans-49\"/>\n       <use x=\"147.412109\" xlink:href=\"#DejaVuSans-52\"/>\n      </g>\n     </g>\n    </g>\n    <g id=\"xtick_2\">\n     <g id=\"line2d_2\">\n      <g>\n       <use style=\"stroke:#000000;stroke-width:0.8;\" x=\"146.728669\" xlink:href=\"#m933b3c959c\" y=\"404.66175\"/>\n      </g>\n     </g>\n     <g id=\"text_2\">\n      <!-- −13 -->\n      <defs>\n       <path d=\"M 40.578125 39.3125 \nQ 47.65625 37.796875 51.625 33 \nQ 55.609375 28.21875 55.609375 21.1875 \nQ 55.609375 10.40625 48.1875 4.484375 \nQ 40.765625 -1.421875 27.09375 -1.421875 \nQ 22.515625 -1.421875 17.65625 -0.515625 \nQ 12.796875 0.390625 7.625 2.203125 \nL 7.625 11.71875 \nQ 11.71875 9.328125 16.59375 8.109375 \nQ 21.484375 6.890625 26.8125 6.890625 \nQ 36.078125 6.890625 40.9375 10.546875 \nQ 45.796875 14.203125 45.796875 21.1875 \nQ 45.796875 27.640625 41.28125 31.265625 \nQ 36.765625 34.90625 28.71875 34.90625 \nL 20.21875 34.90625 \nL 20.21875 43.015625 \nL 29.109375 43.015625 \nQ 36.375 43.015625 40.234375 45.921875 \nQ 44.09375 48.828125 44.09375 54.296875 \nQ 44.09375 59.90625 40.109375 62.90625 \nQ 36.140625 65.921875 28.71875 65.921875 \nQ 24.65625 65.921875 20.015625 65.03125 \nQ 15.375 64.15625 9.8125 62.3125 \nL 9.8125 71.09375 \nQ 15.4375 72.65625 20.34375 73.4375 \nQ 25.25 74.21875 29.59375 74.21875 \nQ 40.828125 74.21875 47.359375 69.109375 \nQ 53.90625 64.015625 53.90625 55.328125 \nQ 53.90625 49.265625 50.4375 45.09375 \nQ 46.96875 40.921875 40.578125 39.3125 \nz\n\" id=\"DejaVuSans-51\"/>\n      </defs>\n      <g transform=\"translate(134.065856 420.779875)scale(0.12 -0.12)\">\n       <use xlink:href=\"#DejaVuSans-8722\"/>\n       <use x=\"83.789062\" xlink:href=\"#DejaVuSans-49\"/>\n       <use x=\"147.412109\" xlink:href=\"#DejaVuSans-51\"/>\n      </g>\n     </g>\n    </g>\n    <g id=\"xtick_3\">\n     <g id=\"line2d_3\">\n      <g>\n       <use style=\"stroke:#000000;stroke-width:0.8;\" x=\"219.196201\" xlink:href=\"#m933b3c959c\" y=\"404.66175\"/>\n      </g>\n     </g>\n     <g id=\"text_3\">\n      <!-- −12 -->\n      <defs>\n       <path d=\"M 19.1875 8.296875 \nL 53.609375 8.296875 \nL 53.609375 0 \nL 7.328125 0 \nL 7.328125 8.296875 \nQ 12.9375 14.109375 22.625 23.890625 \nQ 32.328125 33.6875 34.8125 36.53125 \nQ 39.546875 41.84375 41.421875 45.53125 \nQ 43.3125 49.21875 43.3125 52.78125 \nQ 43.3125 58.59375 39.234375 62.25 \nQ 35.15625 65.921875 28.609375 65.921875 \nQ 23.96875 65.921875 18.8125 64.3125 \nQ 13.671875 62.703125 7.8125 59.421875 \nL 7.8125 69.390625 \nQ 13.765625 71.78125 18.9375 73 \nQ 24.125 74.21875 28.421875 74.21875 \nQ 39.75 74.21875 46.484375 68.546875 \nQ 53.21875 62.890625 53.21875 53.421875 \nQ 53.21875 48.921875 51.53125 44.890625 \nQ 49.859375 40.875 45.40625 35.40625 \nQ 44.1875 33.984375 37.640625 27.21875 \nQ 31.109375 20.453125 19.1875 8.296875 \nz\n\" id=\"DejaVuSans-50\"/>\n      </defs>\n      <g transform=\"translate(206.533389 420.779875)scale(0.12 -0.12)\">\n       <use xlink:href=\"#DejaVuSans-8722\"/>\n       <use x=\"83.789062\" xlink:href=\"#DejaVuSans-49\"/>\n       <use x=\"147.412109\" xlink:href=\"#DejaVuSans-50\"/>\n      </g>\n     </g>\n    </g>\n    <g id=\"xtick_4\">\n     <g id=\"line2d_4\">\n      <g>\n       <use style=\"stroke:#000000;stroke-width:0.8;\" x=\"291.663734\" xlink:href=\"#m933b3c959c\" y=\"404.66175\"/>\n      </g>\n     </g>\n     <g id=\"text_4\">\n      <!-- −11 -->\n      <g transform=\"translate(279.000921 420.779875)scale(0.12 -0.12)\">\n       <use xlink:href=\"#DejaVuSans-8722\"/>\n       <use x=\"83.789062\" xlink:href=\"#DejaVuSans-49\"/>\n       <use x=\"147.412109\" xlink:href=\"#DejaVuSans-49\"/>\n      </g>\n     </g>\n    </g>\n    <g id=\"xtick_5\">\n     <g id=\"line2d_5\">\n      <g>\n       <use style=\"stroke:#000000;stroke-width:0.8;\" x=\"364.131266\" xlink:href=\"#m933b3c959c\" y=\"404.66175\"/>\n      </g>\n     </g>\n     <g id=\"text_5\">\n      <!-- −10 -->\n      <defs>\n       <path d=\"M 31.78125 66.40625 \nQ 24.171875 66.40625 20.328125 58.90625 \nQ 16.5 51.421875 16.5 36.375 \nQ 16.5 21.390625 20.328125 13.890625 \nQ 24.171875 6.390625 31.78125 6.390625 \nQ 39.453125 6.390625 43.28125 13.890625 \nQ 47.125 21.390625 47.125 36.375 \nQ 47.125 51.421875 43.28125 58.90625 \nQ 39.453125 66.40625 31.78125 66.40625 \nz\nM 31.78125 74.21875 \nQ 44.046875 74.21875 50.515625 64.515625 \nQ 56.984375 54.828125 56.984375 36.375 \nQ 56.984375 17.96875 50.515625 8.265625 \nQ 44.046875 -1.421875 31.78125 -1.421875 \nQ 19.53125 -1.421875 13.0625 8.265625 \nQ 6.59375 17.96875 6.59375 36.375 \nQ 6.59375 54.828125 13.0625 64.515625 \nQ 19.53125 74.21875 31.78125 74.21875 \nz\n\" id=\"DejaVuSans-48\"/>\n      </defs>\n      <g transform=\"translate(351.468454 420.779875)scale(0.12 -0.12)\">\n       <use xlink:href=\"#DejaVuSans-8722\"/>\n       <use x=\"83.789062\" xlink:href=\"#DejaVuSans-49\"/>\n       <use x=\"147.412109\" xlink:href=\"#DejaVuSans-48\"/>\n      </g>\n     </g>\n    </g>\n    <g id=\"xtick_6\">\n     <g id=\"line2d_6\">\n      <g>\n       <use style=\"stroke:#000000;stroke-width:0.8;\" x=\"436.598799\" xlink:href=\"#m933b3c959c\" y=\"404.66175\"/>\n      </g>\n     </g>\n     <g id=\"text_6\">\n      <!-- −9 -->\n      <defs>\n       <path d=\"M 10.984375 1.515625 \nL 10.984375 10.5 \nQ 14.703125 8.734375 18.5 7.8125 \nQ 22.3125 6.890625 25.984375 6.890625 \nQ 35.75 6.890625 40.890625 13.453125 \nQ 46.046875 20.015625 46.78125 33.40625 \nQ 43.953125 29.203125 39.59375 26.953125 \nQ 35.25 24.703125 29.984375 24.703125 \nQ 19.046875 24.703125 12.671875 31.3125 \nQ 6.296875 37.9375 6.296875 49.421875 \nQ 6.296875 60.640625 12.9375 67.421875 \nQ 19.578125 74.21875 30.609375 74.21875 \nQ 43.265625 74.21875 49.921875 64.515625 \nQ 56.59375 54.828125 56.59375 36.375 \nQ 56.59375 19.140625 48.40625 8.859375 \nQ 40.234375 -1.421875 26.421875 -1.421875 \nQ 22.703125 -1.421875 18.890625 -0.6875 \nQ 15.09375 0.046875 10.984375 1.515625 \nz\nM 30.609375 32.421875 \nQ 37.25 32.421875 41.125 36.953125 \nQ 45.015625 41.5 45.015625 49.421875 \nQ 45.015625 57.28125 41.125 61.84375 \nQ 37.25 66.40625 30.609375 66.40625 \nQ 23.96875 66.40625 20.09375 61.84375 \nQ 16.21875 57.28125 16.21875 49.421875 \nQ 16.21875 41.5 20.09375 36.953125 \nQ 23.96875 32.421875 30.609375 32.421875 \nz\n\" id=\"DejaVuSans-57\"/>\n      </defs>\n      <g transform=\"translate(427.753486 420.779875)scale(0.12 -0.12)\">\n       <use xlink:href=\"#DejaVuSans-8722\"/>\n       <use x=\"83.789062\" xlink:href=\"#DejaVuSans-57\"/>\n      </g>\n     </g>\n    </g>\n    <g id=\"xtick_7\">\n     <g id=\"line2d_7\">\n      <g>\n       <use style=\"stroke:#000000;stroke-width:0.8;\" x=\"509.066331\" xlink:href=\"#m933b3c959c\" y=\"404.66175\"/>\n      </g>\n     </g>\n     <g id=\"text_7\">\n      <!-- −8 -->\n      <defs>\n       <path d=\"M 31.78125 34.625 \nQ 24.75 34.625 20.71875 30.859375 \nQ 16.703125 27.09375 16.703125 20.515625 \nQ 16.703125 13.921875 20.71875 10.15625 \nQ 24.75 6.390625 31.78125 6.390625 \nQ 38.8125 6.390625 42.859375 10.171875 \nQ 46.921875 13.96875 46.921875 20.515625 \nQ 46.921875 27.09375 42.890625 30.859375 \nQ 38.875 34.625 31.78125 34.625 \nz\nM 21.921875 38.8125 \nQ 15.578125 40.375 12.03125 44.71875 \nQ 8.5 49.078125 8.5 55.328125 \nQ 8.5 64.0625 14.71875 69.140625 \nQ 20.953125 74.21875 31.78125 74.21875 \nQ 42.671875 74.21875 48.875 69.140625 \nQ 55.078125 64.0625 55.078125 55.328125 \nQ 55.078125 49.078125 51.53125 44.71875 \nQ 48 40.375 41.703125 38.8125 \nQ 48.828125 37.15625 52.796875 32.3125 \nQ 56.78125 27.484375 56.78125 20.515625 \nQ 56.78125 9.90625 50.3125 4.234375 \nQ 43.84375 -1.421875 31.78125 -1.421875 \nQ 19.734375 -1.421875 13.25 4.234375 \nQ 6.78125 9.90625 6.78125 20.515625 \nQ 6.78125 27.484375 10.78125 32.3125 \nQ 14.796875 37.15625 21.921875 38.8125 \nz\nM 18.3125 54.390625 \nQ 18.3125 48.734375 21.84375 45.5625 \nQ 25.390625 42.390625 31.78125 42.390625 \nQ 38.140625 42.390625 41.71875 45.5625 \nQ 45.3125 48.734375 45.3125 54.390625 \nQ 45.3125 60.0625 41.71875 63.234375 \nQ 38.140625 66.40625 31.78125 66.40625 \nQ 25.390625 66.40625 21.84375 63.234375 \nQ 18.3125 60.0625 18.3125 54.390625 \nz\n\" id=\"DejaVuSans-56\"/>\n      </defs>\n      <g transform=\"translate(500.221019 420.779875)scale(0.12 -0.12)\">\n       <use xlink:href=\"#DejaVuSans-8722\"/>\n       <use x=\"83.789062\" xlink:href=\"#DejaVuSans-56\"/>\n      </g>\n     </g>\n    </g>\n    <g id=\"xtick_8\">\n     <g id=\"line2d_8\">\n      <g>\n       <use style=\"stroke:#000000;stroke-width:0.8;\" x=\"581.533864\" xlink:href=\"#m933b3c959c\" y=\"404.66175\"/>\n      </g>\n     </g>\n     <g id=\"text_8\">\n      <!-- −7 -->\n      <defs>\n       <path d=\"M 8.203125 72.90625 \nL 55.078125 72.90625 \nL 55.078125 68.703125 \nL 28.609375 0 \nL 18.3125 0 \nL 43.21875 64.59375 \nL 8.203125 64.59375 \nz\n\" id=\"DejaVuSans-55\"/>\n      </defs>\n      <g transform=\"translate(572.688551 420.779875)scale(0.12 -0.12)\">\n       <use xlink:href=\"#DejaVuSans-8722\"/>\n       <use x=\"83.789062\" xlink:href=\"#DejaVuSans-55\"/>\n      </g>\n     </g>\n    </g>\n    <g id=\"text_9\">\n     <!-- log2(Trans ICCF) -->\n     <defs>\n      <path d=\"M 9.421875 75.984375 \nL 18.40625 75.984375 \nL 18.40625 0 \nL 9.421875 0 \nz\n\" id=\"DejaVuSans-108\"/>\n      <path d=\"M 30.609375 48.390625 \nQ 23.390625 48.390625 19.1875 42.75 \nQ 14.984375 37.109375 14.984375 27.296875 \nQ 14.984375 17.484375 19.15625 11.84375 \nQ 23.34375 6.203125 30.609375 6.203125 \nQ 37.796875 6.203125 41.984375 11.859375 \nQ 46.1875 17.53125 46.1875 27.296875 \nQ 46.1875 37.015625 41.984375 42.703125 \nQ 37.796875 48.390625 30.609375 48.390625 \nz\nM 30.609375 56 \nQ 42.328125 56 49.015625 48.375 \nQ 55.71875 40.765625 55.71875 27.296875 \nQ 55.71875 13.875 49.015625 6.21875 \nQ 42.328125 -1.421875 30.609375 -1.421875 \nQ 18.84375 -1.421875 12.171875 6.21875 \nQ 5.515625 13.875 5.515625 27.296875 \nQ 5.515625 40.765625 12.171875 48.375 \nQ 18.84375 56 30.609375 56 \nz\n\" id=\"DejaVuSans-111\"/>\n      <path d=\"M 45.40625 27.984375 \nQ 45.40625 37.75 41.375 43.109375 \nQ 37.359375 48.484375 30.078125 48.484375 \nQ 22.859375 48.484375 18.828125 43.109375 \nQ 14.796875 37.75 14.796875 27.984375 \nQ 14.796875 18.265625 18.828125 12.890625 \nQ 22.859375 7.515625 30.078125 7.515625 \nQ 37.359375 7.515625 41.375 12.890625 \nQ 45.40625 18.265625 45.40625 27.984375 \nz\nM 54.390625 6.78125 \nQ 54.390625 -7.171875 48.1875 -13.984375 \nQ 42 -20.796875 29.203125 -20.796875 \nQ 24.46875 -20.796875 20.265625 -20.09375 \nQ 16.0625 -19.390625 12.109375 -17.921875 \nL 12.109375 -9.1875 \nQ 16.0625 -11.328125 19.921875 -12.34375 \nQ 23.78125 -13.375 27.78125 -13.375 \nQ 36.625 -13.375 41.015625 -8.765625 \nQ 45.40625 -4.15625 45.40625 5.171875 \nL 45.40625 9.625 \nQ 42.625 4.78125 38.28125 2.390625 \nQ 33.9375 0 27.875 0 \nQ 17.828125 0 11.671875 7.65625 \nQ 5.515625 15.328125 5.515625 27.984375 \nQ 5.515625 40.671875 11.671875 48.328125 \nQ 17.828125 56 27.875 56 \nQ 33.9375 56 38.28125 53.609375 \nQ 42.625 51.21875 45.40625 46.390625 \nL 45.40625 54.6875 \nL 54.390625 54.6875 \nz\n\" id=\"DejaVuSans-103\"/>\n      <path d=\"M 31 75.875 \nQ 24.46875 64.65625 21.28125 53.65625 \nQ 18.109375 42.671875 18.109375 31.390625 \nQ 18.109375 20.125 21.3125 9.0625 \nQ 24.515625 -2 31 -13.1875 \nL 23.1875 -13.1875 \nQ 15.875 -1.703125 12.234375 9.375 \nQ 8.59375 20.453125 8.59375 31.390625 \nQ 8.59375 42.28125 12.203125 53.3125 \nQ 15.828125 64.359375 23.1875 75.875 \nz\n\" id=\"DejaVuSans-40\"/>\n      <path d=\"M -0.296875 72.90625 \nL 61.375 72.90625 \nL 61.375 64.59375 \nL 35.5 64.59375 \nL 35.5 0 \nL 25.59375 0 \nL 25.59375 64.59375 \nL -0.296875 64.59375 \nz\n\" id=\"DejaVuSans-84\"/>\n      <path d=\"M 41.109375 46.296875 \nQ 39.59375 47.171875 37.8125 47.578125 \nQ 36.03125 48 33.890625 48 \nQ 26.265625 48 22.1875 43.046875 \nQ 18.109375 38.09375 18.109375 28.8125 \nL 18.109375 0 \nL 9.078125 0 \nL 9.078125 54.6875 \nL 18.109375 54.6875 \nL 18.109375 46.1875 \nQ 20.953125 51.171875 25.484375 53.578125 \nQ 30.03125 56 36.53125 56 \nQ 37.453125 56 38.578125 55.875 \nQ 39.703125 55.765625 41.0625 55.515625 \nz\n\" id=\"DejaVuSans-114\"/>\n      <path d=\"M 34.28125 27.484375 \nQ 23.390625 27.484375 19.1875 25 \nQ 14.984375 22.515625 14.984375 16.5 \nQ 14.984375 11.71875 18.140625 8.90625 \nQ 21.296875 6.109375 26.703125 6.109375 \nQ 34.1875 6.109375 38.703125 11.40625 \nQ 43.21875 16.703125 43.21875 25.484375 \nL 43.21875 27.484375 \nz\nM 52.203125 31.203125 \nL 52.203125 0 \nL 43.21875 0 \nL 43.21875 8.296875 \nQ 40.140625 3.328125 35.546875 0.953125 \nQ 30.953125 -1.421875 24.3125 -1.421875 \nQ 15.921875 -1.421875 10.953125 3.296875 \nQ 6 8.015625 6 15.921875 \nQ 6 25.140625 12.171875 29.828125 \nQ 18.359375 34.515625 30.609375 34.515625 \nL 43.21875 34.515625 \nL 43.21875 35.40625 \nQ 43.21875 41.609375 39.140625 45 \nQ 35.0625 48.390625 27.6875 48.390625 \nQ 23 48.390625 18.546875 47.265625 \nQ 14.109375 46.140625 10.015625 43.890625 \nL 10.015625 52.203125 \nQ 14.9375 54.109375 19.578125 55.046875 \nQ 24.21875 56 28.609375 56 \nQ 40.484375 56 46.34375 49.84375 \nQ 52.203125 43.703125 52.203125 31.203125 \nz\n\" id=\"DejaVuSans-97\"/>\n      <path d=\"M 54.890625 33.015625 \nL 54.890625 0 \nL 45.90625 0 \nL 45.90625 32.71875 \nQ 45.90625 40.484375 42.875 44.328125 \nQ 39.84375 48.1875 33.796875 48.1875 \nQ 26.515625 48.1875 22.3125 43.546875 \nQ 18.109375 38.921875 18.109375 30.90625 \nL 18.109375 0 \nL 9.078125 0 \nL 9.078125 54.6875 \nL 18.109375 54.6875 \nL 18.109375 46.1875 \nQ 21.34375 51.125 25.703125 53.5625 \nQ 30.078125 56 35.796875 56 \nQ 45.21875 56 50.046875 50.171875 \nQ 54.890625 44.34375 54.890625 33.015625 \nz\n\" id=\"DejaVuSans-110\"/>\n      <path d=\"M 44.28125 53.078125 \nL 44.28125 44.578125 \nQ 40.484375 46.53125 36.375 47.5 \nQ 32.28125 48.484375 27.875 48.484375 \nQ 21.1875 48.484375 17.84375 46.4375 \nQ 14.5 44.390625 14.5 40.28125 \nQ 14.5 37.15625 16.890625 35.375 \nQ 19.28125 33.59375 26.515625 31.984375 \nL 29.59375 31.296875 \nQ 39.15625 29.25 43.1875 25.515625 \nQ 47.21875 21.78125 47.21875 15.09375 \nQ 47.21875 7.46875 41.1875 3.015625 \nQ 35.15625 -1.421875 24.609375 -1.421875 \nQ 20.21875 -1.421875 15.453125 -0.5625 \nQ 10.6875 0.296875 5.421875 2 \nL 5.421875 11.28125 \nQ 10.40625 8.6875 15.234375 7.390625 \nQ 20.0625 6.109375 24.8125 6.109375 \nQ 31.15625 6.109375 34.5625 8.28125 \nQ 37.984375 10.453125 37.984375 14.40625 \nQ 37.984375 18.0625 35.515625 20.015625 \nQ 33.0625 21.96875 24.703125 23.78125 \nL 21.578125 24.515625 \nQ 13.234375 26.265625 9.515625 29.90625 \nQ 5.8125 33.546875 5.8125 39.890625 \nQ 5.8125 47.609375 11.28125 51.796875 \nQ 16.75 56 26.8125 56 \nQ 31.78125 56 36.171875 55.265625 \nQ 40.578125 54.546875 44.28125 53.078125 \nz\n\" id=\"DejaVuSans-115\"/>\n      <path id=\"DejaVuSans-32\"/>\n      <path d=\"M 9.8125 72.90625 \nL 19.671875 72.90625 \nL 19.671875 0 \nL 9.8125 0 \nz\n\" id=\"DejaVuSans-73\"/>\n      <path d=\"M 64.40625 67.28125 \nL 64.40625 56.890625 \nQ 59.421875 61.53125 53.78125 63.8125 \nQ 48.140625 66.109375 41.796875 66.109375 \nQ 29.296875 66.109375 22.65625 58.46875 \nQ 16.015625 50.828125 16.015625 36.375 \nQ 16.015625 21.96875 22.65625 14.328125 \nQ 29.296875 6.6875 41.796875 6.6875 \nQ 48.140625 6.6875 53.78125 8.984375 \nQ 59.421875 11.28125 64.40625 15.921875 \nL 64.40625 5.609375 \nQ 59.234375 2.09375 53.4375 0.328125 \nQ 47.65625 -1.421875 41.21875 -1.421875 \nQ 24.65625 -1.421875 15.125 8.703125 \nQ 5.609375 18.84375 5.609375 36.375 \nQ 5.609375 53.953125 15.125 64.078125 \nQ 24.65625 74.21875 41.21875 74.21875 \nQ 47.75 74.21875 53.53125 72.484375 \nQ 59.328125 70.75 64.40625 67.28125 \nz\n\" id=\"DejaVuSans-67\"/>\n      <path d=\"M 9.8125 72.90625 \nL 51.703125 72.90625 \nL 51.703125 64.59375 \nL 19.671875 64.59375 \nL 19.671875 43.109375 \nL 48.578125 43.109375 \nL 48.578125 34.8125 \nL 19.671875 34.8125 \nL 19.671875 0 \nL 9.8125 0 \nz\n\" id=\"DejaVuSans-70\"/>\n      <path d=\"M 8.015625 75.875 \nL 15.828125 75.875 \nQ 23.140625 64.359375 26.78125 53.3125 \nQ 30.421875 42.28125 30.421875 31.390625 \nQ 30.421875 20.453125 26.78125 9.375 \nQ 23.140625 -1.703125 15.828125 -13.1875 \nL 8.015625 -13.1875 \nQ 14.5 -2 17.703125 9.0625 \nQ 20.90625 20.125 20.90625 31.390625 \nQ 20.90625 42.671875 17.703125 53.65625 \nQ 14.5 64.65625 8.015625 75.875 \nz\n\" id=\"DejaVuSans-41\"/>\n     </defs>\n     <g transform=\"translate(278.020625 436.393625)scale(0.12 -0.12)\">\n      <use xlink:href=\"#DejaVuSans-108\"/>\n      <use x=\"27.783203\" xlink:href=\"#DejaVuSans-111\"/>\n      <use x=\"88.964844\" xlink:href=\"#DejaVuSans-103\"/>\n      <use x=\"152.441406\" xlink:href=\"#DejaVuSans-50\"/>\n      <use x=\"216.064453\" xlink:href=\"#DejaVuSans-40\"/>\n      <use x=\"255.078125\" xlink:href=\"#DejaVuSans-84\"/>\n      <use x=\"315.943359\" xlink:href=\"#DejaVuSans-114\"/>\n      <use x=\"357.056641\" xlink:href=\"#DejaVuSans-97\"/>\n      <use x=\"418.335938\" xlink:href=\"#DejaVuSans-110\"/>\n      <use x=\"481.714844\" xlink:href=\"#DejaVuSans-115\"/>\n      <use x=\"533.814453\" xlink:href=\"#DejaVuSans-32\"/>\n      <use x=\"565.601562\" xlink:href=\"#DejaVuSans-73\"/>\n      <use x=\"595.09375\" xlink:href=\"#DejaVuSans-67\"/>\n      <use x=\"664.917969\" xlink:href=\"#DejaVuSans-67\"/>\n      <use x=\"734.742188\" xlink:href=\"#DejaVuSans-70\"/>\n      <use x=\"792.261719\" xlink:href=\"#DejaVuSans-41\"/>\n     </g>\n    </g>\n   </g>\n   <g id=\"matplotlib.axis_2\">\n    <g id=\"ytick_1\">\n     <g id=\"line2d_9\">\n      <defs>\n       <path d=\"M 0 0 \nL -3.5 0 \n\" id=\"m6e12047161\" style=\"stroke:#000000;stroke-width:0.8;\"/>\n      </defs>\n      <g>\n       <use style=\"stroke:#000000;stroke-width:0.8;\" x=\"48.8975\" xlink:href=\"#m6e12047161\" y=\"404.66175\"/>\n      </g>\n     </g>\n     <g id=\"text_10\">\n      <!-- 0.0 -->\n      <defs>\n       <path d=\"M 10.6875 12.40625 \nL 21 12.40625 \nL 21 0 \nL 10.6875 0 \nz\n\" id=\"DejaVuSans-46\"/>\n      </defs>\n      <g transform=\"translate(22.81375 409.220812)scale(0.12 -0.12)\">\n       <use xlink:href=\"#DejaVuSans-48\"/>\n       <use x=\"63.623047\" xlink:href=\"#DejaVuSans-46\"/>\n       <use x=\"95.410156\" xlink:href=\"#DejaVuSans-48\"/>\n      </g>\n     </g>\n    </g>\n    <g id=\"ytick_2\">\n     <g id=\"line2d_10\">\n      <g>\n       <use style=\"stroke:#000000;stroke-width:0.8;\" x=\"48.8975\" xlink:href=\"#m6e12047161\" y=\"325.240396\"/>\n      </g>\n     </g>\n     <g id=\"text_11\">\n      <!-- 0.2 -->\n      <g transform=\"translate(22.81375 329.799459)scale(0.12 -0.12)\">\n       <use xlink:href=\"#DejaVuSans-48\"/>\n       <use x=\"63.623047\" xlink:href=\"#DejaVuSans-46\"/>\n       <use x=\"95.410156\" xlink:href=\"#DejaVuSans-50\"/>\n      </g>\n     </g>\n    </g>\n    <g id=\"ytick_3\">\n     <g id=\"line2d_11\">\n      <g>\n       <use style=\"stroke:#000000;stroke-width:0.8;\" x=\"48.8975\" xlink:href=\"#m6e12047161\" y=\"245.819042\"/>\n      </g>\n     </g>\n     <g id=\"text_12\">\n      <!-- 0.4 -->\n      <g transform=\"translate(22.81375 250.378105)scale(0.12 -0.12)\">\n       <use xlink:href=\"#DejaVuSans-48\"/>\n       <use x=\"63.623047\" xlink:href=\"#DejaVuSans-46\"/>\n       <use x=\"95.410156\" xlink:href=\"#DejaVuSans-52\"/>\n      </g>\n     </g>\n    </g>\n    <g id=\"ytick_4\">\n     <g id=\"line2d_12\">\n      <g>\n       <use style=\"stroke:#000000;stroke-width:0.8;\" x=\"48.8975\" xlink:href=\"#m6e12047161\" y=\"166.397688\"/>\n      </g>\n     </g>\n     <g id=\"text_13\">\n      <!-- 0.6 -->\n      <defs>\n       <path d=\"M 33.015625 40.375 \nQ 26.375 40.375 22.484375 35.828125 \nQ 18.609375 31.296875 18.609375 23.390625 \nQ 18.609375 15.53125 22.484375 10.953125 \nQ 26.375 6.390625 33.015625 6.390625 \nQ 39.65625 6.390625 43.53125 10.953125 \nQ 47.40625 15.53125 47.40625 23.390625 \nQ 47.40625 31.296875 43.53125 35.828125 \nQ 39.65625 40.375 33.015625 40.375 \nz\nM 52.59375 71.296875 \nL 52.59375 62.3125 \nQ 48.875 64.0625 45.09375 64.984375 \nQ 41.3125 65.921875 37.59375 65.921875 \nQ 27.828125 65.921875 22.671875 59.328125 \nQ 17.53125 52.734375 16.796875 39.40625 \nQ 19.671875 43.65625 24.015625 45.921875 \nQ 28.375 48.1875 33.59375 48.1875 \nQ 44.578125 48.1875 50.953125 41.515625 \nQ 57.328125 34.859375 57.328125 23.390625 \nQ 57.328125 12.15625 50.6875 5.359375 \nQ 44.046875 -1.421875 33.015625 -1.421875 \nQ 20.359375 -1.421875 13.671875 8.265625 \nQ 6.984375 17.96875 6.984375 36.375 \nQ 6.984375 53.65625 15.1875 63.9375 \nQ 23.390625 74.21875 37.203125 74.21875 \nQ 40.921875 74.21875 44.703125 73.484375 \nQ 48.484375 72.75 52.59375 71.296875 \nz\n\" id=\"DejaVuSans-54\"/>\n      </defs>\n      <g transform=\"translate(22.81375 170.956751)scale(0.12 -0.12)\">\n       <use xlink:href=\"#DejaVuSans-48\"/>\n       <use x=\"63.623047\" xlink:href=\"#DejaVuSans-46\"/>\n       <use x=\"95.410156\" xlink:href=\"#DejaVuSans-54\"/>\n      </g>\n     </g>\n    </g>\n    <g id=\"ytick_5\">\n     <g id=\"line2d_13\">\n      <g>\n       <use style=\"stroke:#000000;stroke-width:0.8;\" x=\"48.8975\" xlink:href=\"#m6e12047161\" y=\"86.976335\"/>\n      </g>\n     </g>\n     <g id=\"text_14\">\n      <!-- 0.8 -->\n      <g transform=\"translate(22.81375 91.535397)scale(0.12 -0.12)\">\n       <use xlink:href=\"#DejaVuSans-48\"/>\n       <use x=\"63.623047\" xlink:href=\"#DejaVuSans-46\"/>\n       <use x=\"95.410156\" xlink:href=\"#DejaVuSans-56\"/>\n      </g>\n     </g>\n    </g>\n    <g id=\"text_15\">\n     <!-- Density -->\n     <defs>\n      <path d=\"M 19.671875 64.796875 \nL 19.671875 8.109375 \nL 31.59375 8.109375 \nQ 46.6875 8.109375 53.6875 14.9375 \nQ 60.6875 21.78125 60.6875 36.53125 \nQ 60.6875 51.171875 53.6875 57.984375 \nQ 46.6875 64.796875 31.59375 64.796875 \nz\nM 9.8125 72.90625 \nL 30.078125 72.90625 \nQ 51.265625 72.90625 61.171875 64.09375 \nQ 71.09375 55.28125 71.09375 36.53125 \nQ 71.09375 17.671875 61.125 8.828125 \nQ 51.171875 0 30.078125 0 \nL 9.8125 0 \nz\n\" id=\"DejaVuSans-68\"/>\n      <path d=\"M 56.203125 29.59375 \nL 56.203125 25.203125 \nL 14.890625 25.203125 \nQ 15.484375 15.921875 20.484375 11.0625 \nQ 25.484375 6.203125 34.421875 6.203125 \nQ 39.59375 6.203125 44.453125 7.46875 \nQ 49.3125 8.734375 54.109375 11.28125 \nL 54.109375 2.78125 \nQ 49.265625 0.734375 44.1875 -0.34375 \nQ 39.109375 -1.421875 33.890625 -1.421875 \nQ 20.796875 -1.421875 13.15625 6.1875 \nQ 5.515625 13.8125 5.515625 26.8125 \nQ 5.515625 40.234375 12.765625 48.109375 \nQ 20.015625 56 32.328125 56 \nQ 43.359375 56 49.78125 48.890625 \nQ 56.203125 41.796875 56.203125 29.59375 \nz\nM 47.21875 32.234375 \nQ 47.125 39.59375 43.09375 43.984375 \nQ 39.0625 48.390625 32.421875 48.390625 \nQ 24.90625 48.390625 20.390625 44.140625 \nQ 15.875 39.890625 15.1875 32.171875 \nz\n\" id=\"DejaVuSans-101\"/>\n      <path d=\"M 9.421875 54.6875 \nL 18.40625 54.6875 \nL 18.40625 0 \nL 9.421875 0 \nz\nM 9.421875 75.984375 \nL 18.40625 75.984375 \nL 18.40625 64.59375 \nL 9.421875 64.59375 \nz\n\" id=\"DejaVuSans-105\"/>\n      <path d=\"M 18.3125 70.21875 \nL 18.3125 54.6875 \nL 36.8125 54.6875 \nL 36.8125 47.703125 \nL 18.3125 47.703125 \nL 18.3125 18.015625 \nQ 18.3125 11.328125 20.140625 9.421875 \nQ 21.96875 7.515625 27.59375 7.515625 \nL 36.8125 7.515625 \nL 36.8125 0 \nL 27.59375 0 \nQ 17.1875 0 13.234375 3.875 \nQ 9.28125 7.765625 9.28125 18.015625 \nL 9.28125 47.703125 \nL 2.6875 47.703125 \nL 2.6875 54.6875 \nL 9.28125 54.6875 \nL 9.28125 70.21875 \nz\n\" id=\"DejaVuSans-116\"/>\n      <path d=\"M 32.171875 -5.078125 \nQ 28.375 -14.84375 24.75 -17.8125 \nQ 21.140625 -20.796875 15.09375 -20.796875 \nL 7.90625 -20.796875 \nL 7.90625 -13.28125 \nL 13.1875 -13.28125 \nQ 16.890625 -13.28125 18.9375 -11.515625 \nQ 21 -9.765625 23.484375 -3.21875 \nL 25.09375 0.875 \nL 2.984375 54.6875 \nL 12.5 54.6875 \nL 29.59375 11.921875 \nL 46.6875 54.6875 \nL 56.203125 54.6875 \nz\n\" id=\"DejaVuSans-121\"/>\n     </defs>\n     <g transform=\"translate(16.318125 237.212063)rotate(-90)scale(0.12 -0.12)\">\n      <use xlink:href=\"#DejaVuSans-68\"/>\n      <use x=\"77.001953\" xlink:href=\"#DejaVuSans-101\"/>\n      <use x=\"138.525391\" xlink:href=\"#DejaVuSans-110\"/>\n      <use x=\"201.904297\" xlink:href=\"#DejaVuSans-115\"/>\n      <use x=\"254.003906\" xlink:href=\"#DejaVuSans-105\"/>\n      <use x=\"281.787109\" xlink:href=\"#DejaVuSans-116\"/>\n      <use x=\"320.996094\" xlink:href=\"#DejaVuSans-121\"/>\n     </g>\n    </g>\n   </g>\n   <g id=\"patch_6\">\n    <path d=\"M 48.8975 404.66175 \nL 48.8975 24.14175 \n\" style=\"fill:none;stroke:#000000;stroke-linecap:square;stroke-linejoin:miter;stroke-width:0.8;\"/>\n   </g>\n   <g id=\"patch_7\">\n    <path d=\"M 48.8975 404.66175 \nL 606.8975 404.66175 \n\" style=\"fill:none;stroke:#000000;stroke-linecap:square;stroke-linejoin:miter;stroke-width:0.8;\"/>\n   </g>\n   <g id=\"text_16\">\n    <!-- p &lt; 10^-15 -->\n    <defs>\n     <path d=\"M 18.109375 8.203125 \nL 18.109375 -20.796875 \nL 9.078125 -20.796875 \nL 9.078125 54.6875 \nL 18.109375 54.6875 \nL 18.109375 46.390625 \nQ 20.953125 51.265625 25.265625 53.625 \nQ 29.59375 56 35.59375 56 \nQ 45.5625 56 51.78125 48.09375 \nQ 58.015625 40.1875 58.015625 27.296875 \nQ 58.015625 14.40625 51.78125 6.484375 \nQ 45.5625 -1.421875 35.59375 -1.421875 \nQ 29.59375 -1.421875 25.265625 0.953125 \nQ 20.953125 3.328125 18.109375 8.203125 \nz\nM 48.6875 27.296875 \nQ 48.6875 37.203125 44.609375 42.84375 \nQ 40.53125 48.484375 33.40625 48.484375 \nQ 26.265625 48.484375 22.1875 42.84375 \nQ 18.109375 37.203125 18.109375 27.296875 \nQ 18.109375 17.390625 22.1875 11.75 \nQ 26.265625 6.109375 33.40625 6.109375 \nQ 40.53125 6.109375 44.609375 11.75 \nQ 48.6875 17.390625 48.6875 27.296875 \nz\n\" id=\"DejaVuSans-112\"/>\n     <path d=\"M 73.1875 49.21875 \nL 22.796875 31.296875 \nL 73.1875 13.484375 \nL 73.1875 4.59375 \nL 10.59375 27.296875 \nL 10.59375 35.40625 \nL 73.1875 58.109375 \nz\n\" id=\"DejaVuSans-60\"/>\n     <path d=\"M 46.6875 72.90625 \nL 73.1875 45.703125 \nL 63.375 45.703125 \nL 41.890625 64.984375 \nL 20.40625 45.703125 \nL 10.59375 45.703125 \nL 37.109375 72.90625 \nz\n\" id=\"DejaVuSans-94\"/>\n     <path d=\"M 4.890625 31.390625 \nL 31.203125 31.390625 \nL 31.203125 23.390625 \nL 4.890625 23.390625 \nz\n\" id=\"DejaVuSans-45\"/>\n     <path d=\"M 10.796875 72.90625 \nL 49.515625 72.90625 \nL 49.515625 64.59375 \nL 19.828125 64.59375 \nL 19.828125 46.734375 \nQ 21.96875 47.46875 24.109375 47.828125 \nQ 26.265625 48.1875 28.421875 48.1875 \nQ 40.625 48.1875 47.75 41.5 \nQ 54.890625 34.8125 54.890625 23.390625 \nQ 54.890625 11.625 47.5625 5.09375 \nQ 40.234375 -1.421875 26.90625 -1.421875 \nQ 22.3125 -1.421875 17.546875 -0.640625 \nQ 12.796875 0.140625 7.71875 1.703125 \nL 7.71875 11.625 \nQ 12.109375 9.234375 16.796875 8.0625 \nQ 21.484375 6.890625 26.703125 6.890625 \nQ 35.15625 6.890625 40.078125 11.328125 \nQ 45.015625 15.765625 45.015625 23.390625 \nQ 45.015625 31 40.078125 35.4375 \nQ 35.15625 39.890625 26.703125 39.890625 \nQ 22.75 39.890625 18.8125 39.015625 \nQ 14.890625 38.140625 10.796875 36.28125 \nz\n\" id=\"DejaVuSans-53\"/>\n    </defs>\n    <g transform=\"translate(54.4775 162.912375)scale(0.12 -0.12)\">\n     <use xlink:href=\"#DejaVuSans-112\"/>\n     <use x=\"63.476562\" xlink:href=\"#DejaVuSans-32\"/>\n     <use x=\"95.263672\" xlink:href=\"#DejaVuSans-60\"/>\n     <use x=\"179.052734\" xlink:href=\"#DejaVuSans-32\"/>\n     <use x=\"210.839844\" xlink:href=\"#DejaVuSans-49\"/>\n     <use x=\"274.462891\" xlink:href=\"#DejaVuSans-48\"/>\n     <use x=\"338.085938\" xlink:href=\"#DejaVuSans-94\"/>\n     <use x=\"421.875\" xlink:href=\"#DejaVuSans-45\"/>\n     <use x=\"457.958984\" xlink:href=\"#DejaVuSans-49\"/>\n     <use x=\"521.582031\" xlink:href=\"#DejaVuSans-53\"/>\n    </g>\n    <!--  (Sor &lt; WT) -->\n    <defs>\n     <path d=\"M 53.515625 70.515625 \nL 53.515625 60.890625 \nQ 47.90625 63.578125 42.921875 64.890625 \nQ 37.9375 66.21875 33.296875 66.21875 \nQ 25.25 66.21875 20.875 63.09375 \nQ 16.5 59.96875 16.5 54.203125 \nQ 16.5 49.359375 19.40625 46.890625 \nQ 22.3125 44.4375 30.421875 42.921875 \nL 36.375 41.703125 \nQ 47.40625 39.59375 52.65625 34.296875 \nQ 57.90625 29 57.90625 20.125 \nQ 57.90625 9.515625 50.796875 4.046875 \nQ 43.703125 -1.421875 29.984375 -1.421875 \nQ 24.8125 -1.421875 18.96875 -0.25 \nQ 13.140625 0.921875 6.890625 3.21875 \nL 6.890625 13.375 \nQ 12.890625 10.015625 18.65625 8.296875 \nQ 24.421875 6.59375 29.984375 6.59375 \nQ 38.421875 6.59375 43.015625 9.90625 \nQ 47.609375 13.234375 47.609375 19.390625 \nQ 47.609375 24.75 44.3125 27.78125 \nQ 41.015625 30.8125 33.5 32.328125 \nL 27.484375 33.5 \nQ 16.453125 35.6875 11.515625 40.375 \nQ 6.59375 45.0625 6.59375 53.421875 \nQ 6.59375 63.09375 13.40625 68.65625 \nQ 20.21875 74.21875 32.171875 74.21875 \nQ 37.3125 74.21875 42.625 73.28125 \nQ 47.953125 72.359375 53.515625 70.515625 \nz\n\" id=\"DejaVuSans-83\"/>\n     <path d=\"M 3.328125 72.90625 \nL 13.28125 72.90625 \nL 28.609375 11.28125 \nL 43.890625 72.90625 \nL 54.984375 72.90625 \nL 70.3125 11.28125 \nL 85.59375 72.90625 \nL 95.609375 72.90625 \nL 77.296875 0 \nL 64.890625 0 \nL 49.515625 63.28125 \nL 33.984375 0 \nL 21.578125 0 \nz\n\" id=\"DejaVuSans-87\"/>\n    </defs>\n    <g transform=\"translate(54.4775 176.34975)scale(0.12 -0.12)\">\n     <use xlink:href=\"#DejaVuSans-32\"/>\n     <use x=\"31.787109\" xlink:href=\"#DejaVuSans-40\"/>\n     <use x=\"70.800781\" xlink:href=\"#DejaVuSans-83\"/>\n     <use x=\"134.277344\" xlink:href=\"#DejaVuSans-111\"/>\n     <use x=\"195.458984\" xlink:href=\"#DejaVuSans-114\"/>\n     <use x=\"236.572266\" xlink:href=\"#DejaVuSans-32\"/>\n     <use x=\"268.359375\" xlink:href=\"#DejaVuSans-60\"/>\n     <use x=\"352.148438\" xlink:href=\"#DejaVuSans-32\"/>\n     <use x=\"383.935547\" xlink:href=\"#DejaVuSans-87\"/>\n     <use x=\"482.8125\" xlink:href=\"#DejaVuSans-84\"/>\n     <use x=\"543.896484\" xlink:href=\"#DejaVuSans-41\"/>\n    </g>\n   </g>\n   <g id=\"text_17\">\n    <!-- p &lt; 10^-15 -->\n    <g transform=\"translate(495.2975 162.912375)scale(0.12 -0.12)\">\n     <use xlink:href=\"#DejaVuSans-112\"/>\n     <use x=\"63.476562\" xlink:href=\"#DejaVuSans-32\"/>\n     <use x=\"95.263672\" xlink:href=\"#DejaVuSans-60\"/>\n     <use x=\"179.052734\" xlink:href=\"#DejaVuSans-32\"/>\n     <use x=\"210.839844\" xlink:href=\"#DejaVuSans-49\"/>\n     <use x=\"274.462891\" xlink:href=\"#DejaVuSans-48\"/>\n     <use x=\"338.085938\" xlink:href=\"#DejaVuSans-94\"/>\n     <use x=\"421.875\" xlink:href=\"#DejaVuSans-45\"/>\n     <use x=\"457.958984\" xlink:href=\"#DejaVuSans-49\"/>\n     <use x=\"521.582031\" xlink:href=\"#DejaVuSans-53\"/>\n    </g>\n    <!--  (Nipbl &gt; WT) -->\n    <defs>\n     <path d=\"M 9.8125 72.90625 \nL 23.09375 72.90625 \nL 55.421875 11.921875 \nL 55.421875 72.90625 \nL 64.984375 72.90625 \nL 64.984375 0 \nL 51.703125 0 \nL 19.390625 60.984375 \nL 19.390625 0 \nL 9.8125 0 \nz\n\" id=\"DejaVuSans-78\"/>\n     <path d=\"M 48.6875 27.296875 \nQ 48.6875 37.203125 44.609375 42.84375 \nQ 40.53125 48.484375 33.40625 48.484375 \nQ 26.265625 48.484375 22.1875 42.84375 \nQ 18.109375 37.203125 18.109375 27.296875 \nQ 18.109375 17.390625 22.1875 11.75 \nQ 26.265625 6.109375 33.40625 6.109375 \nQ 40.53125 6.109375 44.609375 11.75 \nQ 48.6875 17.390625 48.6875 27.296875 \nz\nM 18.109375 46.390625 \nQ 20.953125 51.265625 25.265625 53.625 \nQ 29.59375 56 35.59375 56 \nQ 45.5625 56 51.78125 48.09375 \nQ 58.015625 40.1875 58.015625 27.296875 \nQ 58.015625 14.40625 51.78125 6.484375 \nQ 45.5625 -1.421875 35.59375 -1.421875 \nQ 29.59375 -1.421875 25.265625 0.953125 \nQ 20.953125 3.328125 18.109375 8.203125 \nL 18.109375 0 \nL 9.078125 0 \nL 9.078125 75.984375 \nL 18.109375 75.984375 \nz\n\" id=\"DejaVuSans-98\"/>\n     <path d=\"M 10.59375 49.21875 \nL 10.59375 58.109375 \nL 73.1875 35.40625 \nL 73.1875 27.296875 \nL 10.59375 4.59375 \nL 10.59375 13.484375 \nL 60.890625 31.296875 \nz\n\" id=\"DejaVuSans-62\"/>\n    </defs>\n    <g transform=\"translate(495.2975 176.34975)scale(0.12 -0.12)\">\n     <use xlink:href=\"#DejaVuSans-32\"/>\n     <use x=\"31.787109\" xlink:href=\"#DejaVuSans-40\"/>\n     <use x=\"70.800781\" xlink:href=\"#DejaVuSans-78\"/>\n     <use x=\"145.605469\" xlink:href=\"#DejaVuSans-105\"/>\n     <use x=\"173.388672\" xlink:href=\"#DejaVuSans-112\"/>\n     <use x=\"236.865234\" xlink:href=\"#DejaVuSans-98\"/>\n     <use x=\"300.341797\" xlink:href=\"#DejaVuSans-108\"/>\n     <use x=\"328.125\" xlink:href=\"#DejaVuSans-32\"/>\n     <use x=\"359.912109\" xlink:href=\"#DejaVuSans-62\"/>\n     <use x=\"443.701172\" xlink:href=\"#DejaVuSans-32\"/>\n     <use x=\"475.488281\" xlink:href=\"#DejaVuSans-87\"/>\n     <use x=\"574.365234\" xlink:href=\"#DejaVuSans-84\"/>\n     <use x=\"635.449219\" xlink:href=\"#DejaVuSans-41\"/>\n    </g>\n   </g>\n   <g id=\"text_18\">\n    <!-- Trans ICCF values at TAD boundaries -->\n    <defs>\n     <path d=\"M 2.984375 54.6875 \nL 12.5 54.6875 \nL 29.59375 8.796875 \nL 46.6875 54.6875 \nL 56.203125 54.6875 \nL 35.6875 0 \nL 23.484375 0 \nz\n\" id=\"DejaVuSans-118\"/>\n     <path d=\"M 8.5 21.578125 \nL 8.5 54.6875 \nL 17.484375 54.6875 \nL 17.484375 21.921875 \nQ 17.484375 14.15625 20.5 10.265625 \nQ 23.53125 6.390625 29.59375 6.390625 \nQ 36.859375 6.390625 41.078125 11.03125 \nQ 45.3125 15.671875 45.3125 23.6875 \nL 45.3125 54.6875 \nL 54.296875 54.6875 \nL 54.296875 0 \nL 45.3125 0 \nL 45.3125 8.40625 \nQ 42.046875 3.421875 37.71875 1 \nQ 33.40625 -1.421875 27.6875 -1.421875 \nQ 18.265625 -1.421875 13.375 4.4375 \nQ 8.5 10.296875 8.5 21.578125 \nz\nM 31.109375 56 \nz\n\" id=\"DejaVuSans-117\"/>\n     <path d=\"M 34.1875 63.1875 \nL 20.796875 26.90625 \nL 47.609375 26.90625 \nz\nM 28.609375 72.90625 \nL 39.796875 72.90625 \nL 67.578125 0 \nL 57.328125 0 \nL 50.6875 18.703125 \nL 17.828125 18.703125 \nL 11.1875 0 \nL 0.78125 0 \nz\n\" id=\"DejaVuSans-65\"/>\n     <path d=\"M 45.40625 46.390625 \nL 45.40625 75.984375 \nL 54.390625 75.984375 \nL 54.390625 0 \nL 45.40625 0 \nL 45.40625 8.203125 \nQ 42.578125 3.328125 38.25 0.953125 \nQ 33.9375 -1.421875 27.875 -1.421875 \nQ 17.96875 -1.421875 11.734375 6.484375 \nQ 5.515625 14.40625 5.515625 27.296875 \nQ 5.515625 40.1875 11.734375 48.09375 \nQ 17.96875 56 27.875 56 \nQ 33.9375 56 38.25 53.625 \nQ 42.578125 51.265625 45.40625 46.390625 \nz\nM 14.796875 27.296875 \nQ 14.796875 17.390625 18.875 11.75 \nQ 22.953125 6.109375 30.078125 6.109375 \nQ 37.203125 6.109375 41.296875 11.75 \nQ 45.40625 17.390625 45.40625 27.296875 \nQ 45.40625 37.203125 41.296875 42.84375 \nQ 37.203125 48.484375 30.078125 48.484375 \nQ 22.953125 48.484375 18.875 42.84375 \nQ 14.796875 37.203125 14.796875 27.296875 \nz\n\" id=\"DejaVuSans-100\"/>\n    </defs>\n    <g transform=\"translate(194.329625 18.14175)scale(0.144 -0.144)\">\n     <use xlink:href=\"#DejaVuSans-84\"/>\n     <use x=\"60.865234\" xlink:href=\"#DejaVuSans-114\"/>\n     <use x=\"101.978516\" xlink:href=\"#DejaVuSans-97\"/>\n     <use x=\"163.257812\" xlink:href=\"#DejaVuSans-110\"/>\n     <use x=\"226.636719\" xlink:href=\"#DejaVuSans-115\"/>\n     <use x=\"278.736328\" xlink:href=\"#DejaVuSans-32\"/>\n     <use x=\"310.523438\" xlink:href=\"#DejaVuSans-73\"/>\n     <use x=\"340.015625\" xlink:href=\"#DejaVuSans-67\"/>\n     <use x=\"409.839844\" xlink:href=\"#DejaVuSans-67\"/>\n     <use x=\"479.664062\" xlink:href=\"#DejaVuSans-70\"/>\n     <use x=\"537.183594\" xlink:href=\"#DejaVuSans-32\"/>\n     <use x=\"568.970703\" xlink:href=\"#DejaVuSans-118\"/>\n     <use x=\"628.150391\" xlink:href=\"#DejaVuSans-97\"/>\n     <use x=\"689.429688\" xlink:href=\"#DejaVuSans-108\"/>\n     <use x=\"717.212891\" xlink:href=\"#DejaVuSans-117\"/>\n     <use x=\"780.591797\" xlink:href=\"#DejaVuSans-101\"/>\n     <use x=\"842.115234\" xlink:href=\"#DejaVuSans-115\"/>\n     <use x=\"894.214844\" xlink:href=\"#DejaVuSans-32\"/>\n     <use x=\"926.001953\" xlink:href=\"#DejaVuSans-97\"/>\n     <use x=\"987.28125\" xlink:href=\"#DejaVuSans-116\"/>\n     <use x=\"1026.490234\" xlink:href=\"#DejaVuSans-32\"/>\n     <use x=\"1058.277344\" xlink:href=\"#DejaVuSans-84\"/>\n     <use x=\"1119.251953\" xlink:href=\"#DejaVuSans-65\"/>\n     <use x=\"1187.660156\" xlink:href=\"#DejaVuSans-68\"/>\n     <use x=\"1264.662109\" xlink:href=\"#DejaVuSans-32\"/>\n     <use x=\"1296.449219\" xlink:href=\"#DejaVuSans-98\"/>\n     <use x=\"1359.925781\" xlink:href=\"#DejaVuSans-111\"/>\n     <use x=\"1421.107422\" xlink:href=\"#DejaVuSans-117\"/>\n     <use x=\"1484.486328\" xlink:href=\"#DejaVuSans-110\"/>\n     <use x=\"1547.865234\" xlink:href=\"#DejaVuSans-100\"/>\n     <use x=\"1611.341797\" xlink:href=\"#DejaVuSans-97\"/>\n     <use x=\"1672.621094\" xlink:href=\"#DejaVuSans-114\"/>\n     <use x=\"1713.734375\" xlink:href=\"#DejaVuSans-105\"/>\n     <use x=\"1741.517578\" xlink:href=\"#DejaVuSans-101\"/>\n     <use x=\"1803.041016\" xlink:href=\"#DejaVuSans-115\"/>\n    </g>\n   </g>\n   <g id=\"legend_1\">\n    <g id=\"patch_8\">\n     <path d=\"M 455.135 86.583 \nL 598.4975 86.583 \nQ 600.8975 86.583 600.8975 84.183 \nL 600.8975 32.54175 \nQ 600.8975 30.14175 598.4975 30.14175 \nL 455.135 30.14175 \nQ 452.735 30.14175 452.735 32.54175 \nL 452.735 84.183 \nQ 452.735 86.583 455.135 86.583 \nz\n\" style=\"fill:#ffffff;opacity:0.8;stroke:#cccccc;stroke-linejoin:miter;\"/>\n    </g>\n    <g id=\"patch_9\">\n     <path d=\"M 457.535 44.059875 \nL 481.535 44.059875 \nL 481.535 35.659875 \nL 457.535 35.659875 \nz\n\" style=\"fill:none;stroke:#000000;stroke-linejoin:miter;stroke-width:4;\"/>\n    </g>\n    <g id=\"text_19\">\n     <!-- WT -->\n     <g transform=\"translate(491.135 44.059875)scale(0.12 -0.12)\">\n      <use xlink:href=\"#DejaVuSans-87\"/>\n      <use x=\"98.876953\" xlink:href=\"#DejaVuSans-84\"/>\n     </g>\n    </g>\n    <g id=\"patch_10\">\n     <path d=\"M 457.535 61.673625 \nL 481.535 61.673625 \nL 481.535 53.273625 \nL 457.535 53.273625 \nz\n\" style=\"fill:none;stroke:#ff0000;stroke-linejoin:miter;stroke-width:4;\"/>\n    </g>\n    <g id=\"text_20\">\n     <!-- Nipbl-AID wAux -->\n     <defs>\n      <path d=\"M 4.203125 54.6875 \nL 13.1875 54.6875 \nL 24.421875 12.015625 \nL 35.59375 54.6875 \nL 46.1875 54.6875 \nL 57.421875 12.015625 \nL 68.609375 54.6875 \nL 77.59375 54.6875 \nL 63.28125 0 \nL 52.6875 0 \nL 40.921875 44.828125 \nL 29.109375 0 \nL 18.5 0 \nz\n\" id=\"DejaVuSans-119\"/>\n      <path d=\"M 54.890625 54.6875 \nL 35.109375 28.078125 \nL 55.90625 0 \nL 45.3125 0 \nL 29.390625 21.484375 \nL 13.484375 0 \nL 2.875 0 \nL 24.125 28.609375 \nL 4.6875 54.6875 \nL 15.28125 54.6875 \nL 29.78125 35.203125 \nL 44.28125 54.6875 \nz\n\" id=\"DejaVuSans-120\"/>\n     </defs>\n     <g transform=\"translate(491.135 61.673625)scale(0.12 -0.12)\">\n      <use xlink:href=\"#DejaVuSans-78\"/>\n      <use x=\"74.804688\" xlink:href=\"#DejaVuSans-105\"/>\n      <use x=\"102.587891\" xlink:href=\"#DejaVuSans-112\"/>\n      <use x=\"166.064453\" xlink:href=\"#DejaVuSans-98\"/>\n      <use x=\"229.541016\" xlink:href=\"#DejaVuSans-108\"/>\n      <use x=\"257.324219\" xlink:href=\"#DejaVuSans-45\"/>\n      <use x=\"293.376953\" xlink:href=\"#DejaVuSans-65\"/>\n      <use x=\"361.785156\" xlink:href=\"#DejaVuSans-73\"/>\n      <use x=\"391.277344\" xlink:href=\"#DejaVuSans-68\"/>\n      <use x=\"468.279297\" xlink:href=\"#DejaVuSans-32\"/>\n      <use x=\"500.066406\" xlink:href=\"#DejaVuSans-119\"/>\n      <use x=\"581.853516\" xlink:href=\"#DejaVuSans-65\"/>\n      <use x=\"650.261719\" xlink:href=\"#DejaVuSans-117\"/>\n      <use x=\"713.640625\" xlink:href=\"#DejaVuSans-120\"/>\n     </g>\n    </g>\n    <g id=\"patch_11\">\n     <path d=\"M 457.535 79.287375 \nL 481.535 79.287375 \nL 481.535 70.887375 \nL 457.535 70.887375 \nz\n\" style=\"fill:none;stroke:#0000ff;stroke-linejoin:miter;stroke-width:4;\"/>\n    </g>\n    <g id=\"text_21\">\n     <!-- Sororin-AID wAux -->\n     <g transform=\"translate(491.135 79.287375)scale(0.12 -0.12)\">\n      <use xlink:href=\"#DejaVuSans-83\"/>\n      <use x=\"63.476562\" xlink:href=\"#DejaVuSans-111\"/>\n      <use x=\"124.658203\" xlink:href=\"#DejaVuSans-114\"/>\n      <use x=\"165.740234\" xlink:href=\"#DejaVuSans-111\"/>\n      <use x=\"226.921875\" xlink:href=\"#DejaVuSans-114\"/>\n      <use x=\"268.035156\" xlink:href=\"#DejaVuSans-105\"/>\n      <use x=\"295.818359\" xlink:href=\"#DejaVuSans-110\"/>\n      <use x=\"359.197266\" xlink:href=\"#DejaVuSans-45\"/>\n      <use x=\"395.25\" xlink:href=\"#DejaVuSans-65\"/>\n      <use x=\"463.658203\" xlink:href=\"#DejaVuSans-73\"/>\n      <use x=\"493.150391\" xlink:href=\"#DejaVuSans-68\"/>\n      <use x=\"570.152344\" xlink:href=\"#DejaVuSans-32\"/>\n      <use x=\"601.939453\" xlink:href=\"#DejaVuSans-119\"/>\n      <use x=\"683.726562\" xlink:href=\"#DejaVuSans-65\"/>\n      <use x=\"752.134766\" xlink:href=\"#DejaVuSans-117\"/>\n      <use x=\"815.513672\" xlink:href=\"#DejaVuSans-120\"/>\n     </g>\n    </g>\n   </g>\n  </g>\n </g>\n <defs>\n  <clipPath id=\"pd9c5c91718\">\n   <rect height=\"380.52\" width=\"558\" x=\"48.8975\" y=\"24.14175\"/>\n  </clipPath>\n </defs>\n</svg>\n",
      "text/plain": "<Figure size 720x504 with 1 Axes>"
     },
     "metadata": {
      "needs_background": "light"
     },
     "output_type": "display_data"
    }
   ],
   "source": [
    "# perform ttest\n",
    "\n",
    "sSor, pSor = mannwhitneyu(sororinPairICCF[\"trans\"][\"PairingScore\"], wtPairICCF[\"trans\"][\"PairingScore\"], alternative=\"two-sided\")\n",
    "try:\n",
    "    orderOfMagSor = int(np.log10(pSor))\n",
    "except OverflowError:\n",
    "    # in case p-value is closer to 0 than the precision limit of np.float64\n",
    "    orderOfMagSor = -15\n",
    "\n",
    "sNipbl, pNipbl = mannwhitneyu(nipblPairICCF[\"trans\"][\"PairingScore\"], wtPairICCF[\"trans\"][\"PairingScore\"], alternative=\"two-sided\")\n",
    "try:\n",
    "    orderOfMagNipbl = int(np.log10(pNipbl))\n",
    "except OverflowError:\n",
    "    # in case p-value is closer to 0 than the precision limit of np.float64\n",
    "    orderOfMagSor = -15\n",
    "\n",
    "\n",
    "f, ax = plt.subplots()\n",
    "ax.hist(wtPairICCF[\"trans\"][\"log2Pair\"], density=True, bins=40, range=(-14, -7), histtype=\"step\", color=\"black\", lw=4, label=\"WT\")\n",
    "ax.hist(nipblPairICCF[\"trans\"][\"log2Pair\"], density=True, bins=40, range=(-14, -7), histtype=\"step\", color=\"red\", lw=4, label=\"Nipbl-AID wAux\")\n",
    "ax.hist(sororinPairICCF[\"trans\"][\"log2Pair\"], density=True, bins=40, range=(-14, -7), histtype=\"step\", color=\"blue\", lw=4, label=\"Sororin-AID wAux\")\n",
    "ax.set(xlabel=\"log2(Trans ICCF)\", ylabel=\"Density\", title=\"Trans ICCF values at TAD boundaries\")\n",
    "ax.text(0.01, 0.6, f\"p < 10^{orderOfMag}\\n (Sor < WT)\", transform=ax.transAxes)\n",
    "ax.text(0.8, 0.6, f\"p < 10^{orderOfMag}\\n (Nipbl > WT)\", transform=ax.transAxes)\n",
    "ax.legend()\n",
    "sbn.despine()\n",
    "f.set_size_inches(10, 7)\n",
    "plt.show()"
   ]
  },
  {
   "cell_type": "markdown",
   "metadata": {},
   "source": [
    "## save result"
   ]
  },
  {
   "cell_type": "code",
   "execution_count": 37,
   "metadata": {},
   "outputs": [],
   "source": [
    "resultsdir = \"/groups/gerlich/experiments/Experiments_004800/004869/Results\"\n",
    "f.savefig(os.path.join(resultsdir, \"ICCF_comp_Sor_Nipbl_WT.png\"), bbox_inches=\"tight\")\n",
    "f.savefig(os.path.join(resultsdir, \"ICCF_comp_Sor_Nipbl_WT.pdf\"), bbox_inches=\"tight\")"
   ]
  },
  {
   "cell_type": "code",
   "execution_count": null,
   "metadata": {},
   "outputs": [],
   "source": []
  }
 ]
}